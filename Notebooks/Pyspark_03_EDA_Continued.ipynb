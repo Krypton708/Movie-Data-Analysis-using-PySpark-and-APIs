{
  "cells": [
    {
      "cell_type": "code",
      "source": [
        "from pyspark.sql import SparkSession\n",
        "\n",
        "spark = SparkSession.builder \\\n",
        "    .appName(\"ImportCSV\") \\\n",
        "    .getOrCreate()"
      ],
      "metadata": {
        "id": "A65LNK90es_X"
      },
      "execution_count": 4,
      "outputs": []
    },
    {
      "cell_type": "markdown",
      "source": [
        "Imported the preprocessed dataset and renamed the headers"
      ],
      "metadata": {
        "id": "NE66VaeyjaqT"
      }
    },
    {
      "cell_type": "code",
      "source": [
        "headers = ['id', 'title', 'tagline', 'release_date', 'genres', 'belongs_to_collection',\n",
        "                     'original_language', 'budget_musd', 'revenue_musd', 'production_companies',\n",
        "                     'production_countries', 'vote_count', 'vote_average', 'popularity', 'runtime',\n",
        "                     'overview', 'spoken_languages', 'poster_path', 'cast', 'cast_size', 'director', 'crew_size']\n",
        "\n",
        "df = spark.read.csv(\"/content/Final_preprocessed_data.csv\", header=False, inferSchema=True)\n",
        "\n",
        "for old_name, new_name in zip(df.columns, headers):\n",
        "    df = df.withColumnRenamed(old_name, new_name)\n",
        "\n",
        "df.show()"
      ],
      "metadata": {
        "colab": {
          "base_uri": "https://localhost:8080/"
        },
        "id": "l4fDMMWKibgE",
        "outputId": "c130db3d-e825-49a7-aa35-e00f111feeee"
      },
      "execution_count": 3,
      "outputs": [
        {
          "output_type": "stream",
          "name": "stdout",
          "text": [
            "+------+--------------------+--------------------+------------+--------------------+---------------------+-----------------+-----------+------------+--------------------+--------------------+----------+------------+----------+-------+--------------------+--------------------+--------------------+--------------------+---------+---------------+---------+\n",
            "|    id|               title|             tagline|release_date|              genres|belongs_to_collection|original_language|budget_musd|revenue_musd|production_companies|production_countries|vote_count|vote_average|popularity|runtime|            overview|    spoken_languages|         poster_path|                cast|cast_size|       director|crew_size|\n",
            "+------+--------------------+--------------------+------------+--------------------+---------------------+-----------------+-----------+------------+--------------------+--------------------+----------+------------+----------+-------+--------------------+--------------------+--------------------+--------------------+---------+---------------+---------+\n",
            "|168259|           Furious 7|Vengeance hits home.|  01/04/2015|Action|Thriller|C...| The Fast and the ...|               en|        190|      1515.4|Original Film|One...|United States of ...|     10779|       7.226|   15.1569|    137|Deckard Shaw seek...|Arabic|English|Sp...|/wurKlC3VKUgcfsn0...|Vin Diesel|Paul W...|       48|      James Wan|      223|\n",
            "|299536|Avengers: Infinit...|Destiny arrives a...|  25/04/2018|Adventure|Action|...| The Avengers Coll...|               en|        300| 2052.415039|      Marvel Studios|United States of ...|     30442|       8.235|  110.6769|    149|As the Avengers a...|       English|Xhosa|/7WsyChQLEftFiDOV...|Robert Downey Jr....|       69|      Joe Russo|      724|\n",
            "| 19995|              Avatar|Enter the world o...|  15/12/2009|Action|Adventure|...|    Avatar Collection|               en|        237| 2923.706026|Dune Entertainmen...|United States of ...|     32166|       7.588|   27.7054|    162|In the 22nd centu...|     English|Spanish|/kyeqWdyUXW608qlY...|Sam Worthington|Z...|       65|  James Cameron|      986|\n",
            "|140607|Star Wars: The Fo...|Every generation ...|  15/12/2015|Adventure|Action|...| Star Wars Collection|               en|        245| 2068.223624|Lucasfilm Ltd.|Ba...|United States of ...|     19699|       7.261|   16.3522|    136|Thirty years afte...|             English|/wqnLdwVXoBjKibFR...|Harrison Ford|Mar...|      182|    J.J. Abrams|      257|\n",
            "|135397|      Jurassic World|   The park is open.|  06/06/2015|Action|Adventure|...| Jurassic Park Col...|               en|        150| 1671.537444|Amblin Entertainm...|United States of ...|     20652|       6.693|     17.34|    124|Twenty-two years ...|             English|/rhr4y79GpxQF9Isf...|Chris Pratt|Bryce...|       52|Colin Trevorrow|      423|\n",
            "| 24428|        The Avengers|Some assembly req...|  25/04/2012|Science Fiction|A...| The Avengers Coll...|               en|        220| 1518.815515|      Marvel Studios|United States of ...|     31639|       7.741|   36.0158|    143|When an unexpecte...|English|Hindi|Rus...|/RYMX2wcKCBAr24Uy...|Robert Downey Jr....|      112|    Joss Whedon|      631|\n",
            "|420818|       The Lion King|The king has retu...|  12/07/2019|Adventure|Drama|F...| The Lion King (Re...|               en|        260| 1662.020819|Walt Disney Pictu...|United States of ...|     10325|        7.11|   79.3952|    118|Simba idolizes hi...|             English|/dzBtMocZuJbjLOXv...|Chiwetel Ejiofor|...|       20|    Jon Favreau|       45|\n",
            "|299534|   Avengers: Endgame|  Avenge the fallen.|  24/04/2019|Adventure|Science...| The Avengers Coll...|               en|        356|   2799.4391|      Marvel Studios|United States of ...|     26258|       8.237|   63.2407|    181|After the devasta...|English|Japanese|...|/ulzhLuWrPK07P1Yk...|Robert Downey Jr....|      105|      Joe Russo|      593|\n",
            "| 99861|Avengers: Age of ...| A new age has come.|  22/04/2015|Action|Adventure|...| The Avengers Coll...|               en|        365| 1405.403694|      Marvel Studios|United States of ...|     23374|       7.271|   24.9273|    141|When Tony Stark t...|             English|/4ssDuvEDkSArWEdy...|Robert Downey Jr....|       72|    Joss Whedon|      636|\n",
            "|351286|Jurassic World: F...|   The park is gone.|  06/06/2018|Action|Adventure|...| Jurassic Park Col...|               en|        170| 1310.466296|Amblin Entertainm...|United States of ...|     12023|       6.538|    57.162|    129|Three years after...|     English|Russian|/270MrJNqJovumHXG...|Chris Pratt|Bryce...|       39|    J.A. Bayona|      381|\n",
            "|284054|       Black Panther| Long live the king.|  13/02/2018|Action|Adventure|...| Black Panther Col...|               en|        200| 1349.926083|      Marvel Studios|United States of ...|     22516|       7.373|   72.9206|    135|King T'Challa ret...|English|Korean|Sw...|/uxzzxijgPIY7slzF...|Chadwick Boseman|...|       66|   Ryan Coogler|      557|\n",
            "|260513|       Incredibles 2|It's been too lon...|  14/06/2018|Action|Adventure|...| The Incredibles C...|               en|        200| 1242.805359|Walt Disney Pictu...|United States of ...|     13039|       7.455|   10.4127|    118|Elastigirl spring...|             English|/9lFKBtaVIhP7E2Pk...|Craig T. Nelson|H...|       48|      Brad Bird|      259|\n",
            "|109445|              Frozen|Only the act of t...|  20/11/2013|Animation|Family|...|    Frozen Collection|               en|        150| 1274.219009|Walt Disney Pictu...|United States of ...|     16819|       7.247|   20.8509|    102|Young princess An...|             English|/m4uhSpErBKprhscl...|Kristen Bell|Idin...|       60|     Chris Buck|      284|\n",
            "|330457|           Frozen II|The past is not w...|  20/11/2019|Family|Animation|...|    Frozen Collection|               en|        150| 1453.683476|Walt Disney Pictu...|United States of ...|      9884|       7.249|   13.7765|    103|Elsa, Anna, Krist...|             English|/mINJaa34MtknCYl5...|Kristen Bell|Idin...|       64|   Jennifer Lee|       39|\n",
            "| 12445|Harry Potter and ...|        It all ends.|  12/07/2011|   Fantasy|Adventure| Harry Potter Coll...|               en|        125| 1341.511219|Warner Bros. Pict...|United Kingdom|Un...|     20978|       8.087|   19.8878|    130|Harry, Ron and He...|             English|/c54HpQmuwXjHq2C9...|Daniel Radcliffe|...|      104|    David Yates|      154|\n",
            "|181808|Star Wars: The La...|Darkness rises......|  13/12/2017|Adventure|Action|...| Star Wars Collection|               en|        200|  1332.69883|      Lucasfilm Ltd.|United States of ...|     15559|       6.778|   74.7713|    152|Rey develops her ...|             English|/kOVEVeg59E0wsnXm...|Mark Hamill|Carri...|      110|   Rian Johnson|      213|\n",
            "+------+--------------------+--------------------+------------+--------------------+---------------------+-----------------+-----------+------------+--------------------+--------------------+----------+------------+----------+-------+--------------------+--------------------+--------------------+--------------------+---------+---------------+---------+\n",
            "\n"
          ]
        }
      ]
    },
    {
      "cell_type": "markdown",
      "source": [
        "# Exploratory Data Analysis"
      ],
      "metadata": {
        "id": "uDIGmY-3UTzC"
      }
    },
    {
      "cell_type": "markdown",
      "source": [
        "Identifying the Best and Worst Performing Movies based on key metrics"
      ],
      "metadata": {
        "id": "JdYXhkr9UvsO"
      }
    },
    {
      "cell_type": "markdown",
      "source": [
        "Creating a UDF to streamline ranking operations"
      ],
      "metadata": {
        "id": "atqJkNxej7cN"
      }
    },
    {
      "cell_type": "code",
      "source": [
        "def rank_movies(df, column, ascending=False, filter_condition=None, n=10):\n",
        "    \"\"\"\n",
        "    Rank movies based on a column with optional filtering\n",
        "    \"\"\"\n",
        "    if filter_condition:\n",
        "        filtered_data = df.filter(filter_condition)\n",
        "    else:\n",
        "        filtered_data= df\n",
        "\n",
        "    if ascending:\n",
        "        ranked_data = filtered_data.orderBy(col(column).asc())\n",
        "    else:\n",
        "        ranked_data = filtered_data.orderBy(col(column).desc())\n",
        "\n",
        "    return ranked_data.limit(n)"
      ],
      "metadata": {
        "id": "S2bAPPEjVWaf"
      },
      "execution_count": 5,
      "outputs": []
    },
    {
      "cell_type": "markdown",
      "source": [
        "Top Rated Movies based on Key Performance Indicators (KPIs)"
      ],
      "metadata": {
        "id": "cTbUBPnFkOQ7"
      }
    },
    {
      "cell_type": "code",
      "source": [
        "# Displaying top 10 ranked movies based on Highest Revenue\n",
        "# The UDF was called to perform this action\n",
        "\n",
        "from pyspark.sql.functions import col\n",
        "highest_revenue = rank_movies(df, \"revenue_musd\")\n",
        "highest_revenue.select(\"title\", \"revenue_musd\").show(10)"
      ],
      "metadata": {
        "colab": {
          "base_uri": "https://localhost:8080/"
        },
        "id": "r9VxrRSzV63c",
        "outputId": "88bee21a-bc25-4d3d-9ce9-47eba0bc5c3a"
      },
      "execution_count": 8,
      "outputs": [
        {
          "output_type": "stream",
          "name": "stdout",
          "text": [
            "+--------------------+------------+\n",
            "|               title|revenue_musd|\n",
            "+--------------------+------------+\n",
            "|              Avatar| 2923.706026|\n",
            "|   Avengers: Endgame|   2799.4391|\n",
            "|Star Wars: The Fo...| 2068.223624|\n",
            "|Avengers: Infinit...| 2052.415039|\n",
            "|      Jurassic World| 1671.537444|\n",
            "|       The Lion King| 1662.020819|\n",
            "|        The Avengers| 1518.815515|\n",
            "|           Furious 7|      1515.4|\n",
            "|           Frozen II| 1453.683476|\n",
            "|Avengers: Age of ...| 1405.403694|\n",
            "+--------------------+------------+\n",
            "\n"
          ]
        }
      ]
    },
    {
      "cell_type": "code",
      "source": [
        "# Ranking movies based on Highest Budget\n",
        "highest_budget = rank_movies(df, \"budget_musd\", ascending=False)\n",
        "highest_budget.select(\"title\", \"budget_musd\").show(10)"
      ],
      "metadata": {
        "colab": {
          "base_uri": "https://localhost:8080/"
        },
        "id": "_LZRJpBWVUHb",
        "outputId": "b6c0d983-bd18-4b32-f5e5-d1a9ab283c63"
      },
      "execution_count": 9,
      "outputs": [
        {
          "output_type": "stream",
          "name": "stdout",
          "text": [
            "+--------------------+-----------+\n",
            "|               title|budget_musd|\n",
            "+--------------------+-----------+\n",
            "|Avengers: Age of ...|        365|\n",
            "|   Avengers: Endgame|        356|\n",
            "|Avengers: Infinit...|        300|\n",
            "|       The Lion King|        260|\n",
            "|Star Wars: The Fo...|        245|\n",
            "|              Avatar|        237|\n",
            "|        The Avengers|        220|\n",
            "|       Black Panther|        200|\n",
            "|       Incredibles 2|        200|\n",
            "|Star Wars: The La...|        200|\n",
            "+--------------------+-----------+\n",
            "\n"
          ]
        }
      ]
    },
    {
      "cell_type": "code",
      "source": [
        "# Ranked movies based on Highest Profit by deducting the budget amount from the Revenue generated.\n",
        "df = df.withColumn(\"profit_musd\", col(\"revenue_musd\") - col(\"budget_musd\"))\n",
        "highest_profit = rank_movies(df, \"profit_musd\")\n",
        "highest_profit.select(\"title\", \"profit_musd\").show()"
      ],
      "metadata": {
        "colab": {
          "base_uri": "https://localhost:8080/"
        },
        "id": "envkzTEbXDEr",
        "outputId": "4c35b914-534d-43a5-b36b-2d4645df79ab"
      },
      "execution_count": 10,
      "outputs": [
        {
          "output_type": "stream",
          "name": "stdout",
          "text": [
            "+--------------------+------------------+\n",
            "|               title|       profit_musd|\n",
            "+--------------------+------------------+\n",
            "|              Avatar|       2686.706026|\n",
            "|   Avengers: Endgame|         2443.4391|\n",
            "|Star Wars: The Fo...|1823.2236240000002|\n",
            "|Avengers: Infinit...|       1752.415039|\n",
            "|      Jurassic World|       1521.537444|\n",
            "|       The Lion King|       1402.020819|\n",
            "|           Furious 7|            1325.4|\n",
            "|           Frozen II|       1303.683476|\n",
            "|        The Avengers|       1298.815515|\n",
            "|Harry Potter and ...|       1216.511219|\n",
            "+--------------------+------------------+\n",
            "\n"
          ]
        }
      ]
    },
    {
      "cell_type": "markdown",
      "source": [
        "**Low Profit Movies:** The *rank_movies* function created above, orders the profit column in descending order, then shows the last 10 movie titles at the bottom."
      ],
      "metadata": {
        "id": "8WvGRvHalIXP"
      }
    },
    {
      "cell_type": "code",
      "source": [
        "df = df.withColumn(\"profit_musd\", col(\"revenue_musd\") - col(\"budget_musd\"))\n",
        "lowest_profit = rank_movies(df, \"profit_musd\", ascending=True)\n",
        "lowest_profit.select(\"title\", \"profit_musd\").show()"
      ],
      "metadata": {
        "colab": {
          "base_uri": "https://localhost:8080/"
        },
        "id": "ZitKYfsyltWS",
        "outputId": "1a052d01-4307-4ba5-c87d-ac659cd5bdbe"
      },
      "execution_count": 11,
      "outputs": [
        {
          "output_type": "stream",
          "name": "stdout",
          "text": [
            "+--------------------+-----------+\n",
            "|               title|profit_musd|\n",
            "+--------------------+-----------+\n",
            "|Avengers: Age of ...|1040.403694|\n",
            "|       Incredibles 2|1042.805359|\n",
            "|              Frozen|1124.219009|\n",
            "|Star Wars: The La...| 1132.69883|\n",
            "|Jurassic World: F...|1140.466296|\n",
            "|       Black Panther|1149.926083|\n",
            "|Harry Potter and ...|1216.511219|\n",
            "|        The Avengers|1298.815515|\n",
            "|           Frozen II|1303.683476|\n",
            "|           Furious 7|     1325.4|\n",
            "+--------------------+-----------+\n",
            "\n"
          ]
        }
      ]
    },
    {
      "cell_type": "markdown",
      "source": [
        "ROI for each movie title is calculated, a filter is applied to the budget_musd column to calculate the ROI for movies whose budget are less or equal to 10M."
      ],
      "metadata": {
        "id": "ucraFg0amc15"
      }
    },
    {
      "cell_type": "code",
      "source": [
        "# Highest ROI\n",
        "df.filter(col(\"budget_musd\") >= 10).select(col(\"title\"), (col(\"revenue_musd\") / col(\"budget_musd\")).alias(\"ROI\")).orderBy(col(\"ROI\").desc()).show(5)"
      ],
      "metadata": {
        "colab": {
          "base_uri": "https://localhost:8080/"
        },
        "id": "E2goj1vzjpj0",
        "outputId": "010b997c-9711-4189-8c81-c49ac7091867"
      },
      "execution_count": 12,
      "outputs": [
        {
          "output_type": "stream",
          "name": "stdout",
          "text": [
            "+--------------------+-----------------+\n",
            "|               title|              ROI|\n",
            "+--------------------+-----------------+\n",
            "|              Avatar|12.33631234599156|\n",
            "|      Jurassic World|      11.14358296|\n",
            "|Harry Potter and ...|     10.732089752|\n",
            "|           Frozen II|9.691223173333332|\n",
            "|              Frozen|8.494793393333333|\n",
            "+--------------------+-----------------+\n",
            "only showing top 5 rows\n",
            "\n"
          ]
        }
      ]
    },
    {
      "cell_type": "markdown",
      "source": [
        "Same thing in the 'Highest ROI' code block is applied here, but the ROI column was ordered in ascending order in order to display only the ROI of movies with Budget ≥ 10M."
      ],
      "metadata": {
        "id": "i4aI0EK0m_w1"
      }
    },
    {
      "cell_type": "code",
      "source": [
        "# Lowest ROI\n",
        "df.filter(col(\"budget_musd\") >= 10).select(col(\"title\"), (col(\"revenue_musd\") / col(\"budget_musd\")).alias(\"ROI\")).orderBy(col(\"ROI\").asc()).show(5)"
      ],
      "metadata": {
        "colab": {
          "base_uri": "https://localhost:8080/"
        },
        "id": "HZ23IuNYm0tT",
        "outputId": "b29c4816-44b6-439d-eb7e-320d337a84c6"
      },
      "execution_count": 13,
      "outputs": [
        {
          "output_type": "stream",
          "name": "stdout",
          "text": [
            "+--------------------+------------------+\n",
            "|               title|               ROI|\n",
            "+--------------------+------------------+\n",
            "|Avengers: Age of ...| 3.850421079452055|\n",
            "|       Incredibles 2|       6.214026795|\n",
            "|       The Lion King|6.3923877653846155|\n",
            "|Star Wars: The La...|        6.66349415|\n",
            "|       Black Panther|       6.749630415|\n",
            "+--------------------+------------------+\n",
            "only showing top 5 rows\n",
            "\n"
          ]
        }
      ]
    },
    {
      "cell_type": "markdown",
      "source": [
        "**Most Voted Movies**"
      ],
      "metadata": {
        "id": "NRs3bbigncP0"
      }
    },
    {
      "cell_type": "code",
      "source": [
        "# Most Voted Movies\n",
        "most_voted = rank_movies(df, \"vote_count\")\n",
        "most_voted.select(\"title\", \"vote_count\").show()"
      ],
      "metadata": {
        "colab": {
          "base_uri": "https://localhost:8080/"
        },
        "id": "e9CueRYPnnxS",
        "outputId": "0f99ae28-9ec1-4bb8-c663-5000b1586f10"
      },
      "execution_count": 14,
      "outputs": [
        {
          "output_type": "stream",
          "name": "stdout",
          "text": [
            "+--------------------+----------+\n",
            "|               title|vote_count|\n",
            "+--------------------+----------+\n",
            "|              Avatar|     32166|\n",
            "|        The Avengers|     31639|\n",
            "|Avengers: Infinit...|     30442|\n",
            "|   Avengers: Endgame|     26258|\n",
            "|Avengers: Age of ...|     23374|\n",
            "|       Black Panther|     22516|\n",
            "|Harry Potter and ...|     20978|\n",
            "|      Jurassic World|     20652|\n",
            "|Star Wars: The Fo...|     19699|\n",
            "|              Frozen|     16819|\n",
            "+--------------------+----------+\n",
            "\n"
          ]
        }
      ]
    },
    {
      "cell_type": "code",
      "source": [
        "# Highest Rated Movies\n",
        "highest_rated = rank_movies(df, \"vote_average\", ascending=False)\n",
        "highest_rated.select(\"title\", \"vote_average\").show()"
      ],
      "metadata": {
        "colab": {
          "base_uri": "https://localhost:8080/"
        },
        "id": "HXr3OshEsnWB",
        "outputId": "a79942d7-ab70-463e-8127-36448ae810f1"
      },
      "execution_count": 15,
      "outputs": [
        {
          "output_type": "stream",
          "name": "stdout",
          "text": [
            "+--------------------+------------+\n",
            "|               title|vote_average|\n",
            "+--------------------+------------+\n",
            "|   Avengers: Endgame|       8.237|\n",
            "|Avengers: Infinit...|       8.235|\n",
            "|Harry Potter and ...|       8.087|\n",
            "|        The Avengers|       7.741|\n",
            "|              Avatar|       7.588|\n",
            "|       Incredibles 2|       7.455|\n",
            "|       Black Panther|       7.373|\n",
            "|Avengers: Age of ...|       7.271|\n",
            "|Star Wars: The Fo...|       7.261|\n",
            "|           Frozen II|       7.249|\n",
            "+--------------------+------------+\n",
            "\n"
          ]
        }
      ]
    },
    {
      "cell_type": "code",
      "source": [
        "# Lowest Rated movies\n",
        "lowest_rated = rank_movies(df, \"vote_average\", ascending=True)\n",
        "lowest_rated.select(\"title\", \"vote_average\").show()"
      ],
      "metadata": {
        "colab": {
          "base_uri": "https://localhost:8080/"
        },
        "id": "SF3U2fvxtnL7",
        "outputId": "cb6b9dbb-551c-44bd-898d-d9d5dc42bc8e"
      },
      "execution_count": 16,
      "outputs": [
        {
          "output_type": "stream",
          "name": "stdout",
          "text": [
            "+--------------------+------------+\n",
            "|               title|vote_average|\n",
            "+--------------------+------------+\n",
            "|Jurassic World: F...|       6.538|\n",
            "|      Jurassic World|       6.693|\n",
            "|Star Wars: The La...|       6.778|\n",
            "|       The Lion King|        7.11|\n",
            "|           Furious 7|       7.226|\n",
            "|              Frozen|       7.247|\n",
            "|           Frozen II|       7.249|\n",
            "|Star Wars: The Fo...|       7.261|\n",
            "|Avengers: Age of ...|       7.271|\n",
            "|       Black Panther|       7.373|\n",
            "+--------------------+------------+\n",
            "\n"
          ]
        }
      ]
    },
    {
      "cell_type": "code",
      "source": [
        "# Most Popular Movies\n",
        "most_popular = rank_movies(df, \"popularity\")\n",
        "most_popular.select(\"title\", \"popularity\").show()"
      ],
      "metadata": {
        "colab": {
          "base_uri": "https://localhost:8080/"
        },
        "id": "b32gKwRztsZD",
        "outputId": "04e4173d-34aa-4ebf-a7ad-95c42222858b"
      },
      "execution_count": 17,
      "outputs": [
        {
          "output_type": "stream",
          "name": "stdout",
          "text": [
            "+--------------------+----------+\n",
            "|               title|popularity|\n",
            "+--------------------+----------+\n",
            "|Avengers: Infinit...|  110.6769|\n",
            "|       The Lion King|   79.3952|\n",
            "|Star Wars: The La...|   74.7713|\n",
            "|       Black Panther|   72.9206|\n",
            "|   Avengers: Endgame|   63.2407|\n",
            "|Jurassic World: F...|    57.162|\n",
            "|        The Avengers|   36.0158|\n",
            "|              Avatar|   27.7054|\n",
            "|Avengers: Age of ...|   24.9273|\n",
            "|              Frozen|   20.8509|\n",
            "+--------------------+----------+\n",
            "\n"
          ]
        }
      ]
    },
    {
      "cell_type": "markdown",
      "source": [
        "\n",
        "\n",
        "---\n",
        "\n"
      ],
      "metadata": {
        "id": "KwRHApsjuUCP"
      }
    },
    {
      "cell_type": "markdown",
      "source": [
        "# Advanced Movies Filtering and Search Queries"
      ],
      "metadata": {
        "id": "lVxjYLZ8uVXi"
      }
    },
    {
      "cell_type": "markdown",
      "source": [
        "Filtering the dataset based on specific queries"
      ],
      "metadata": {
        "id": "qXOkrelqubB8"
      }
    },
    {
      "cell_type": "markdown",
      "source": [
        "* Search 1"
      ],
      "metadata": {
        "id": "QHGUzrbA3SrF"
      }
    },
    {
      "cell_type": "code",
      "source": [
        "sci_fi_action_bruce = df.filter(col(\"genres\").like(\"Science Fiction\") &\n",
        "                                  col(\"genres\").like(\"%Action%\") &\n",
        "                                  col(\"cast\").like(\"%Bruce Willis%\")\n",
        "                                  ).orderBy(col(\"vote_average\").desc())\n",
        "sci_fi_action_bruce.select(\"title\", \"vote_average\", \"genres\", \"cast\").show(truncate=False)"
      ],
      "metadata": {
        "colab": {
          "base_uri": "https://localhost:8080/"
        },
        "id": "HItdSNc_2-SO",
        "outputId": "83d33479-292f-4b73-c3a0-ddf4d340266f"
      },
      "execution_count": 18,
      "outputs": [
        {
          "output_type": "stream",
          "name": "stdout",
          "text": [
            "+-----+------------+------+----+\n",
            "|title|vote_average|genres|cast|\n",
            "+-----+------------+------+----+\n",
            "+-----+------------+------+----+\n",
            "\n"
          ]
        }
      ]
    },
    {
      "cell_type": "markdown",
      "source": [
        "* Search 2"
      ],
      "metadata": {
        "id": "Uo8ovHrv3WUu"
      }
    },
    {
      "cell_type": "code",
      "source": [
        "uma_quentin_movies = df.filter((col(\"cast\").like(\"Uma Thurman\")) & (col(\"director\") == \"Quentin Tarantino\")).orderBy(col(\"runtime\").asc())\n",
        "uma_quentin_movies.select(\"title\", \"runtime\").show()"
      ],
      "metadata": {
        "colab": {
          "base_uri": "https://localhost:8080/"
        },
        "id": "sav4k4ew3ZFR",
        "outputId": "9b4a260f-ae5e-45a3-e53e-149efec52cb1"
      },
      "execution_count": 19,
      "outputs": [
        {
          "output_type": "stream",
          "name": "stdout",
          "text": [
            "+-----+-------+\n",
            "|title|runtime|\n",
            "+-----+-------+\n",
            "+-----+-------+\n",
            "\n"
          ]
        }
      ]
    },
    {
      "cell_type": "markdown",
      "source": [
        "Franchise vs. Standalone Movie Performance"
      ],
      "metadata": {
        "id": "Z5XYOG_7Bu_f"
      }
    },
    {
      "cell_type": "markdown",
      "source": [
        "* Mean Revenue"
      ],
      "metadata": {
        "id": "RiA0QZikCU4y"
      }
    },
    {
      "cell_type": "code",
      "source": [
        "# Comparing movie franchises in terms of Mean Revenue\n",
        "from pyspark.sql.functions import mean, col, regexp_replace, count\n",
        "\n",
        "# Calculating the mean revenue for movies in franchises\n",
        "franchise_revenue = df.filter(col(\"belongs_to_collection\").isNotNull()).select(mean(\"revenue_musd\")).collect()[0][0]\n",
        "\n",
        "# Calculating the mean revenue for standalone movies\n",
        "standalone_revenue = df.filter(col(\"belongs_to_collection\").isNull()).select(mean(\"revenue_musd\")).collect()[0][0]\n",
        "\n",
        "print(f\"Mean revenue for movies in franchises: {franchise_revenue}\")\n",
        "print(f\"Mean revenue for standalone movies: {standalone_revenue}\")"
      ],
      "metadata": {
        "colab": {
          "base_uri": "https://localhost:8080/"
        },
        "id": "9rFTXC4yB5SD",
        "outputId": "784f2e9c-ec80-45e4-a783-899c4d290314"
      },
      "execution_count": 20,
      "outputs": [
        {
          "output_type": "stream",
          "name": "stdout",
          "text": [
            "Mean revenue for movies in franchises: 1682.6419708124995\n",
            "Mean revenue for standalone movies: None\n"
          ]
        }
      ]
    },
    {
      "cell_type": "markdown",
      "source": [
        "* Median ROI"
      ],
      "metadata": {
        "id": "R40-70JZsnwL"
      }
    },
    {
      "cell_type": "code",
      "source": [
        "from pyspark.sql.functions import when, lit, median\n",
        "\n",
        "df = df.withColumn(\"ROI\", when(col(\"budget_musd\") > 0, (col(\"revenue_musd\") - col(\"budget_musd\")) / col(\"budget_musd\")).otherwise(None))\n",
        "\n",
        "df = df.withColumn(\"movie_type\", when(col(\"belongs_to_collection\").isNotNull(), lit(\"Franchise\")).otherwise(lit(\"Standalone\")))\n",
        "\n",
        "median_roi = df.groupBy(\"movie_type\").agg(median(\"ROI\").alias(\"Median ROI\"))\n",
        "median_roi.show()"
      ],
      "metadata": {
        "colab": {
          "base_uri": "https://localhost:8080/"
        },
        "id": "Wqng0LBLrvzV",
        "outputId": "01513193-d095-44fc-b211-62c9d05943d3"
      },
      "execution_count": 21,
      "outputs": [
        {
          "output_type": "stream",
          "name": "stdout",
          "text": [
            "+----------+-----------------+\n",
            "|movie_type|       Median ROI|\n",
            "+----------+-----------------+\n",
            "| Franchise|6.786109124058163|\n",
            "+----------+-----------------+\n",
            "\n"
          ]
        }
      ]
    },
    {
      "cell_type": "markdown",
      "source": [
        "* Mean Budget Raised"
      ],
      "metadata": {
        "id": "rEs__z4Hs9-k"
      }
    },
    {
      "cell_type": "code",
      "source": [
        "franchise_budget = df.filter(col(\"belongs_to_collection\").isNotNull()).select(mean(\"budget_musd\")).collect()[0][0]\n",
        "\n",
        "standalone_budget = df.filter(col(\"belongs_to_collection\").isNull()).select(mean(\"budget_musd\")).collect()[0][0]\n",
        "\n",
        "print(f\"Mean budget for movies in franchises: {franchise_budget}\")\n",
        "print(f\"Mean budget for standalone movies: {standalone_budget}\")"
      ],
      "metadata": {
        "colab": {
          "base_uri": "https://localhost:8080/"
        },
        "id": "yNFnhaMNs9fs",
        "outputId": "0a760769-c0af-470a-cc78-964849680ec0"
      },
      "execution_count": 22,
      "outputs": [
        {
          "output_type": "stream",
          "name": "stdout",
          "text": [
            "Mean budget for movies in franchises: 219.875\n",
            "Mean budget for standalone movies: None\n"
          ]
        }
      ]
    },
    {
      "cell_type": "markdown",
      "source": [
        "* Mean Popularity"
      ],
      "metadata": {
        "id": "RA0uo82XtKrD"
      }
    },
    {
      "cell_type": "code",
      "source": [
        "franchise_popularity = df.filter(col(\"belongs_to_collection\").isNotNull()).select(mean(\"popularity\")).collect()[0][0]\n",
        "\n",
        "standalone_popularity = df.filter(col(\"belongs_to_collection\").isNull()).select(mean(\"popularity\")).collect()[0][0]\n",
        "\n",
        "print(f\"Mean popularity for movies in franchises: {franchise_popularity}\")\n",
        "print(f\"Mean popularity for standalone movies: {standalone_popularity}\")"
      ],
      "metadata": {
        "colab": {
          "base_uri": "https://localhost:8080/"
        },
        "id": "8sKYJCfOtOmG",
        "outputId": "a2d56a0a-465d-499e-d6c2-327fbdc41a85"
      },
      "execution_count": 23,
      "outputs": [
        {
          "output_type": "stream",
          "name": "stdout",
          "text": [
            "Mean popularity for movies in franchises: 41.2870125\n",
            "Mean popularity for standalone movies: None\n"
          ]
        }
      ]
    },
    {
      "cell_type": "markdown",
      "source": [
        "* Mean Rating"
      ],
      "metadata": {
        "id": "7NIt080ztfpk"
      }
    },
    {
      "cell_type": "code",
      "source": [
        "franchise_rating = df.filter(col(\"belongs_to_collection\").isNotNull()).select(mean(\"vote_average\")).collect()[0][0]\n",
        "\n",
        "standalone_rating = df.filter(col(\"belongs_to_collection\").isNull()).select(mean(\"vote_average\")).collect()[0][0]\n",
        "\n",
        "print(f\"Mean rating for movies in franchises: {franchise_rating}\")\n",
        "print(f\"Mean rating for standalone movies: {standalone_rating}\")"
      ],
      "metadata": {
        "colab": {
          "base_uri": "https://localhost:8080/"
        },
        "id": "TpUjr2GTtiT7",
        "outputId": "7c59746c-2c83-4788-ae0b-413169598390"
      },
      "execution_count": 24,
      "outputs": [
        {
          "output_type": "stream",
          "name": "stdout",
          "text": [
            "Mean rating for movies in franchises: 7.3805625\n",
            "Mean rating for standalone movies: None\n"
          ]
        }
      ]
    },
    {
      "cell_type": "markdown",
      "source": [
        "\n",
        "\n",
        "---\n",
        "\n"
      ],
      "metadata": {
        "id": "Zc3ZQDHJ8V9N"
      }
    },
    {
      "cell_type": "markdown",
      "source": [
        "# Most Successful Franchises and Directors"
      ],
      "metadata": {
        "id": "43PHn9WN8YpM"
      }
    },
    {
      "cell_type": "markdown",
      "source": [
        "* Most Successful Movie Franchses based on Total number of movies in franchise"
      ],
      "metadata": {
        "id": "J2rsycn79FDX"
      }
    },
    {
      "cell_type": "code",
      "source": [
        "exploded_df = df.withColumn(\"collection_name\", regexp_replace(col(\"belongs_to_collection\"), \"[^a-zA-Z0-9\\\\s]\", \"\")).select(\"title\", \"collection_name\")\n",
        "franchise_counts = exploded_df.groupBy(\"collection_name\").agg(count(\"*\").alias(\"movie_count\"))\n",
        "\n",
        "most_successful_franchises = franchise_counts.orderBy(col(\"movie_count\").desc())\n",
        "most_successful_franchises.show()"
      ],
      "metadata": {
        "colab": {
          "base_uri": "https://localhost:8080/"
        },
        "id": "vF-j0iRC8tjQ",
        "outputId": "6a20b2ee-c4a1-468f-9052-159df8d50118"
      },
      "execution_count": 25,
      "outputs": [
        {
          "output_type": "stream",
          "name": "stdout",
          "text": [
            "+--------------------+-----------+\n",
            "|     collection_name|movie_count|\n",
            "+--------------------+-----------+\n",
            "|The Avengers Coll...|          4|\n",
            "|   Frozen Collection|          2|\n",
            "|Jurassic Park Col...|          2|\n",
            "|Star Wars Collection|          2|\n",
            "|The Fast and the ...|          1|\n",
            "|Harry Potter Coll...|          1|\n",
            "|Black Panther Col...|          1|\n",
            "|The Lion King Reb...|          1|\n",
            "|   Avatar Collection|          1|\n",
            "|The Incredibles C...|          1|\n",
            "+--------------------+-----------+\n",
            "\n"
          ]
        }
      ]
    },
    {
      "cell_type": "markdown",
      "source": [
        "* Most Successful Movie Franchses based on Total and mean Budget"
      ],
      "metadata": {
        "id": "Y-nzt6qk9QDU"
      }
    },
    {
      "cell_type": "code",
      "source": [
        "from pyspark.sql.functions import col, sum, mean\n",
        "\n",
        "franchise_budget = df.groupBy(\"belongs_to_collection\").agg(\n",
        "    sum(\"budget_musd\").alias(\"Total Budget\"), mean(\"budget_musd\").alias(\"Mean Budget\"))\n",
        "franchise_budget = franchise_budget.orderBy(col(\"Total Budget\").desc())\n",
        "franchise_budget.show(10)"
      ],
      "metadata": {
        "colab": {
          "base_uri": "https://localhost:8080/"
        },
        "id": "wYvfLhMV9roJ",
        "outputId": "5a8983dd-3fc1-4ab0-84d2-aa9b85b79529"
      },
      "execution_count": 27,
      "outputs": [
        {
          "output_type": "stream",
          "name": "stdout",
          "text": [
            "+---------------------+------------+-----------+\n",
            "|belongs_to_collection|Total Budget|Mean Budget|\n",
            "+---------------------+------------+-----------+\n",
            "| The Avengers Coll...|        1241|     310.25|\n",
            "| Star Wars Collection|         445|      222.5|\n",
            "| Jurassic Park Col...|         320|      160.0|\n",
            "|    Frozen Collection|         300|      150.0|\n",
            "| The Lion King (Re...|         260|      260.0|\n",
            "|    Avatar Collection|         237|      237.0|\n",
            "| Black Panther Col...|         200|      200.0|\n",
            "| The Incredibles C...|         200|      200.0|\n",
            "| The Fast and the ...|         190|      190.0|\n",
            "| Harry Potter Coll...|         125|      125.0|\n",
            "+---------------------+------------+-----------+\n",
            "\n"
          ]
        }
      ]
    },
    {
      "cell_type": "markdown",
      "source": [
        "* Total and Mean Revenue"
      ],
      "metadata": {
        "id": "iC54pn9U-D6A"
      }
    },
    {
      "cell_type": "code",
      "source": [
        "franchise_revenue = df.groupBy(\"belongs_to_collection\").agg(\n",
        "    sum(\"revenue_musd\").alias(\"Total Revenue\"), mean(\"revenue_musd\").alias(\"Mean Revenue\"))\n",
        "franchise_revenue = franchise_revenue.orderBy(col(\"Total Revenue\").desc())\n",
        "franchise_revenue.show(10)"
      ],
      "metadata": {
        "colab": {
          "base_uri": "https://localhost:8080/"
        },
        "id": "Kvn8In47-G44",
        "outputId": "4e4558f6-1e48-4dc1-8cda-24cde2b4261a"
      },
      "execution_count": 29,
      "outputs": [
        {
          "output_type": "stream",
          "name": "stdout",
          "text": [
            "+---------------------+------------------+------------------+\n",
            "|belongs_to_collection|     Total Revenue|      Mean Revenue|\n",
            "+---------------------+------------------+------------------+\n",
            "| The Avengers Coll...|       7776.073348|       1944.018337|\n",
            "| Star Wars Collection|3400.9224540000005|1700.4612270000002|\n",
            "| Jurassic Park Col...|        2982.00374|        1491.00187|\n",
            "|    Avatar Collection|       2923.706026|       2923.706026|\n",
            "|    Frozen Collection|2727.9024849999996|1363.9512424999998|\n",
            "| The Lion King (Re...|       1662.020819|       1662.020819|\n",
            "| The Fast and the ...|            1515.4|            1515.4|\n",
            "| Black Panther Col...|       1349.926083|       1349.926083|\n",
            "| Harry Potter Coll...|       1341.511219|       1341.511219|\n",
            "| The Incredibles C...|       1242.805359|       1242.805359|\n",
            "+---------------------+------------------+------------------+\n",
            "\n"
          ]
        }
      ]
    },
    {
      "cell_type": "markdown",
      "source": [
        "* Mean Rating"
      ],
      "metadata": {
        "id": "mDP13250-wsO"
      }
    },
    {
      "cell_type": "code",
      "source": [
        "mean_rating = df.groupBy(\"movie_type\").agg(mean(\"vote_average\").alias(\"Mean Rating\"))\n",
        "mean_rating.show()"
      ],
      "metadata": {
        "colab": {
          "base_uri": "https://localhost:8080/"
        },
        "id": "-BS2qwm9-8yt",
        "outputId": "353ca1cd-7852-4640-fccf-2477406b00d8"
      },
      "execution_count": 30,
      "outputs": [
        {
          "output_type": "stream",
          "name": "stdout",
          "text": [
            "+----------+-----------+\n",
            "|movie_type|Mean Rating|\n",
            "+----------+-----------+\n",
            "| Franchise|  7.3805625|\n",
            "+----------+-----------+\n",
            "\n"
          ]
        }
      ]
    },
    {
      "cell_type": "markdown",
      "source": [
        "Most Successful Directors based on Total Number of Movies Directed"
      ],
      "metadata": {
        "id": "dnxuEjO1-g5J"
      }
    },
    {
      "cell_type": "code",
      "source": [
        "director_movie_counts = df.groupBy(\"director\").agg(count(\"*\").alias(\"movie_count\"))\n",
        "most_successful_directors = director_movie_counts.orderBy(col(\"movie_count\").desc())\n",
        "most_successful_directors.show()"
      ],
      "metadata": {
        "colab": {
          "base_uri": "https://localhost:8080/"
        },
        "id": "ZUBMNEAi-m3U",
        "outputId": "48ec1735-992c-477e-d265-f02f5938d0ba"
      },
      "execution_count": 31,
      "outputs": [
        {
          "output_type": "stream",
          "name": "stdout",
          "text": [
            "+---------------+-----------+\n",
            "|       director|movie_count|\n",
            "+---------------+-----------+\n",
            "|      Joe Russo|          2|\n",
            "|    Joss Whedon|          2|\n",
            "|Colin Trevorrow|          1|\n",
            "|   Ryan Coogler|          1|\n",
            "|    Jon Favreau|          1|\n",
            "|    J.A. Bayona|          1|\n",
            "|    David Yates|          1|\n",
            "|    J.J. Abrams|          1|\n",
            "|     Chris Buck|          1|\n",
            "|      James Wan|          1|\n",
            "|   Jennifer Lee|          1|\n",
            "|      Brad Bird|          1|\n",
            "|  James Cameron|          1|\n",
            "|   Rian Johnson|          1|\n",
            "+---------------+-----------+\n",
            "\n"
          ]
        }
      ]
    },
    {
      "cell_type": "markdown",
      "source": [
        "* Most Successful Directors based on Total Revenue"
      ],
      "metadata": {
        "id": "v5am-oBX_SoM"
      }
    },
    {
      "cell_type": "code",
      "source": [
        "director_revenue = df.groupBy(\"director\").agg(sum(\"revenue_musd\").alias(\"Total Revenue\"))\n",
        "most_successful_directors_revenue = director_revenue.orderBy(col(\"Total Revenue\").desc())\n",
        "most_successful_directors_revenue.show()"
      ],
      "metadata": {
        "colab": {
          "base_uri": "https://localhost:8080/"
        },
        "id": "ZhbGVCUK_ZRC",
        "outputId": "f5714cf3-cefb-4894-ecad-1aa02be017fb"
      },
      "execution_count": 32,
      "outputs": [
        {
          "output_type": "stream",
          "name": "stdout",
          "text": [
            "+---------------+-------------+\n",
            "|       director|Total Revenue|\n",
            "+---------------+-------------+\n",
            "|      Joe Russo|  4851.854139|\n",
            "|    Joss Whedon|  2924.219209|\n",
            "|  James Cameron|  2923.706026|\n",
            "|    J.J. Abrams|  2068.223624|\n",
            "|Colin Trevorrow|  1671.537444|\n",
            "|    Jon Favreau|  1662.020819|\n",
            "|      James Wan|       1515.4|\n",
            "|   Jennifer Lee|  1453.683476|\n",
            "|   Ryan Coogler|  1349.926083|\n",
            "|    David Yates|  1341.511219|\n",
            "|   Rian Johnson|   1332.69883|\n",
            "|    J.A. Bayona|  1310.466296|\n",
            "|     Chris Buck|  1274.219009|\n",
            "|      Brad Bird|  1242.805359|\n",
            "+---------------+-------------+\n",
            "\n"
          ]
        }
      ]
    },
    {
      "cell_type": "markdown",
      "source": [
        "*  Meam Rating"
      ],
      "metadata": {
        "id": "9xco_VcTAT6Y"
      }
    },
    {
      "cell_type": "code",
      "source": [
        "director_rating = df.groupBy(\"director\").agg(mean(\"vote_average\").alias(\"Mean Rating\"))\n",
        "most_successful_directors_rating = director_rating.orderBy(col(\"Mean Rating\").desc())\n",
        "most_successful_directors_rating.show()"
      ],
      "metadata": {
        "colab": {
          "base_uri": "https://localhost:8080/"
        },
        "id": "j5GcDitNAWyJ",
        "outputId": "21a36a08-0224-49a2-cecb-6600ef9685bd"
      },
      "execution_count": 33,
      "outputs": [
        {
          "output_type": "stream",
          "name": "stdout",
          "text": [
            "+---------------+-----------+\n",
            "|       director|Mean Rating|\n",
            "+---------------+-----------+\n",
            "|      Joe Russo|      8.236|\n",
            "|    David Yates|      8.087|\n",
            "|  James Cameron|      7.588|\n",
            "|    Joss Whedon|      7.506|\n",
            "|      Brad Bird|      7.455|\n",
            "|   Ryan Coogler|      7.373|\n",
            "|    J.J. Abrams|      7.261|\n",
            "|   Jennifer Lee|      7.249|\n",
            "|     Chris Buck|      7.247|\n",
            "|      James Wan|      7.226|\n",
            "|    Jon Favreau|       7.11|\n",
            "|   Rian Johnson|      6.778|\n",
            "|Colin Trevorrow|      6.693|\n",
            "|    J.A. Bayona|      6.538|\n",
            "+---------------+-----------+\n",
            "\n"
          ]
        }
      ]
    },
    {
      "cell_type": "markdown",
      "source": [
        "\n",
        "\n",
        "---\n",
        "\n"
      ],
      "metadata": {
        "id": "G_NTpomxAkrt"
      }
    }
  ],
  "metadata": {
    "colab": {
      "provenance": [],
      "collapsed_sections": [
        "uDIGmY-3UTzC"
      ]
    },
    "kernelspec": {
      "display_name": "Python 3",
      "name": "python3"
    },
    "language_info": {
      "name": "python"
    }
  },
  "nbformat": 4,
  "nbformat_minor": 0
}