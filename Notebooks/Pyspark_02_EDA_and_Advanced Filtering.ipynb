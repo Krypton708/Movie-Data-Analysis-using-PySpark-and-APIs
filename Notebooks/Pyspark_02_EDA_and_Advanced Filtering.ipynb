{
  "cells": [
    {
      "cell_type": "markdown",
      "source": [
        "# Exploratory Data Analysis"
      ],
      "metadata": {
        "id": "uDIGmY-3UTzC"
      }
    },
    {
      "cell_type": "code",
      "source": [
        "copy.show()"
      ],
      "metadata": {
        "colab": {
          "base_uri": "https://localhost:8080/"
        },
        "id": "FWyAGYG8UYD8",
        "outputId": "845e42dd-a399-4067-8e12-c0793aa4a157"
      },
      "execution_count": 34,
      "outputs": [
        {
          "output_type": "stream",
          "name": "stdout",
          "text": [
            "+------+--------------------+--------------------+------------+--------------------+---------------------+-----------------+-----------+------------+--------------------+--------------------+----------+------------+----------+-------+--------------------+--------------------+--------------------+--------------------+---------+---------------+---------+\n",
            "|    id|               title|             tagline|release_date|              genres|belongs_to_collection|original_language|budget_musd|revenue_musd|production_companies|production_countries|vote_count|vote_average|popularity|runtime|            overview|    spoken_languages|         poster_path|                cast|cast_size|       director|crew_size|\n",
            "+------+--------------------+--------------------+------------+--------------------+---------------------+-----------------+-----------+------------+--------------------+--------------------+----------+------------+----------+-------+--------------------+--------------------+--------------------+--------------------+---------+---------------+---------+\n",
            "|420818|       The Lion King|The king has retu...|  2019-07-12|Adventure|Drama|F...| The Lion King (Re...|               en|      260.0| 1662.020819|Walt Disney Pictu...|United States of ...|     10328|       7.111|   97.0871|    118|Simba idolizes hi...|             English|/dzBtMocZuJbjLOXv...|Chiwetel Ejiofor|...|       20|    Jon Favreau|       45|\n",
            "|299534|   Avengers: Endgame|  Avenge the fallen.|  2019-04-24|Adventure|Science...| The Avengers Coll...|               en|      356.0|   2799.4391|      Marvel Studios|United States of ...|     26262|       8.237|   73.6149|    181|After the devasta...|English|Japanese|...|/ulzhLuWrPK07P1Yk...|Robert Downey Jr....|      105|      Joe Russo|      593|\n",
            "|299536|Avengers: Infinit...|Destiny arrives a...|  2018-04-25|Adventure|Action|...| The Avengers Coll...|               en|      300.0| 2052.415039|      Marvel Studios|United States of ...|     30447|       8.235|  122.0331|    149|As the Avengers a...|       English|Xhosa|/7WsyChQLEftFiDOV...|Robert Downey Jr....|       69|  Anthony Russo|      724|\n",
            "| 19995|              Avatar|Enter the world o...|  2009-12-15|Action|Adventure|...|    Avatar Collection|               en|      237.0| 2923.706026|Dune Entertainmen...|United States of ...|     32172|       7.588|   25.0365|    162|In the 22nd centu...|     English|Spanish|/kyeqWdyUXW608qlY...|Sam Worthington|Z...|       65|  James Cameron|      986|\n",
            "|135397|      Jurassic World|   The park is open.|  2015-06-06|Action|Adventure|...| Jurassic Park Col...|               en|      150.0| 1671.537444|Amblin Entertainm...|United States of ...|     20655|       6.694|   16.3746|    124|Twenty-two years ...|             English|/rhr4y79GpxQF9Isf...|Chris Pratt|Bryce...|       52|Colin Trevorrow|      423|\n",
            "|140607|Star Wars: The Fo...|Every generation ...|  2015-12-15|Adventure|Action|...| Star Wars Collection|               en|      245.0| 2068.223624|Lucasfilm Ltd.|Ba...|United States of ...|     19701|       7.261|   14.9727|    136|Thirty years afte...|             English|/wqnLdwVXoBjKibFR...|Harrison Ford|Mar...|      182|    J.J. Abrams|      257|\n",
            "| 24428|        The Avengers|Some assembly req...|  2012-04-25|Science Fiction|A...| The Avengers Coll...|               en|      220.0| 1518.815515|      Marvel Studios|United States of ...|     31648|       7.741|   33.3085|    143|When an unexpecte...|English|Hindi|Rus...|/RYMX2wcKCBAr24Uy...|Robert Downey Jr....|      112|    Joss Whedon|      631|\n",
            "|168259|           Furious 7|Vengeance hits home.|  2015-04-01|Action|Thriller|C...| The Fast and the ...|               en|      190.0|      1515.4|Original Film|One...|United States of ...|     10781|       7.226|   14.5569|    137|Deckard Shaw seek...|Arabic|English|Sp...|/wurKlC3VKUgcfsn0...|Vin Diesel|Paul W...|       48|      James Wan|      223|\n",
            "|351286|Jurassic World: F...|   The park is gone.|  2018-06-06|Action|Adventure|...| Jurassic Park Col...|               en|      170.0| 1310.466296|Amblin Entertainm...|United States of ...|     12026|       6.538|   72.0926|    129|Three years after...|     English|Russian|/270MrJNqJovumHXG...|Chris Pratt|Bryce...|       39|    J.A. Bayona|      381|\n",
            "|260513|       Incredibles 2|It's been too lon...|  2018-06-14|Action|Adventure|...| The Incredibles C...|               en|      200.0| 1242.805359|Walt Disney Pictu...|United States of ...|     13040|       7.454|   10.1075|    118|Elastigirl spring...|             English|/9lFKBtaVIhP7E2Pk...|Craig T. Nelson|H...|       48|      Brad Bird|      259|\n",
            "|109445|              Frozen|Only the act of t...|  2013-11-20|Animation|Family|...|    Frozen Collection|               en|      150.0| 1274.219009|Walt Disney Pictu...|United States of ...|     16823|       7.247|   20.4818|    102|Young princess An...|             English|/m4uhSpErBKprhscl...|Kristen Bell|Idin...|       60|     Chris Buck|      284|\n",
            "|181808|Star Wars: The La...|Darkness rises......|  2017-12-13|Adventure|Action|...| Star Wars Collection|               en|      200.0|  1332.69883|      Lucasfilm Ltd.|United States of ...|     15562|         6.8|   91.5889|    152|Rey develops her ...|             English|/kOVEVeg59E0wsnXm...|Mark Hamill|Carri...|      110|   Rian Johnson|      213|\n",
            "|330457|           Frozen II|The past is not w...|  2019-11-20|Family|Animation|...|    Frozen Collection|               en|      150.0| 1453.683476|Walt Disney Pictu...|United States of ...|      9885|       7.249|   13.0328|    103|Elsa, Anna, Krist...|             English|/mINJaa34MtknCYl5...|Kristen Bell|Idin...|       64|   Jennifer Lee|       39|\n",
            "| 12445|Harry Potter and ...|        It all ends.|  2011-07-12|   Fantasy|Adventure| Harry Potter Coll...|               en|      125.0| 1341.511219|Warner Bros. Pict...|United Kingdom|Un...|     20983|       8.087|    19.562|    130|Harry, Ron and He...|             English|/c54HpQmuwXjHq2C9...|Daniel Radcliffe|...|      104|    David Yates|      154|\n",
            "|284054|       Black Panther| Long live the king.|  2018-02-13|Action|Adventure|...| Black Panther Col...|               en|      200.0| 1349.926083|      Marvel Studios|United States of ...|     22517|       7.373|   87.9532|    135|King T'Challa ret...|English|Korean|Sw...|/uxzzxijgPIY7slzF...|Chadwick Boseman|...|       66|   Ryan Coogler|      561|\n",
            "| 99861|Avengers: Age of ...| A new age has come.|  2015-04-22|Action|Adventure|...| The Avengers Coll...|               en|      365.0| 1405.403694|      Marvel Studios|United States of ...|     23377|       7.271|    24.122|    141|When Tony Stark t...|             English|/4ssDuvEDkSArWEdy...|Robert Downey Jr....|       72|    Joss Whedon|      636|\n",
            "+------+--------------------+--------------------+------------+--------------------+---------------------+-----------------+-----------+------------+--------------------+--------------------+----------+------------+----------+-------+--------------------+--------------------+--------------------+--------------------+---------+---------------+---------+\n",
            "\n"
          ]
        }
      ]
    },
    {
      "cell_type": "markdown",
      "source": [
        "Identifying the Best and Worst Performing Movies based on key metrics"
      ],
      "metadata": {
        "id": "JdYXhkr9UvsO"
      }
    },
    {
      "cell_type": "markdown",
      "source": [
        "Creating a UDF to streamline ranking operations"
      ],
      "metadata": {
        "id": "atqJkNxej7cN"
      }
    },
    {
      "cell_type": "code",
      "source": [
        "def rank_movies(copy, column, ascending=False, filter_condition=None, n=10):\n",
        "    \"\"\"\n",
        "    Rank movies based on a column with optional filtering\n",
        "    \"\"\"\n",
        "    if filter_condition:\n",
        "        filtered_data = copy.filter(filter_condition)\n",
        "    else:\n",
        "        filtered_data= copy\n",
        "\n",
        "    if ascending:\n",
        "        ranked_data = filtered_data.orderBy(col(column).asc())\n",
        "    else:\n",
        "        ranked_data = filtered_data.orderBy(col(column).desc())\n",
        "\n",
        "    return ranked_data.limit(n)"
      ],
      "metadata": {
        "id": "S2bAPPEjVWaf"
      },
      "execution_count": 35,
      "outputs": []
    },
    {
      "cell_type": "markdown",
      "source": [
        "Top Rated Movies based on Key Performance Indicators (KPIs)"
      ],
      "metadata": {
        "id": "cTbUBPnFkOQ7"
      }
    },
    {
      "cell_type": "code",
      "source": [
        "# Displaying top 10 ranked movies based on Highest Revenue\n",
        "# The UDF was called to perform this action\n",
        "highest_revenue = rank_movies(copy, \"revenue_musd\")\n",
        "highest_revenue.select(\"title\", \"revenue_musd\").show(10)"
      ],
      "metadata": {
        "colab": {
          "base_uri": "https://localhost:8080/"
        },
        "id": "r9VxrRSzV63c",
        "outputId": "51aa85b7-9d96-4efe-f29a-f6a53853c247"
      },
      "execution_count": 36,
      "outputs": [
        {
          "output_type": "stream",
          "name": "stdout",
          "text": [
            "+--------------------+------------+\n",
            "|               title|revenue_musd|\n",
            "+--------------------+------------+\n",
            "|              Avatar| 2923.706026|\n",
            "|   Avengers: Endgame|   2799.4391|\n",
            "|Star Wars: The Fo...| 2068.223624|\n",
            "|Avengers: Infinit...| 2052.415039|\n",
            "|      Jurassic World| 1671.537444|\n",
            "|       The Lion King| 1662.020819|\n",
            "|        The Avengers| 1518.815515|\n",
            "|           Furious 7|      1515.4|\n",
            "|           Frozen II| 1453.683476|\n",
            "|Avengers: Age of ...| 1405.403694|\n",
            "+--------------------+------------+\n",
            "\n"
          ]
        }
      ]
    },
    {
      "cell_type": "code",
      "source": [
        "# Ranking movies based on Highest Budget\n",
        "highest_budget = rank_movies(copy, \"budget_musd\", ascending=False)\n",
        "highest_budget.select(\"title\", \"budget_musd\").show(10)"
      ],
      "metadata": {
        "colab": {
          "base_uri": "https://localhost:8080/"
        },
        "id": "_LZRJpBWVUHb",
        "outputId": "8ad39b6c-6141-46ca-a294-d2302f4e424a"
      },
      "execution_count": 37,
      "outputs": [
        {
          "output_type": "stream",
          "name": "stdout",
          "text": [
            "+--------------------+-----------+\n",
            "|               title|budget_musd|\n",
            "+--------------------+-----------+\n",
            "|Avengers: Age of ...|      365.0|\n",
            "|   Avengers: Endgame|      356.0|\n",
            "|Avengers: Infinit...|      300.0|\n",
            "|       The Lion King|      260.0|\n",
            "|Star Wars: The Fo...|      245.0|\n",
            "|              Avatar|      237.0|\n",
            "|        The Avengers|      220.0|\n",
            "|       Incredibles 2|      200.0|\n",
            "|Star Wars: The La...|      200.0|\n",
            "|       Black Panther|      200.0|\n",
            "+--------------------+-----------+\n",
            "\n"
          ]
        }
      ]
    },
    {
      "cell_type": "code",
      "source": [
        "# Ranked movies based on Highest Profit by deducting the budget amount from the Revenue generated.\n",
        "copy = copy.withColumn(\"profit_musd\", col(\"revenue_musd\") - col(\"budget_musd\"))\n",
        "highest_profit = rank_movies(copy, \"profit_musd\")\n",
        "highest_profit.select(\"title\", \"profit_musd\").show()"
      ],
      "metadata": {
        "colab": {
          "base_uri": "https://localhost:8080/"
        },
        "id": "envkzTEbXDEr",
        "outputId": "726a0b53-2f5b-4fb3-cf39-5d16885eb8fb"
      },
      "execution_count": 38,
      "outputs": [
        {
          "output_type": "stream",
          "name": "stdout",
          "text": [
            "+--------------------+------------------+\n",
            "|               title|       profit_musd|\n",
            "+--------------------+------------------+\n",
            "|              Avatar|       2686.706026|\n",
            "|   Avengers: Endgame|         2443.4391|\n",
            "|Star Wars: The Fo...|1823.2236240000002|\n",
            "|Avengers: Infinit...|       1752.415039|\n",
            "|      Jurassic World|       1521.537444|\n",
            "|       The Lion King|       1402.020819|\n",
            "|           Furious 7|            1325.4|\n",
            "|           Frozen II|       1303.683476|\n",
            "|        The Avengers|       1298.815515|\n",
            "|Harry Potter and ...|       1216.511219|\n",
            "+--------------------+------------------+\n",
            "\n"
          ]
        }
      ]
    },
    {
      "cell_type": "markdown",
      "source": [
        "**Low Profit Movies:** The *rank_movies* function created above, orders the profit column in descending order, then shows the last 10 movie titles at the bottom."
      ],
      "metadata": {
        "id": "8WvGRvHalIXP"
      }
    },
    {
      "cell_type": "code",
      "source": [
        "copy = copy.withColumn(\"profit_musd\", col(\"revenue_musd\") - col(\"budget_musd\"))\n",
        "lowest_profit = rank_movies(copy, \"profit_musd\", ascending=True)\n",
        "lowest_profit.select(\"title\", \"profit_musd\").show()"
      ],
      "metadata": {
        "colab": {
          "base_uri": "https://localhost:8080/"
        },
        "id": "ZitKYfsyltWS",
        "outputId": "cd7d77f0-195e-48a4-e0e3-db5a126a1e01"
      },
      "execution_count": 39,
      "outputs": [
        {
          "output_type": "stream",
          "name": "stdout",
          "text": [
            "+--------------------+-----------+\n",
            "|               title|profit_musd|\n",
            "+--------------------+-----------+\n",
            "|Avengers: Age of ...|1040.403694|\n",
            "|       Incredibles 2|1042.805359|\n",
            "|              Frozen|1124.219009|\n",
            "|Star Wars: The La...| 1132.69883|\n",
            "|Jurassic World: F...|1140.466296|\n",
            "|       Black Panther|1149.926083|\n",
            "|Harry Potter and ...|1216.511219|\n",
            "|        The Avengers|1298.815515|\n",
            "|           Frozen II|1303.683476|\n",
            "|           Furious 7|     1325.4|\n",
            "+--------------------+-----------+\n",
            "\n"
          ]
        }
      ]
    },
    {
      "cell_type": "markdown",
      "source": [
        "ROI for each movie title is calculated, a filter is applied to the budget_musd column to calculate the ROI for movies whose budget are less or equal to 10M."
      ],
      "metadata": {
        "id": "ucraFg0amc15"
      }
    },
    {
      "cell_type": "code",
      "source": [
        "# Highest ROI\n",
        "copy.filter(col(\"budget_musd\") >= 10).select(col(\"title\"), (col(\"revenue_musd\") / col(\"budget_musd\")).alias(\"ROI\")).orderBy(col(\"ROI\").desc()).show(5)"
      ],
      "metadata": {
        "colab": {
          "base_uri": "https://localhost:8080/"
        },
        "id": "E2goj1vzjpj0",
        "outputId": "1cb7f467-84b6-4da7-b1f0-9cbc83401d9b"
      },
      "execution_count": 42,
      "outputs": [
        {
          "output_type": "stream",
          "name": "stdout",
          "text": [
            "+--------------------+-----------------+\n",
            "|               title|              ROI|\n",
            "+--------------------+-----------------+\n",
            "|              Avatar|12.33631234599156|\n",
            "|      Jurassic World|      11.14358296|\n",
            "|Harry Potter and ...|     10.732089752|\n",
            "|           Frozen II|9.691223173333332|\n",
            "|              Frozen|8.494793393333333|\n",
            "+--------------------+-----------------+\n",
            "only showing top 5 rows\n",
            "\n"
          ]
        }
      ]
    },
    {
      "cell_type": "markdown",
      "source": [
        "Same thing in the 'Highest ROI' code block is applied here, but the ROI column was ordered in ascending order in order to display only the ROI of movies with Budget ≥ 10M."
      ],
      "metadata": {
        "id": "i4aI0EK0m_w1"
      }
    },
    {
      "cell_type": "code",
      "source": [
        "# Lowest ROI\n",
        "copy.filter(col(\"budget_musd\") >= 10).select(col(\"title\"), (col(\"revenue_musd\") / col(\"budget_musd\")).alias(\"ROI\")).orderBy(col(\"ROI\").asc()).show(5)"
      ],
      "metadata": {
        "colab": {
          "base_uri": "https://localhost:8080/"
        },
        "id": "HZ23IuNYm0tT",
        "outputId": "4e646686-6c20-4560-9cf2-e3fc2976f420"
      },
      "execution_count": 44,
      "outputs": [
        {
          "output_type": "stream",
          "name": "stdout",
          "text": [
            "+--------------------+------------------+\n",
            "|               title|               ROI|\n",
            "+--------------------+------------------+\n",
            "|Avengers: Age of ...| 3.850421079452055|\n",
            "|       Incredibles 2|       6.214026795|\n",
            "|       The Lion King|6.3923877653846155|\n",
            "|Star Wars: The La...|        6.66349415|\n",
            "|       Black Panther|       6.749630415|\n",
            "+--------------------+------------------+\n",
            "only showing top 5 rows\n",
            "\n"
          ]
        }
      ]
    },
    {
      "cell_type": "markdown",
      "source": [
        "**Most Voted Movies**"
      ],
      "metadata": {
        "id": "NRs3bbigncP0"
      }
    },
    {
      "cell_type": "code",
      "source": [
        "# Most Voted Movies\n",
        "most_voted = rank_movies(copy, \"vote_count\")\n",
        "most_voted.select(\"title\", \"vote_count\").show()"
      ],
      "metadata": {
        "colab": {
          "base_uri": "https://localhost:8080/"
        },
        "id": "e9CueRYPnnxS",
        "outputId": "5dc0d1cc-f398-42bc-a57a-8f4260a7de60"
      },
      "execution_count": 45,
      "outputs": [
        {
          "output_type": "stream",
          "name": "stdout",
          "text": [
            "+--------------------+----------+\n",
            "|               title|vote_count|\n",
            "+--------------------+----------+\n",
            "|              Avatar|     32172|\n",
            "|        The Avengers|     31648|\n",
            "|Avengers: Infinit...|     30447|\n",
            "|   Avengers: Endgame|     26262|\n",
            "|Avengers: Age of ...|     23377|\n",
            "|       Black Panther|     22517|\n",
            "|Harry Potter and ...|     20983|\n",
            "|      Jurassic World|     20655|\n",
            "|Star Wars: The Fo...|     19701|\n",
            "|              Frozen|     16823|\n",
            "+--------------------+----------+\n",
            "\n"
          ]
        }
      ]
    },
    {
      "cell_type": "code",
      "source": [
        "# Highest Rated Movies\n",
        "highest_rated = rank_movies(copy, \"vote_average\", ascending=False)\n",
        "highest_rated.select(\"title\", \"vote_average\").show()"
      ],
      "metadata": {
        "colab": {
          "base_uri": "https://localhost:8080/"
        },
        "id": "HXr3OshEsnWB",
        "outputId": "bc4ac6bf-3a8e-4fa6-9801-f85acf0606b0"
      },
      "execution_count": 47,
      "outputs": [
        {
          "output_type": "stream",
          "name": "stdout",
          "text": [
            "+--------------------+------------+\n",
            "|               title|vote_average|\n",
            "+--------------------+------------+\n",
            "|   Avengers: Endgame|       8.237|\n",
            "|Avengers: Infinit...|       8.235|\n",
            "|Harry Potter and ...|       8.087|\n",
            "|        The Avengers|       7.741|\n",
            "|              Avatar|       7.588|\n",
            "|       Incredibles 2|       7.454|\n",
            "|       Black Panther|       7.373|\n",
            "|Avengers: Age of ...|       7.271|\n",
            "|Star Wars: The Fo...|       7.261|\n",
            "|           Frozen II|       7.249|\n",
            "+--------------------+------------+\n",
            "\n"
          ]
        }
      ]
    },
    {
      "cell_type": "code",
      "source": [
        "# Lowest Rated movies\n",
        "lowest_rated = rank_movies(copy, \"vote_average\", ascending=True)\n",
        "lowest_rated.select(\"title\", \"vote_average\").show()"
      ],
      "metadata": {
        "colab": {
          "base_uri": "https://localhost:8080/"
        },
        "id": "SF3U2fvxtnL7",
        "outputId": "2e57c41b-e851-4a39-842d-44dc59e46146"
      },
      "execution_count": 52,
      "outputs": [
        {
          "output_type": "stream",
          "name": "stdout",
          "text": [
            "+--------------------+------------+\n",
            "|               title|vote_average|\n",
            "+--------------------+------------+\n",
            "|Jurassic World: F...|       6.538|\n",
            "|      Jurassic World|       6.694|\n",
            "|Star Wars: The La...|         6.8|\n",
            "|       The Lion King|       7.111|\n",
            "|           Furious 7|       7.226|\n",
            "|              Frozen|       7.247|\n",
            "|           Frozen II|       7.249|\n",
            "|Star Wars: The Fo...|       7.261|\n",
            "|Avengers: Age of ...|       7.271|\n",
            "|       Black Panther|       7.373|\n",
            "+--------------------+------------+\n",
            "\n"
          ]
        }
      ]
    },
    {
      "cell_type": "code",
      "source": [
        "# Most Popular Movies\n",
        "most_popular = rank_movies(copy, \"popularity\")\n",
        "most_popular.select(\"title\", \"popularity\").show()"
      ],
      "metadata": {
        "colab": {
          "base_uri": "https://localhost:8080/"
        },
        "id": "b32gKwRztsZD",
        "outputId": "bf57e841-660b-4a6a-8651-2750c3da4e84"
      },
      "execution_count": 53,
      "outputs": [
        {
          "output_type": "stream",
          "name": "stdout",
          "text": [
            "+--------------------+----------+\n",
            "|               title|popularity|\n",
            "+--------------------+----------+\n",
            "|Avengers: Infinit...|  122.0331|\n",
            "|       The Lion King|   97.0871|\n",
            "|Star Wars: The La...|   91.5889|\n",
            "|       Black Panther|   87.9532|\n",
            "|   Avengers: Endgame|   73.6149|\n",
            "|Jurassic World: F...|   72.0926|\n",
            "|        The Avengers|   33.3085|\n",
            "|              Avatar|   25.0365|\n",
            "|Avengers: Age of ...|    24.122|\n",
            "|              Frozen|   20.4818|\n",
            "+--------------------+----------+\n",
            "\n"
          ]
        }
      ]
    },
    {
      "cell_type": "markdown",
      "source": [
        "\n",
        "\n",
        "---\n",
        "\n"
      ],
      "metadata": {
        "id": "KwRHApsjuUCP"
      }
    },
    {
      "cell_type": "markdown",
      "source": [
        "# Advanced Movies Filtering and Search Queries"
      ],
      "metadata": {
        "id": "lVxjYLZ8uVXi"
      }
    },
    {
      "cell_type": "markdown",
      "source": [
        "Filtering the dataset based on specific queries"
      ],
      "metadata": {
        "id": "qXOkrelqubB8"
      }
    },
    {
      "cell_type": "markdown",
      "source": [
        "* Search 1"
      ],
      "metadata": {
        "id": "QHGUzrbA3SrF"
      }
    },
    {
      "cell_type": "code",
      "source": [
        "sci_fi_action_bruce = copy.filter(col(\"genres\").like(\"%Science Fiction%\") &\n",
        "                                  col(\"genres\").like(\"%Action%\") &\n",
        "                                  col(\"cast\").like(\"%Bruce Willis%\")\n",
        "                                  ).orderBy(col(\"vote_average\").desc())\n",
        "sci_fi_action_bruce.select(\"title\", \"vote_average\", \"genres\", \"cast\").show(truncate=False)"
      ],
      "metadata": {
        "colab": {
          "base_uri": "https://localhost:8080/"
        },
        "id": "HItdSNc_2-SO",
        "outputId": "3a431275-efa4-4d5a-cf79-d39e93517e2d"
      },
      "execution_count": 58,
      "outputs": [
        {
          "output_type": "stream",
          "name": "stdout",
          "text": [
            "+-----+------------+------+----+\n",
            "|title|vote_average|genres|cast|\n",
            "+-----+------------+------+----+\n",
            "+-----+------------+------+----+\n",
            "\n"
          ]
        }
      ]
    },
    {
      "cell_type": "markdown",
      "source": [
        "* Search 2"
      ],
      "metadata": {
        "id": "Uo8ovHrv3WUu"
      }
    },
    {
      "cell_type": "code",
      "source": [
        "uma_quentin_movies = copy.filter((col(\"cast\").like(\"%Uma Thurman%\")) & (col(\"director\") == \"Quentin Tarantino\")).orderBy(col(\"runtime\").asc())\n",
        "uma_quentin_movies.select(\"title\", \"runtime\").show()"
      ],
      "metadata": {
        "colab": {
          "base_uri": "https://localhost:8080/"
        },
        "id": "sav4k4ew3ZFR",
        "outputId": "ee5303f3-73c1-494b-a4c1-7c6c852c2c17"
      },
      "execution_count": 59,
      "outputs": [
        {
          "output_type": "stream",
          "name": "stdout",
          "text": [
            "+-----+-------+\n",
            "|title|runtime|\n",
            "+-----+-------+\n",
            "+-----+-------+\n",
            "\n"
          ]
        }
      ]
    },
    {
      "cell_type": "code",
      "source": [],
      "metadata": {
        "id": "ZBQ68ISx3psR"
      },
      "execution_count": null,
      "outputs": []
    }
  ],
  "metadata": {
    "colab": {
      "provenance": [],
      "collapsed_sections": [
        "rdgNKoVR_UDX",
        "ZasikCBgz-AX",
        "0LApjp3AzqpY"
      ]
    },
    "kernelspec": {
      "display_name": "Python 3",
      "name": "python3"
    },
    "language_info": {
      "name": "python"
    }
  },
  "nbformat": 4,
  "nbformat_minor": 0
}