{
  "cells": [
    {
      "cell_type": "markdown",
      "metadata": {
        "id": "rdgNKoVR_UDX"
      },
      "source": [
        "# Data Extraction from API using Pyspark"
      ]
    },
    {
      "cell_type": "markdown",
      "metadata": {
        "id": "gguOuIVTtgWE"
      },
      "source": [
        "This PySpark script fetches movie data from The Movie Database (TMDB) API, processes it, and creates a structured DataFrame for analysis. The pipeline extracts movie details incluigin credits information for a predefined set of popular movies."
      ]
    },
    {
      "cell_type": "code",
      "execution_count": null,
      "metadata": {
        "colab": {
          "base_uri": "https://localhost:8080/"
        },
        "id": "Pn6cR-jDqIdL",
        "outputId": "1faf37af-5809-4fcc-a53f-15621e27ab97"
      },
      "outputs": [
        {
          "name": "stdout",
          "output_type": "stream",
          "text": [
            "+-----+--------------------+---------------------+---------+--------------------+--------------------+------+---------+-----------------+--------------------+--------------------+----------+--------------------+--------------------+--------------------+------------+----------+-------+--------------------+--------+--------------------+--------------------+-----+------------+----------+--------------------+\n",
            "|adult|       backdrop_path|belongs_to_collection|   budget|              genres|            homepage|    id|  imdb_id|original_language|      original_title|            overview|popularity|         poster_path|production_companies|production_countries|release_date|   revenue|runtime|    spoken_languages|  status|             tagline|               title|video|vote_average|vote_count|             credits|\n",
            "+-----+--------------------+---------------------+---------+--------------------+--------------------+------+---------+-----------------+--------------------+--------------------+----------+--------------------+--------------------+--------------------+------------+----------+-------+--------------------+--------+--------------------+--------------------+-----+------------+----------+--------------------+\n",
            "|false|/7RyHsO4yDXtBv1zU...| {86311, The Aveng...|356000000|[{12, Adventure},...|https://www.marve...|299534|tt4154796|               en|   Avengers: Endgame|After the devasta...|   63.2407|/ulzhLuWrPK07P1Yk...|[{420, /hUzeosd33...|[{US, United Stat...|  2019-04-24|2799439100|    181|[{English, en, En...|Released|  Avenge the fallen.|   Avengers: Endgame|false|       8.237|     26258|{[{false, 2, 3223...|\n",
            "|false|/vL5LR6WdxWPjLPFR...| {87096, Avatar Co...|237000000|[{28, Action}, {1...|https://www.avata...| 19995|tt0499549|               en|              Avatar|In the 22nd centu...|   27.7054|/kyeqWdyUXW608qlY...|[{444, NULL, Dune...|[{US, United Stat...|  2009-12-15|2923706026|    162|[{English, en, En...|Released|Enter the world o...|              Avatar|false|       7.588|     32166|{[{false, 2, 6573...|\n",
            "|false|/k6EOrckWFuz7I4z4...| {10, Star Wars Co...|245000000|[{12, Adventure},...|http://www.starwa...|140607|tt2488496|               en|Star Wars: The Fo...|Thirty years afte...|   16.3522|/wqnLdwVXoBjKibFR...|[{1, /tlVSws0Rvvt...|[{US, United Stat...|  2015-12-15|2068223624|    136|[{English, en, En...|Released|Every generation ...|Star Wars: The Fo...|false|       7.261|     19699|{[{false, 2, 3, A...|\n",
            "|false|/mDfJG3LC3Dqb67AZ...| {86311, The Aveng...|300000000|[{12, Adventure},...|https://www.marve...|299536|tt4154756|               en|Avengers: Infinit...|As the Avengers a...|  110.6769|/7WsyChQLEftFiDOV...|[{420, /hUzeosd33...|[{US, United Stat...|  2018-04-25|2052415039|    149|[{English, en, En...|Released|Destiny arrives a...|Avengers: Infinit...|false|       8.235|     30442|{[{false, 2, 3223...|\n",
            "|false|/sCzcYW9h55WcesOq...|                 NULL|200000000|[{18, Drama}, {10...|https://www.param...|   597|tt0120338|               en|             Titanic|101-year-old Rose...|   44.4478|/9xjZS2rlVxm8SFx8...|[{4, /gz66EfNoYPq...|[{US, United Stat...|  1997-11-18|2264162353|    194|[{English, en, En...|Released|Nothing on Earth ...|             Titanic|false|       7.905|     25923|{[{false, 2, 6193...|\n",
            "|false|/aIGIYJTyOkEVUmEd...| {328, Jurassic Pa...|150000000|[{28, Action}, {1...|https://www.juras...|135397|tt0369610|               en|      Jurassic World|Twenty-two years ...|     17.34|/rhr4y79GpxQF9Isf...|[{56, /cEaxANEisC...|[{US, United Stat...|  2015-06-06|1671537444|    124|[{English, en, En...|Released|   The park is open.|      Jurassic World|false|       6.693|     20652|{[{false, 2, 7345...|\n",
            "|false|/1TUg5pO1VZ4B0Q1a...| {762512, The Lion...|260000000|[{12, Adventure},...|https://movies.di...|420818|tt6105098|               en|       The Lion King|Simba idolizes hi...|   79.3952|/dzBtMocZuJbjLOXv...|[{2, /wdrCwmRnLFJ...|[{US, United Stat...|  2019-07-12|1662020819|    118|[{English, en, En...|Released|The king has retu...|       The Lion King|false|        7.11|     10325|{[{false, 2, 5294...|\n",
            "|false|/9BBTo63ANSmhC4e6...| {86311, The Aveng...|220000000|[{878, Science Fi...|https://www.marve...| 24428|tt0848228|               en|        The Avengers|When an unexpecte...|   36.0158|/RYMX2wcKCBAr24Uy...|[{420, /hUzeosd33...|[{US, United Stat...|  2012-04-25|1518815515|    143|[{English, en, En...|Released|Some assembly req...|        The Avengers|false|       7.741|     31639|{[{false, 2, 3223...|\n",
            "|false|/cHkhb5A4gQRK6zs6...| {9485, The Fast a...|190000000|[{28, Action}, {5...|https://www.uphe....|168259|tt2820852|               en|           Furious 7|Deckard Shaw seek...|   15.1569|/wurKlC3VKUgcfsn0...|[{333, /5xUJfzPZ8...|[{US, United Stat...|  2015-04-01|1515400000|    137|[{Arabic, ar, الع...|Released|Vengeance hits home.|           Furious 7|false|       7.226|     10779|{[{false, 2, 1283...|\n",
            "|false|/6YwkGolwdOMNpbTO...| {86311, The Aveng...|365000000|[{28, Action}, {1...|https://www.marve...| 99861|tt2395427|               en|Avengers: Age of ...|When Tony Stark t...|   24.9273|/4ssDuvEDkSArWEdy...|[{420, /hUzeosd33...|[{US, United Stat...|  2015-04-22|1405403694|    141|[{English, en, En...|Released| A new age has come.|Avengers: Age of ...|false|       7.271|     23374|{[{false, 2, 3223...|\n",
            "|false|/b6ZJZHUdMEFECvGi...| {529892, Black Pa...|200000000|[{28, Action}, {1...|https://www.marve...|284054|tt1825683|               en|       Black Panther|King T'Challa ret...|   72.9206|/uxzzxijgPIY7slzF...|[{420, /hUzeosd33...|[{US, United Stat...|  2018-02-13|1349926083|    135|[{English, en, En...|Released| Long live the king.|       Black Panther|false|       7.373|     22516|{[{false, 2, 1720...|\n",
            "|false|/n5A7brJCjejceZmH...| {1241, Harry Pott...|125000000|[{14, Fantasy}, {...|https://www.warne...| 12445|tt1201607|               en|Harry Potter and ...|Harry, Ron and He...|   19.8878|/c54HpQmuwXjHq2C9...|[{174, /zhD3hhtKB...|[{GB, United King...|  2011-07-12|1341511219|    130|[{English, en, En...|Released|        It all ends.|Harry Potter and ...|false|       8.087|     20978|{[{false, 2, 1098...|\n",
            "|false|/5Iw7zQTHVRBOYpA0...| {10, Star Wars Co...|200000000|[{12, Adventure},...|https://www.starw...|181808|tt2527336|               en|Star Wars: The La...|Rey develops her ...|   74.7713|/kOVEVeg59E0wsnXm...|[{1, /tlVSws0Rvvt...|[{US, United Stat...|  2017-12-13|1332698830|    152|[{English, en, En...|Released|Darkness rises......|Star Wars: The La...|false|       6.778|     15559|{[{false, 2, 2, A...|\n",
            "|false|/AoSZyb37ljMAxw0R...| {386382, Frozen C...|150000000|[{10751, Family},...|https://movies.di...|330457|tt4520988|               en|           Frozen II|Elsa, Anna, Krist...|   13.7765|/mINJaa34MtknCYl5...|[{2, /wdrCwmRnLFJ...|[{US, United Stat...|  2019-11-20|1453683476|    103|[{English, en, En...|Released|The past is not w...|           Frozen II|false|       7.249|      9884|{[{false, 1, 4046...|\n",
            "|false|/6WA9stUMbIkEPxn3...| {328, Jurassic Pa...|170000000|[{28, Action}, {1...|https://www.uphe....|351286|tt4881806|               en|Jurassic World: F...|Three years after...|    57.162|/270MrJNqJovumHXG...|[{56, /cEaxANEisC...|[{US, United Stat...|  2018-06-06|1310466296|    129|[{English, en, En...|Released|   The park is gone.|Jurassic World: F...|false|       6.538|     12023|{[{false, 2, 7345...|\n",
            "|false|/u2bZhH3nTf0So0UI...| {386382, Frozen C...|150000000|[{16, Animation},...|http://movies.dis...|109445|tt2294629|               en|              Frozen|Young princess An...|   20.8509|/m4uhSpErBKprhscl...|[{2, /wdrCwmRnLFJ...|[{US, United Stat...|  2013-11-20|1274219009|    102|[{English, en, En...|Released|Only the act of t...|              Frozen|false|       7.247|     16819|{[{false, 1, 4046...|\n",
            "|false|/uU1Mt4JWhDvl4vKb...|                 NULL|160000000|[{10751, Family},...|http://movies.dis...|321612|tt2771200|               en|Beauty and the Beast|A live-action ada...|   77.8782|/hKegSKIDep2ewJWP...|[{2, /wdrCwmRnLFJ...|[{US, United Stat...|  2017-03-16|1266115964|    129|[{English, en, En...|Released|       Be our guest.|Beauty and the Beast|false|       6.971|     15596|{[{false, 1, 1099...|\n",
            "|false|/mabuNsGJgRuCTuGq...| {468222, The Incr...|200000000|[{28, Action}, {1...|https://movies.di...|260513|tt3606756|               en|       Incredibles 2|Elastigirl spring...|   10.4127|/9lFKBtaVIhP7E2Pk...|[{2, /wdrCwmRnLFJ...|[{US, United Stat...|  2018-06-14|1242805359|    118|[{English, en, En...|Released|It's been too lon...|       Incredibles 2|false|       7.455|     13039|{[{false, 2, 8977...|\n",
            "+-----+--------------------+---------------------+---------+--------------------+--------------------+------+---------+-----------------+--------------------+--------------------+----------+--------------------+--------------------+--------------------+------------+----------+-------+--------------------+--------+--------------------+--------------------+-----+------------+----------+--------------------+\n",
            "\n"
          ]
        }
      ],
      "source": [
        "from pyspark.sql import SparkSession\n",
        "from pyspark.sql.functions import *\n",
        "from pyspark.sql.types import *\n",
        "import requests\n",
        "import json\n",
        "\n",
        "# Initializing Spark Session\n",
        "spark = SparkSession.builder \\\n",
        "    .appName(\"TMDB Movie Analysis\") \\\n",
        "    .config(\"spark.driver.memory\", \"4g\") \\\n",
        "    .getOrCreate()\n",
        "\n",
        "api_key = \"Hidden\"\n",
        "base_url = \"https://api.themoviedb.org/3/movie/\"\n",
        "\n",
        "headers = {\n",
        "    \"accept\": \"application/json\",\n",
        "    \"Authorization\": \"Bearer Hidden\"\n",
        "}\n",
        "\n",
        "# movie IDs to fetch\n",
        "movie_ids = [299534, 19995, 140607, 299536, 597, 135397,\n",
        "             420818, 24428, 168259, 99861, 284054, 12445,\n",
        "             181808, 330457, 351286, 109445, 321612, 260513]\n",
        "\n",
        "\n",
        "# Defining the schema for the movie data\n",
        "movie_schema = StructType([\n",
        "    StructField(\"adult\", BooleanType(), True),\n",
        "    StructField(\"backdrop_path\", StringType(), True),\n",
        "    StructField(\"belongs_to_collection\", StructType([\n",
        "        StructField(\"id\", IntegerType(), True),\n",
        "        StructField(\"name\", StringType(), True),\n",
        "        StructField(\"poster_path\", StringType(), True),\n",
        "        StructField(\"backdrop_path\", StringType(), True)\n",
        "    ]), True),\n",
        "    StructField(\"budget\", LongType(), True),\n",
        "    StructField(\"genres\", ArrayType(StructType([\n",
        "        StructField(\"id\", IntegerType(), True),\n",
        "        StructField(\"name\", StringType(), True)\n",
        "    ])), True),\n",
        "    StructField(\"homepage\", StringType(), True),\n",
        "    StructField(\"id\", IntegerType(), True),\n",
        "    StructField(\"imdb_id\", StringType(), True),\n",
        "    StructField(\"original_language\", StringType(), True),\n",
        "    StructField(\"original_title\", StringType(), True),\n",
        "    StructField(\"overview\", StringType(), True),\n",
        "    StructField(\"popularity\", DoubleType(), True),\n",
        "    StructField(\"poster_path\", StringType(), True),\n",
        "    StructField(\"production_companies\", ArrayType(StructType([\n",
        "        StructField(\"id\", IntegerType(), True),\n",
        "        StructField(\"logo_path\", StringType(), True),\n",
        "        StructField(\"name\", StringType(), True),\n",
        "        StructField(\"origin_country\", StringType(), True)\n",
        "    ])), True),\n",
        "    StructField(\"production_countries\", ArrayType(StructType([\n",
        "        StructField(\"iso_3166_1\", StringType(), True),\n",
        "        StructField(\"name\", StringType(), True)\n",
        "    ])), True),\n",
        "    StructField(\"release_date\", StringType(), True),\n",
        "    StructField(\"revenue\", LongType(), True),\n",
        "    StructField(\"runtime\", IntegerType(), True),\n",
        "    StructField(\"spoken_languages\", ArrayType(StructType([\n",
        "        StructField(\"english_name\", StringType(), True),\n",
        "        StructField(\"iso_639_1\", StringType(), True),\n",
        "        StructField(\"name\", StringType(), True)\n",
        "\n",
        "    ])), True),\n",
        "    StructField(\"status\", StringType(), True),\n",
        "    StructField(\"tagline\", StringType(), True),\n",
        "    StructField(\"title\", StringType(), True),\n",
        "    StructField(\"video\", BooleanType(), True),\n",
        "    StructField(\"vote_average\", DoubleType(), True),\n",
        "    StructField(\"vote_count\", IntegerType(), True),\n",
        "    StructField(\"credits\", StructType([\n",
        "        StructField(\"cast\", ArrayType(StructType([\n",
        "\n",
        "            # Adding fields for cast members\n",
        "            StructField(\"adult\", BooleanType(), True),\n",
        "            StructField(\"gender\", IntegerType(), True),\n",
        "            StructField(\"id\", IntegerType(), True),\n",
        "            StructField(\"known_for_department\", StringType(), True),\n",
        "            StructField(\"name\", StringType(), True),\n",
        "            StructField(\"original_name\", StringType(), True),\n",
        "            StructField(\"popularity\", DoubleType(), True),\n",
        "            StructField(\"profile_path\", StringType(), True),\n",
        "            StructField(\"cast_id\", IntegerType(), True),\n",
        "            StructField(\"character\", StringType(), True),\n",
        "            StructField(\"credit_id\", StringType(), True),\n",
        "            StructField(\"order\", IntegerType(), True)\n",
        "\n",
        "        ])), True),\n",
        "        StructField(\"crew\", ArrayType(StructType([\n",
        "            # Adding fields for crew members\n",
        "            StructField(\"adult\", BooleanType(), True),\n",
        "            StructField(\"gender\", IntegerType(), True),\n",
        "            StructField(\"id\", IntegerType(), True),\n",
        "            StructField(\"known_for_department\", StringType(), True),\n",
        "            StructField(\"name\", StringType(), True),\n",
        "            StructField(\"original_name\", StringType(), True),\n",
        "            StructField(\"popularity\", DoubleType(), True),\n",
        "            StructField(\"profile_path\", StringType(), True),\n",
        "            StructField(\"credit_id\", StringType(), True),\n",
        "            StructField(\"department\", StringType(), True),\n",
        "            StructField(\"job\", StringType(), True)\n",
        "\n",
        "        ])), True)\n",
        "    ]), True)\n",
        "])\n",
        "\n",
        "# Defining a function to fetch movie data\n",
        "def fetch_movie_data(movie_id):\n",
        "    url = f\"{base_url}{movie_id}?append_to_response=credits\"\n",
        "    response = requests.get(url, headers=headers)\n",
        "    if response.status_code == 200:\n",
        "        return response.json()\n",
        "    else:\n",
        "        print(f\"Failed to fetch data for movie ID {movie_id}, status code: {response.status_code}\")\n",
        "        return None\n",
        "\n",
        "# Fetching data for all movies\n",
        "movie_data = []\n",
        "for movie_id in movie_ids:\n",
        "    data = fetch_movie_data(movie_id)\n",
        "    if data:\n",
        "        movie_data.append(data)\n",
        "\n",
        "# Checking if movie_data is empty and provide a helpful message if it is\n",
        "if not movie_data:\n",
        "    print(\"No data was fetched from the API. Please check your movie IDs and API key.\")\n",
        "else:\n",
        "\n",
        "\n",
        "    # Converting to a PySpark DataFrame\n",
        "    data = spark.createDataFrame(movie_data, schema=movie_schema)\n",
        "data.show()"
      ]
    },
    {
      "cell_type": "code",
      "execution_count": null,
      "metadata": {
        "id": "VsYuzP7zJvqK"
      },
      "outputs": [],
      "source": []
    },
    {
      "cell_type": "markdown",
      "metadata": {
        "id": "ZasikCBgz-AX"
      },
      "source": [
        "# Extracting and Cleaning JSON-like Columns"
      ]
    },
    {
      "cell_type": "markdown",
      "metadata": {
        "id": "l8kY5EEG0cXG"
      },
      "source": [
        "Dropping irrelevant columns"
      ]
    },
    {
      "cell_type": "code",
      "execution_count": 181,
      "metadata": {
        "colab": {
          "base_uri": "https://localhost:8080/"
        },
        "id": "MUjZBmkIzkhn",
        "outputId": "6f06b574-0be2-491e-ed1f-17836df231db"
      },
      "outputs": [
        {
          "name": "stdout",
          "output_type": "stream",
          "text": [
            "+--------------------+---------------------+---------+--------------------+------+-----------------+--------------------+----------+--------------------+--------------------+--------------------+------------+----------+-------+--------------------+--------+--------------------+--------------------+------------+----------+--------------------+\n",
            "|       backdrop_path|belongs_to_collection|   budget|              genres|    id|original_language|            overview|popularity|         poster_path|production_companies|production_countries|release_date|   revenue|runtime|    spoken_languages|  status|             tagline|               title|vote_average|vote_count|             credits|\n",
            "+--------------------+---------------------+---------+--------------------+------+-----------------+--------------------+----------+--------------------+--------------------+--------------------+------------+----------+-------+--------------------+--------+--------------------+--------------------+------------+----------+--------------------+\n",
            "|/7RyHsO4yDXtBv1zU...| {86311, The Aveng...|356000000|[{12, Adventure},...|299534|               en|After the devasta...|   63.2407|/ulzhLuWrPK07P1Yk...|[{420, /hUzeosd33...|[{US, United Stat...|  2019-04-24|2799439100|    181|[{English, en, En...|Released|  Avenge the fallen.|   Avengers: Endgame|       8.237|     26258|{[{false, 2, 3223...|\n",
            "|/vL5LR6WdxWPjLPFR...| {87096, Avatar Co...|237000000|[{28, Action}, {1...| 19995|               en|In the 22nd centu...|   27.7054|/kyeqWdyUXW608qlY...|[{444, NULL, Dune...|[{US, United Stat...|  2009-12-15|2923706026|    162|[{English, en, En...|Released|Enter the world o...|              Avatar|       7.588|     32166|{[{false, 2, 6573...|\n",
            "|/k6EOrckWFuz7I4z4...| {10, Star Wars Co...|245000000|[{12, Adventure},...|140607|               en|Thirty years afte...|   16.3522|/wqnLdwVXoBjKibFR...|[{1, /tlVSws0Rvvt...|[{US, United Stat...|  2015-12-15|2068223624|    136|[{English, en, En...|Released|Every generation ...|Star Wars: The Fo...|       7.261|     19699|{[{false, 2, 3, A...|\n",
            "|/mDfJG3LC3Dqb67AZ...| {86311, The Aveng...|300000000|[{12, Adventure},...|299536|               en|As the Avengers a...|  110.6769|/7WsyChQLEftFiDOV...|[{420, /hUzeosd33...|[{US, United Stat...|  2018-04-25|2052415039|    149|[{English, en, En...|Released|Destiny arrives a...|Avengers: Infinit...|       8.235|     30442|{[{false, 2, 3223...|\n",
            "|/sCzcYW9h55WcesOq...|                 NULL|200000000|[{18, Drama}, {10...|   597|               en|101-year-old Rose...|   44.4478|/9xjZS2rlVxm8SFx8...|[{4, /gz66EfNoYPq...|[{US, United Stat...|  1997-11-18|2264162353|    194|[{English, en, En...|Released|Nothing on Earth ...|             Titanic|       7.905|     25923|{[{false, 2, 6193...|\n",
            "|/aIGIYJTyOkEVUmEd...| {328, Jurassic Pa...|150000000|[{28, Action}, {1...|135397|               en|Twenty-two years ...|     17.34|/rhr4y79GpxQF9Isf...|[{56, /cEaxANEisC...|[{US, United Stat...|  2015-06-06|1671537444|    124|[{English, en, En...|Released|   The park is open.|      Jurassic World|       6.693|     20652|{[{false, 2, 7345...|\n",
            "|/1TUg5pO1VZ4B0Q1a...| {762512, The Lion...|260000000|[{12, Adventure},...|420818|               en|Simba idolizes hi...|   79.3952|/dzBtMocZuJbjLOXv...|[{2, /wdrCwmRnLFJ...|[{US, United Stat...|  2019-07-12|1662020819|    118|[{English, en, En...|Released|The king has retu...|       The Lion King|        7.11|     10325|{[{false, 2, 5294...|\n",
            "|/9BBTo63ANSmhC4e6...| {86311, The Aveng...|220000000|[{878, Science Fi...| 24428|               en|When an unexpecte...|   36.0158|/RYMX2wcKCBAr24Uy...|[{420, /hUzeosd33...|[{US, United Stat...|  2012-04-25|1518815515|    143|[{English, en, En...|Released|Some assembly req...|        The Avengers|       7.741|     31639|{[{false, 2, 3223...|\n",
            "|/cHkhb5A4gQRK6zs6...| {9485, The Fast a...|190000000|[{28, Action}, {5...|168259|               en|Deckard Shaw seek...|   15.1569|/wurKlC3VKUgcfsn0...|[{333, /5xUJfzPZ8...|[{US, United Stat...|  2015-04-01|1515400000|    137|[{Arabic, ar, الع...|Released|Vengeance hits home.|           Furious 7|       7.226|     10779|{[{false, 2, 1283...|\n",
            "|/6YwkGolwdOMNpbTO...| {86311, The Aveng...|365000000|[{28, Action}, {1...| 99861|               en|When Tony Stark t...|   24.9273|/4ssDuvEDkSArWEdy...|[{420, /hUzeosd33...|[{US, United Stat...|  2015-04-22|1405403694|    141|[{English, en, En...|Released| A new age has come.|Avengers: Age of ...|       7.271|     23374|{[{false, 2, 3223...|\n",
            "|/b6ZJZHUdMEFECvGi...| {529892, Black Pa...|200000000|[{28, Action}, {1...|284054|               en|King T'Challa ret...|   72.9206|/uxzzxijgPIY7slzF...|[{420, /hUzeosd33...|[{US, United Stat...|  2018-02-13|1349926083|    135|[{English, en, En...|Released| Long live the king.|       Black Panther|       7.373|     22516|{[{false, 2, 1720...|\n",
            "|/n5A7brJCjejceZmH...| {1241, Harry Pott...|125000000|[{14, Fantasy}, {...| 12445|               en|Harry, Ron and He...|   19.8878|/c54HpQmuwXjHq2C9...|[{174, /zhD3hhtKB...|[{GB, United King...|  2011-07-12|1341511219|    130|[{English, en, En...|Released|        It all ends.|Harry Potter and ...|       8.087|     20978|{[{false, 2, 1098...|\n",
            "|/5Iw7zQTHVRBOYpA0...| {10, Star Wars Co...|200000000|[{12, Adventure},...|181808|               en|Rey develops her ...|   74.7713|/kOVEVeg59E0wsnXm...|[{1, /tlVSws0Rvvt...|[{US, United Stat...|  2017-12-13|1332698830|    152|[{English, en, En...|Released|Darkness rises......|Star Wars: The La...|       6.778|     15559|{[{false, 2, 2, A...|\n",
            "|/AoSZyb37ljMAxw0R...| {386382, Frozen C...|150000000|[{10751, Family},...|330457|               en|Elsa, Anna, Krist...|   13.7765|/mINJaa34MtknCYl5...|[{2, /wdrCwmRnLFJ...|[{US, United Stat...|  2019-11-20|1453683476|    103|[{English, en, En...|Released|The past is not w...|           Frozen II|       7.249|      9884|{[{false, 1, 4046...|\n",
            "|/6WA9stUMbIkEPxn3...| {328, Jurassic Pa...|170000000|[{28, Action}, {1...|351286|               en|Three years after...|    57.162|/270MrJNqJovumHXG...|[{56, /cEaxANEisC...|[{US, United Stat...|  2018-06-06|1310466296|    129|[{English, en, En...|Released|   The park is gone.|Jurassic World: F...|       6.538|     12023|{[{false, 2, 7345...|\n",
            "|/u2bZhH3nTf0So0UI...| {386382, Frozen C...|150000000|[{16, Animation},...|109445|               en|Young princess An...|   20.8509|/m4uhSpErBKprhscl...|[{2, /wdrCwmRnLFJ...|[{US, United Stat...|  2013-11-20|1274219009|    102|[{English, en, En...|Released|Only the act of t...|              Frozen|       7.247|     16819|{[{false, 1, 4046...|\n",
            "|/uU1Mt4JWhDvl4vKb...|                 NULL|160000000|[{10751, Family},...|321612|               en|A live-action ada...|   77.8782|/hKegSKIDep2ewJWP...|[{2, /wdrCwmRnLFJ...|[{US, United Stat...|  2017-03-16|1266115964|    129|[{English, en, En...|Released|       Be our guest.|Beauty and the Beast|       6.971|     15596|{[{false, 1, 1099...|\n",
            "|/mabuNsGJgRuCTuGq...| {468222, The Incr...|200000000|[{28, Action}, {1...|260513|               en|Elastigirl spring...|   10.4127|/9lFKBtaVIhP7E2Pk...|[{2, /wdrCwmRnLFJ...|[{US, United Stat...|  2018-06-14|1242805359|    118|[{English, en, En...|Released|It's been too lon...|       Incredibles 2|       7.455|     13039|{[{false, 2, 8977...|\n",
            "+--------------------+---------------------+---------+--------------------+------+-----------------+--------------------+----------+--------------------+--------------------+--------------------+------------+----------+-------+--------------------+--------+--------------------+--------------------+------------+----------+--------------------+\n",
            "\n"
          ]
        }
      ],
      "source": [
        "columns_to_drop = ['adult', 'imdb_id', 'original_title', 'video', 'homepage']\n",
        "data = data.drop(*columns_to_drop)\n",
        "data.show()"
      ]
    },
    {
      "cell_type": "markdown",
      "metadata": {},
      "source": [
        "Creating a copy of the dataset to avoid any changes that may be made to the original dataset"
      ]
    },
    {
      "cell_type": "code",
      "execution_count": 182,
      "metadata": {
        "colab": {
          "base_uri": "https://localhost:8080/"
        },
        "collapsed": true,
        "id": "wuh-zQJIopVx",
        "outputId": "3084164a-01d0-4548-c51c-3bb2bbe3d3e0"
      },
      "outputs": [
        {
          "name": "stdout",
          "output_type": "stream",
          "text": [
            "+--------------------+---------------------+---------+--------------------+------+-----------------+--------------------+----------+--------------------+--------------------+--------------------+------------+----------+-------+--------------------+--------+--------------------+--------------------+------------+----------+--------------------+\n",
            "|       backdrop_path|belongs_to_collection|   budget|              genres|    id|original_language|            overview|popularity|         poster_path|production_companies|production_countries|release_date|   revenue|runtime|    spoken_languages|  status|             tagline|               title|vote_average|vote_count|             credits|\n",
            "+--------------------+---------------------+---------+--------------------+------+-----------------+--------------------+----------+--------------------+--------------------+--------------------+------------+----------+-------+--------------------+--------+--------------------+--------------------+------------+----------+--------------------+\n",
            "|/7RyHsO4yDXtBv1zU...| {86311, The Aveng...|356000000|[{12, Adventure},...|299534|               en|After the devasta...|   63.2407|/ulzhLuWrPK07P1Yk...|[{420, /hUzeosd33...|[{US, United Stat...|  2019-04-24|2799439100|    181|[{English, en, En...|Released|  Avenge the fallen.|   Avengers: Endgame|       8.237|     26258|{[{false, 2, 3223...|\n",
            "|/vL5LR6WdxWPjLPFR...| {87096, Avatar Co...|237000000|[{28, Action}, {1...| 19995|               en|In the 22nd centu...|   27.7054|/kyeqWdyUXW608qlY...|[{444, NULL, Dune...|[{US, United Stat...|  2009-12-15|2923706026|    162|[{English, en, En...|Released|Enter the world o...|              Avatar|       7.588|     32166|{[{false, 2, 6573...|\n",
            "|/k6EOrckWFuz7I4z4...| {10, Star Wars Co...|245000000|[{12, Adventure},...|140607|               en|Thirty years afte...|   16.3522|/wqnLdwVXoBjKibFR...|[{1, /tlVSws0Rvvt...|[{US, United Stat...|  2015-12-15|2068223624|    136|[{English, en, En...|Released|Every generation ...|Star Wars: The Fo...|       7.261|     19699|{[{false, 2, 3, A...|\n",
            "|/mDfJG3LC3Dqb67AZ...| {86311, The Aveng...|300000000|[{12, Adventure},...|299536|               en|As the Avengers a...|  110.6769|/7WsyChQLEftFiDOV...|[{420, /hUzeosd33...|[{US, United Stat...|  2018-04-25|2052415039|    149|[{English, en, En...|Released|Destiny arrives a...|Avengers: Infinit...|       8.235|     30442|{[{false, 2, 3223...|\n",
            "|/sCzcYW9h55WcesOq...|                 NULL|200000000|[{18, Drama}, {10...|   597|               en|101-year-old Rose...|   44.4478|/9xjZS2rlVxm8SFx8...|[{4, /gz66EfNoYPq...|[{US, United Stat...|  1997-11-18|2264162353|    194|[{English, en, En...|Released|Nothing on Earth ...|             Titanic|       7.905|     25923|{[{false, 2, 6193...|\n",
            "|/aIGIYJTyOkEVUmEd...| {328, Jurassic Pa...|150000000|[{28, Action}, {1...|135397|               en|Twenty-two years ...|     17.34|/rhr4y79GpxQF9Isf...|[{56, /cEaxANEisC...|[{US, United Stat...|  2015-06-06|1671537444|    124|[{English, en, En...|Released|   The park is open.|      Jurassic World|       6.693|     20652|{[{false, 2, 7345...|\n",
            "|/1TUg5pO1VZ4B0Q1a...| {762512, The Lion...|260000000|[{12, Adventure},...|420818|               en|Simba idolizes hi...|   79.3952|/dzBtMocZuJbjLOXv...|[{2, /wdrCwmRnLFJ...|[{US, United Stat...|  2019-07-12|1662020819|    118|[{English, en, En...|Released|The king has retu...|       The Lion King|        7.11|     10325|{[{false, 2, 5294...|\n",
            "|/9BBTo63ANSmhC4e6...| {86311, The Aveng...|220000000|[{878, Science Fi...| 24428|               en|When an unexpecte...|   36.0158|/RYMX2wcKCBAr24Uy...|[{420, /hUzeosd33...|[{US, United Stat...|  2012-04-25|1518815515|    143|[{English, en, En...|Released|Some assembly req...|        The Avengers|       7.741|     31639|{[{false, 2, 3223...|\n",
            "|/cHkhb5A4gQRK6zs6...| {9485, The Fast a...|190000000|[{28, Action}, {5...|168259|               en|Deckard Shaw seek...|   15.1569|/wurKlC3VKUgcfsn0...|[{333, /5xUJfzPZ8...|[{US, United Stat...|  2015-04-01|1515400000|    137|[{Arabic, ar, الع...|Released|Vengeance hits home.|           Furious 7|       7.226|     10779|{[{false, 2, 1283...|\n",
            "|/6YwkGolwdOMNpbTO...| {86311, The Aveng...|365000000|[{28, Action}, {1...| 99861|               en|When Tony Stark t...|   24.9273|/4ssDuvEDkSArWEdy...|[{420, /hUzeosd33...|[{US, United Stat...|  2015-04-22|1405403694|    141|[{English, en, En...|Released| A new age has come.|Avengers: Age of ...|       7.271|     23374|{[{false, 2, 3223...|\n",
            "|/b6ZJZHUdMEFECvGi...| {529892, Black Pa...|200000000|[{28, Action}, {1...|284054|               en|King T'Challa ret...|   72.9206|/uxzzxijgPIY7slzF...|[{420, /hUzeosd33...|[{US, United Stat...|  2018-02-13|1349926083|    135|[{English, en, En...|Released| Long live the king.|       Black Panther|       7.373|     22516|{[{false, 2, 1720...|\n",
            "|/n5A7brJCjejceZmH...| {1241, Harry Pott...|125000000|[{14, Fantasy}, {...| 12445|               en|Harry, Ron and He...|   19.8878|/c54HpQmuwXjHq2C9...|[{174, /zhD3hhtKB...|[{GB, United King...|  2011-07-12|1341511219|    130|[{English, en, En...|Released|        It all ends.|Harry Potter and ...|       8.087|     20978|{[{false, 2, 1098...|\n",
            "|/5Iw7zQTHVRBOYpA0...| {10, Star Wars Co...|200000000|[{12, Adventure},...|181808|               en|Rey develops her ...|   74.7713|/kOVEVeg59E0wsnXm...|[{1, /tlVSws0Rvvt...|[{US, United Stat...|  2017-12-13|1332698830|    152|[{English, en, En...|Released|Darkness rises......|Star Wars: The La...|       6.778|     15559|{[{false, 2, 2, A...|\n",
            "|/AoSZyb37ljMAxw0R...| {386382, Frozen C...|150000000|[{10751, Family},...|330457|               en|Elsa, Anna, Krist...|   13.7765|/mINJaa34MtknCYl5...|[{2, /wdrCwmRnLFJ...|[{US, United Stat...|  2019-11-20|1453683476|    103|[{English, en, En...|Released|The past is not w...|           Frozen II|       7.249|      9884|{[{false, 1, 4046...|\n",
            "|/6WA9stUMbIkEPxn3...| {328, Jurassic Pa...|170000000|[{28, Action}, {1...|351286|               en|Three years after...|    57.162|/270MrJNqJovumHXG...|[{56, /cEaxANEisC...|[{US, United Stat...|  2018-06-06|1310466296|    129|[{English, en, En...|Released|   The park is gone.|Jurassic World: F...|       6.538|     12023|{[{false, 2, 7345...|\n",
            "|/u2bZhH3nTf0So0UI...| {386382, Frozen C...|150000000|[{16, Animation},...|109445|               en|Young princess An...|   20.8509|/m4uhSpErBKprhscl...|[{2, /wdrCwmRnLFJ...|[{US, United Stat...|  2013-11-20|1274219009|    102|[{English, en, En...|Released|Only the act of t...|              Frozen|       7.247|     16819|{[{false, 1, 4046...|\n",
            "|/uU1Mt4JWhDvl4vKb...|                 NULL|160000000|[{10751, Family},...|321612|               en|A live-action ada...|   77.8782|/hKegSKIDep2ewJWP...|[{2, /wdrCwmRnLFJ...|[{US, United Stat...|  2017-03-16|1266115964|    129|[{English, en, En...|Released|       Be our guest.|Beauty and the Beast|       6.971|     15596|{[{false, 1, 1099...|\n",
            "|/mabuNsGJgRuCTuGq...| {468222, The Incr...|200000000|[{28, Action}, {1...|260513|               en|Elastigirl spring...|   10.4127|/9lFKBtaVIhP7E2Pk...|[{2, /wdrCwmRnLFJ...|[{US, United Stat...|  2018-06-14|1242805359|    118|[{English, en, En...|Released|It's been too lon...|       Incredibles 2|       7.455|     13039|{[{false, 2, 8977...|\n",
            "+--------------------+---------------------+---------+--------------------+------+-----------------+--------------------+----------+--------------------+--------------------+--------------------+------------+----------+-------+--------------------+--------+--------------------+--------------------+------------+----------+--------------------+\n",
            "\n"
          ]
        }
      ],
      "source": [
        "copy = data.alias(\"copied\")\n",
        "copy.show()"
      ]
    },
    {
      "cell_type": "markdown",
      "metadata": {
        "id": "7UmOW63x9gWF"
      },
      "source": [
        "Evaluating JSON-like columns"
      ]
    },
    {
      "cell_type": "markdown",
      "metadata": {
        "id": "9gikALzzGPYM"
      },
      "source": [
        "Extracting 'director' column from credits by filtering crew members whose job is 'Director' and extracting their names."
      ]
    },
    {
      "cell_type": "code",
      "execution_count": 183,
      "metadata": {
        "id": "JnC7Xllj9FPv"
      },
      "outputs": [],
      "source": [
        "copy = copy.withColumn(\"director\", expr(\"filter(credits.crew, x -> x.job = 'Director')[0].name\"))"
      ]
    },
    {
      "cell_type": "code",
      "execution_count": 184,
      "metadata": {
        "colab": {
          "base_uri": "https://localhost:8080/"
        },
        "id": "2d5cDfv3wynW",
        "outputId": "d6bcfaeb-ec08-48c1-f4d0-bcafe7455f4d"
      },
      "outputs": [
        {
          "name": "stdout",
          "output_type": "stream",
          "text": [
            "+-----------------------------------------+---------------+---------------------------------------------+---------------------------------------+-----------------------------------+----------------------------------------------------------------------------+---------+---------+-----------------------------------------------------------------------------------------------------------------------------------------------------------------------------------------------------------------------------------------------------------------------------------------------------------------------------------------------------------------------------------------------------------------------------------------------------------------------------------------------------------------------------------------------------------------------------------------------------------------------------------------------------------------------------------------------------------------------------------------------------------------------------------------------------------------------------------------------------------------------------------------------------------------------------------------------------------------------------------------------------------------------------------------------------------------------------------------------------------------------------------------------------------------------------------------------------------------------------------------------------------------------------------------------------------------------------------------------------------------------------------------------------------------------------------------------------------------------------------------------------------------------------------------------------------------------------------------------------------------------------------------------------------------------------------------------------------------------------------------------------------------------------------------------------------------------------------------------------------------------------------------------------------------------------------------------------------------------------------------------------------------------------------------------------------------------------------------------------------------------------------------------------------------------------------------------------------------------------------------------------------------------------------------------------------------------------------------------------------------------------------------------------------------------------------------------------------------------------------------------------------------------------------------------------------------------------------------------------------------------------------------------------------------------------------------+\n",
            "|genres                                   |director       |spoken_languages                             |production_countries                   |belongs_to_collection              |production_companies                                                        |cast_size|crew_size|cast                                                                                                                                                                                                                                                                                                                                                                                                                                                                                                                                                                                                                                                                                                                                                                                                                                                                                                                                                                                                                                                                                                                                                                                                                                                                                                                                                                                                                                                                                                                                                                                                                                                                                                                                                                                                                                                                                                                                                                                                                                                                                                                                                                                                                                                                                                                                                                                                                                                                                                                                                                                                                                                                                     |\n",
            "+-----------------------------------------+---------------+---------------------------------------------+---------------------------------------+-----------------------------------+----------------------------------------------------------------------------+---------+---------+-----------------------------------------------------------------------------------------------------------------------------------------------------------------------------------------------------------------------------------------------------------------------------------------------------------------------------------------------------------------------------------------------------------------------------------------------------------------------------------------------------------------------------------------------------------------------------------------------------------------------------------------------------------------------------------------------------------------------------------------------------------------------------------------------------------------------------------------------------------------------------------------------------------------------------------------------------------------------------------------------------------------------------------------------------------------------------------------------------------------------------------------------------------------------------------------------------------------------------------------------------------------------------------------------------------------------------------------------------------------------------------------------------------------------------------------------------------------------------------------------------------------------------------------------------------------------------------------------------------------------------------------------------------------------------------------------------------------------------------------------------------------------------------------------------------------------------------------------------------------------------------------------------------------------------------------------------------------------------------------------------------------------------------------------------------------------------------------------------------------------------------------------------------------------------------------------------------------------------------------------------------------------------------------------------------------------------------------------------------------------------------------------------------------------------------------------------------------------------------------------------------------------------------------------------------------------------------------------------------------------------------------------------------------------------------------+\n",
            "|Adventure|Science Fiction|Action         |Joe Russo      |English|Japanese|Xhosa                       |United States of America               |The Avengers Collection            |Marvel Studios                                                              |105      |593      |Robert Downey Jr.|Chris Evans|Mark Ruffalo|Chris Hemsworth|Scarlett Johansson|Jeremy Renner|Josh Brolin|Don Cheadle|Paul Rudd|Benedict Cumberbatch|Chadwick Boseman|Brie Larson|Tom Holland|Karen Gillan|Zoe Saldaña|Evangeline Lilly|Tessa Thompson|Rene Russo|Elizabeth Olsen|Anthony Mackie|Sebastian Stan|Tom Hiddleston|Danai Gurira|Benedict Wong|Pom Klementieff|Dave Bautista|Letitia Wright|John Slattery|Tilda Swinton|Jon Favreau|Hayley Atwell|Natalie Portman|Marisa Tomei|Taika Waititi|Angela Bassett|Michael Douglas|Michelle Pfeiffer|William Hurt|Cobie Smulders|Sean Gunn|Winston Duke|Linda Cardellini|Maximiliano Hernández|Frank Grillo|Hiroyuki Sanada|Tom Vaughan-Lawlor|James D'Arcy|Jacob Batalon|Vin Diesel|Bradley Cooper|Gwyneth Paltrow|Robert Redford|Chris Pratt|Samuel L. Jackson|Lexi Rabe|Ross Marquand|Joe Russo|Emma Fuhrmann|Michael James Shaw|Terry Notary|Kerry Condon|Ben Sakamoto|Ava Russo|Cade Woodward|Stan Lee|Yvette Nicole Brown|Callan Mulvey|Lia Mariella Russo|Julian Russo|Taylor Patterson|Agostino Rosalina|Ken Jeong|Ty Simpkins|Jackson A. Dunn|Lee Moore|Bazlo LeClair|Loen LeClair|Matthew Berry|Joy McAvoy|John Michael Morris|Michael A. Cook|Brent McGee|Brian Schaeffer|Jamie Wedel|Anthony G Breed|Erica Ribley|Monique Ganderton|Jim Starlin|Jimmy Ray Pickens|Hye Jin Jang|Russell Bobbitt|James Lin|Jack Champion|Sam Hargrave|Patrick Gorman|Aaron Lazar|Robert Pralgo|Tom Wisdom|John Posey|Ameenah Kaplan|Olaniyan Thurmon|Jennifer Elmore|Mike Lutz|Donald Mustard|Robert Tinsley                                                                                                                                                                                                                                                                                                                                                                                                                                                                                                                                                                                                                                                                                                                                                                                                                                                                                                                                                                                                                                                                                                                                 |\n",
            "|Action|Adventure|Fantasy|Science Fiction |James Cameron  |English|Spanish                              |United States of America|United Kingdom|Avatar Collection                  |Dune Entertainment|Lightstorm Entertainment|20th Century Fox|Ingenious Media|65       |986      |Sam Worthington|Zoe Saldaña|Sigourney Weaver|Stephen Lang|Michelle Rodriguez|Giovanni Ribisi|Joel David Moore|CCH Pounder|Wes Studi|Laz Alonso|Dileep Rao|Matt Gerald|Sean Anthony Moran|Jason Whyte|Scott Lawrence|Kelly Kilgour|James Patrick Pitt|Sean Patrick Murphy|Peter Dillon|Kevin Dorman|Kelson Henderson|David Van Horn|Jacob Tomuri|Michael Blain-Rozgay|Jon Curry|Julene Renee|Luke Hawker|Woody Schultz|Peter Mensah|Sonia Yee|Jahnel Curfman|Ilram Choi|Kyla Warren|Lisa Roumain|Debra Wilson|Taylor Kibby|Jodie Landau|Chris Mala|Julie Lamm|Cullen B. Madden|Joseph Brady Madden|Frankie Torres|Austin Wilson|Sara Wilson|Tamica Washington-Miller|Lucy Briant|Nathan Meister|Gerry Blair|Matthew Chamberlain|Paul Yates|Wray Wilson|James Gaylyn|Melvin Leno Clark III|Carvon Futrell|Brandon Jelkes|Micah Moch|Haniyyah Tahirah|Christopher Nolen|Christa Oliver|April Marie Thomas|Bravita A. Threatt|Alicia Vela-Bailey|Larry Rew|Dina Morrone|Rodney Cook                                                                                                                                                                                                                                                                                                                                                                                                                                                                                                                                                                                                                                                                                                                                                                                                                                                                                                                                                                                                                                                                                                                                                                                                                                                                                                                                                                                                                                                                                                                                                                                                                                                                                                          |\n",
            "|Adventure|Action|Science Fiction         |J.J. Abrams    |English                                      |United States of America               |Star Wars Collection               |Lucasfilm Ltd.|Bad Robot                                                    |182      |257      |Harrison Ford|Mark Hamill|Carrie Fisher|Adam Driver|Daisy Ridley|John Boyega|Oscar Isaac|Lupita Nyong'o|Andy Serkis|Domhnall Gleeson|Anthony Daniels|Max von Sydow|Peter Mayhew|Gwendoline Christie|Joonas Suotamo|Pip Andersen|Simon Pegg|Kiran Shah|Sasha Frost|Pip Torrens|Andrew Jack|Rocky Marshall|Greg Grunberg|Emun Elliott|Brian Vernel|Yayan Ruhian|Sebastian Armesto|Maisie Richardson-Sellers|Warwick Davis|Cailey Fleming|Mark Stanley|Ken Leung|Iko Uwais|Anna Brewster|Harriet Walter|Tim Rose|Erik Bauersfeld|Mike Quinn|Bill Kipsang Rotich|Michael Giacchino|Nigel Godrich|Judah Friedlander|Victor McGuire|Miltos Yerolemou|Billie Lourd|Leanne Best|Crystal Clarke|Jeffery Kissoon|Claudia Sermbezis|Gerald W. Abrams|Jim McGrath|Philicia Saunders|Morgan Dameron|Jessica Henwick|Tosin Cole|James McArdle|Stefan Grube|Dixie Arnold|Hannah John-Kamen|Kate Fleetwood|Thomas Brodie-Sangster|Brian Herring|Dave Chapman|Jimmy Vee|Cecep Arif Rahman|Ian Whyte|Daniel Craig|Ewan McGregor|Frank Oz|Alec Guinness|Tom Kane|Catherine Taber|Matthew Wood|Sam Witwer|Meredith Salenger|James Arnold Taylor|Michael Donovan|Devon Libran|Robert Stambler|Verona Blue|Fred Tatasciore|Patrick Correll|Karen Huie|Orly Schuchmacher|Ben Schwartz|Mark Dodson|Liang Yang|David Acord|Jamie B. Chambers|David M. Santana|Francesca Longrigg|D.C. Barns|Tom Edden|Richard Riddell|Jefferson Hall|Jack Laskey|Daniel Adjei|Charlie Akin|Adrian Allan|Samantha Alleyne|Paul Biddiss|Hannah Blamires|Rony Bridges|Stuart Budd|Calvin Chen|Alan Chimes|Jamie Clay|David W. Collins|Cavin Cornwall|Rowan Cox|Nathalie Cuzner|Rimmel Daniel|Keith De'Winter|Adrian Derrick-Palmer|Cameron Edwards|Jesse Michael Fullington|Gloria Garcia|Salo Gardner|Caroline Garnell|Chris Geden|Versha Grant|Steven James Griffiths|Gary Hailes|Tim Hammersley|Chris Hastings|Marina Hayter|Kelvin Hewlett|Matthew Hobbs|Phil Hodges|Leigh Holland|Kevin Hudson|Phoenix James|Zander James|Tobias James-Samuels|Paul Kasey|Aaron Kennedy|Aidan Knight|Sanj Krishnan|Lukas Landau|Andrei Lenart|Jorge Leon|Julia Leyland|Billy James Machin|Hamza Malik|Raymond Mamrak|Kelsey Edwards|Kenny-Lee Mbanefo|David McCarrison|Sandeep Mohan|Benjayx Murphy|Robert Strange|Charlie Nevett|Jason Nicholls|Terry Noble|David Norfolk|Tatsujiro Oto|Gillian Pittaway|Nathan Plant|Elroy Powell|Jay Rincon|Marc Rolfe|Julio Romeo|Arti Shah|Kat Sheridan|Stephanie Silva|Jasper Skinner|Sandy Kate Slade|Clem So|Benito Sovrano|Karol Steele|François Sternkiker|Frank Stone|Andy Sweet|Peter Theobalds|Pablo Verdejo|Ashley Ward|Paul Warren|Topo Wresniwiro|Joshua Ásberg|Joe Cash|Clare Glass|Kevin Smith|\n",
            "|Adventure|Action|Science Fiction         |Joe Russo      |English|Xhosa                                |United States of America               |The Avengers Collection            |Marvel Studios                                                              |69       |724      |Robert Downey Jr.|Chris Evans|Chris Hemsworth|Josh Brolin|Mark Ruffalo|Scarlett Johansson|Don Cheadle|Benedict Cumberbatch|Tom Holland|Chadwick Boseman|Zoe Saldaña|Karen Gillan|Tom Hiddleston|Paul Bettany|Elizabeth Olsen|Anthony Mackie|Sebastian Stan|Idris Elba|Danai Gurira|Peter Dinklage|Benedict Wong|Pom Klementieff|Dave Bautista|Vin Diesel|Bradley Cooper|Chris Pratt|Gwyneth Paltrow|Benicio del Toro|Sean Gunn|William Hurt|Letitia Wright|Terry Notary|Tom Vaughan-Lawlor|Carrie Coon|Michael James Shaw|Stan Lee|Winston Duke|Florence Kasumba|Kerry Condon|Monique Ganderton|Jacob Batalon|Tiffany Espensen|Isabella Amara|Ethan Dizon|Ariana Greenblatt|Ameenah Kaplan|Ross Marquand|Michael Anthony Rogers|Stephen McFeely|Aaron Lazar|Robert Pralgo|Olaniyan Thurmon|Blair Jasin|Matthew Zuk|Laura Miller|Kenneth Branagh|Samuel L. Jackson|Cobie Smulders|Harrison Osterfield|Gary Peebles|Marija Abney|Zola Williams|Marie Mouroum|James Siderits|Precious Jenkins|Bobby James|Lady Cardinal|Tanya Wheelock|Robert Tinsley                                                                                                                                                                                                                                                                                                                                                                                                                                                                                                                                                                                                                                                                                                                                                                                                                                                                                                                                                                                                                                                                                                                                                                                                                                                                                                                                                                                                                                                                                                                                                                                                                                       |\n",
            "|Drama|Romance                            |James Cameron  |English|French|German|Swedish|Italian|Russian|United States of America               |NULL                               |Paramount Pictures|20th Century Fox|Lightstorm Entertainment                |116      |260      |Leonardo DiCaprio|Kate Winslet|Billy Zane|Kathy Bates|Frances Fisher|Gloria Stuart|Victor Garber|Bill Paxton|Bernard Hill|David Warner|Jonathan Hyde|Lewis Abernathy|Suzy Amis|Danny Nucci|Nicholas Cascone|Jason Barry|Lew Palter|Eric Braeden|Ewan Stewart|Bernard Fox|Ioan Gruffudd|Jonny Phillips|Edward Fletcher|Scott G. Anderson|Martin East|Gregory Cooke|Alexandrea Owens|Seth Adkins|Michael Ensign|Anatoly M. Sagalevitch|Martin Hub|Mark Lindsay Chapman|Richard Graham|Paul Brightwell|Craig Kelly|Ron Donachie|Charlotte Chatton|Fannie Brett|Jenette Goldstein|Camilla Overbye Roos|Linda Kerns|Amy Gaipa|Martin Jarvis|Rosalind Ayres|Rochelle Rose|Jonathan Evans-Jones|Rocky Taylor|Liam Tuohy|Simon Crane|James Lancaster|Elsa Raven|Reece P. Thompson III|Laramie Landis|Mark Rafael Truitt|John Walcutt|Terry Forrestal|Derek Lea|Richard Ashton|Sean Nepita|Brendan Connolly|David Cronnelly|Garth Wilton|Richard Fox|Nick Meaney|Kevin Owers|Mark Capri|Marc Cass|Paul Herbert|Emmett James|Chris Byrne|Oliver Page|James Garrett|Erik Holland|Jari Kinnunen|Anders Falk|Barry Dennen|Vern Urich|Rebecca Klingler|Tricia O'Neil|Kathleen S. Dunn|Romeo Francis|Mandana Marino|Van Ling|Bjørn Olsen|Dan Pettersson|Shay Duffin|Greg Ellis|Diana Morgan|Kris Andersson|Bobbie Bates|Aaron James Cash|Anne Fletcher|Edmond Alan Forsyth|Andie Hicks|Scott Hislop|Stan Mazin|Lisa Ratzin|Julene Renee|Brian Walsh|Alexandra Boyd|James Cameron|Mike Butters|Kevin De La Noy|Tony Kenny|Sean Lawlor|Don Lynch|Johnny Martin|Meghan McLeod|Steven Quale|R. Gern Trowbridge|Olivia Rosewood|John Slade|Brian McDermott|Bret Aaron Knower|Martin Laing|Rebecca Klinger                                                                                                                                                                                                                                                                                                                                                                                                                                                                                                                                                                                                                                                                                                                                                                                                                                                                                                                                                                                                    |\n",
            "|Action|Adventure|Science Fiction|Thriller|Colin Trevorrow|English                                      |United States of America               |Jurassic Park Collection           |Amblin Entertainment|Universal Pictures                                     |52       |423      |Chris Pratt|Bryce Dallas Howard|Irrfan Khan|Vincent D'Onofrio|Ty Simpkins|Nick Robinson|Jake Johnson|Omar Sy|BD Wong|Judy Greer|Lauren Lapkus|Brian Tee|Katie McGrath|Andy Buckley|Eric Edelstein|Courtney James Clark|Colby Boothman-Shepard|Jimmy Fallon|James DuMont|Matt Burke|Anna Talakkottur|Matthew Cardarople|Michael Papajohn|William Gary Smith|Kelly Washington|Isaac Keys|Patrick Crowley|Chad Randall|Gary Weeks|Bill Ogilvie|Allan Tam|Yvonne Angulo|Chloe Perrin|Timothy Eulich|Kevin Foster|Bonnie Wild|Brad Bird|Colin Trevorrow|Justin Lacalamita|Tiffany Forest|Arlene Newman|Tait Fletcher|Jimmy Buffett|Tim Connolly|Johnny Otto|Erika Erica|Brandon Marc Higa|Martin Klebba|Eddie J. Fernandez|Rob Fuller|Julia Holt|Brandon Richardson                                                                                                                                                                                                                                                                                                                                                                                                                                                                                                                                                                                                                                                                                                                                                                                                                                                                                                                                                                                                                                                                                                                                                                                                                                                                                                                                                                                                                                                                                                                                                                                                                                                                                                                                                                                                                                                                                                                           |\n",
            "|Adventure|Drama|Family|Animation         |Jon Favreau    |English                                      |United States of America               |The Lion King (Reboot) Collection  |Walt Disney Pictures|Fairview Entertainment                                 |20       |45       |Chiwetel Ejiofor|John Oliver|Donald Glover|James Earl Jones|John Kani|Alfre Woodard|Beyoncé|JD McCrary|Shahadi Wright Joseph|Penny Johnson Jerald|Keegan-Michael Key|Eric André|Florence Kasumba|Seth Rogen|Billy Eichner|Amy Sedaris|Chance the Rapper|Josh McCrary|Phil LaMarr|J. Lee                                                                                                                                                                                                                                                                                                                                                                                                                                                                                                                                                                                                                                                                                                                                                                                                                                                                                                                                                                                                                                                                                                                                                                                                                                                                                                                                                                                                                                                                                                                                                                                                                                                                                                                                                                                                                                                                                                                                                                                                                                                                                                                                                                                                                                                                                                                                                                                                  |\n",
            "|Science Fiction|Action|Adventure         |Joss Whedon    |English|Hindi|Russian                        |United States of America               |The Avengers Collection            |Marvel Studios                                                              |112      |631      |Robert Downey Jr.|Chris Evans|Mark Ruffalo|Chris Hemsworth|Scarlett Johansson|Jeremy Renner|Tom Hiddleston|Clark Gregg|Cobie Smulders|Stellan Skarsgård|Samuel L. Jackson|Gwyneth Paltrow|Paul Bettany|Alexis Denisof|Tina Benko|Jerzy Skolimowski|Kirill Nikiforov|Jeff Wolfe|M'laah Kaur Singh|Rashmi Rustagi|Powers Boothe|Jenny Agutter|Arthur Darbinyan|Donald Li|Warren Kole|Alicia Sixtos|Jesse Garcia|Maximiliano Hernández|Dieter Riesle|Kenneth Tigar|Walter Perez|Harry Dean Stanton|Josh Cowdery|Ashley Johnson|Katsumi Komatsu|Yumiko Komatsu|Momoko Komatsu|Robert Clohessy|Enver Gjokaj|Fernanda Toker|Andrea Vecchio|Robin Swoboda|Brent McGee|Jamie McShane|Michael Zhang|William-Christopher Stephens|Kelley Robins Hicks|Romy Rosemont|James Eckhouse|Stan Lee|Thomas Roberts|Pat Kiernan|Damion Poitier|Lou Ferrigno|Jillian Morgese|Catherine Anderson|Ricardo Andres|Logan Bennett|Mayank Bhatter|Sharita Bone|Jason Botsford|Mary Kate Campbell|Gene N. Chavez|Layla Cushman|Robert Dean|Rick Dremann|Rod Fielder|Eric Frank|Israel Hall|Carmen Dee Harris|Alexander Christopher Jones|Mike Karban|Demoine Kinney|Andrew Knode|Annette Lawless|Kimberly J. Mahoney|Todd Manes|Jorge Mardel|Michael McMillan|Sean Meehan|Holly Neelie|Caleb Daniel Noal|Jeremy Orr|Nate Paige|Martin Palmer|Maria Perossa|Caleb Pieplow|Alexander Daniel Pimentel|Frank Powers|Jaime Powers|Brent Reichert|Kelly Ruble|Gina Sarno|Robert B. Schneider IV|Jeff Seich|Christina Shaffer|Douglas Slygh|Colin Strause|Robert P. Thitoff|George Thomas|Shane Thompson|Jerry Lee Tucker|Tai Urban|Chris Vaina|Sandra Weston|Seth Zielicke|Alex DeCourville|Andrea-Nichole Olivas|Tina Grimm|Evan Kole|Hank Amos|Joti Nagra                                                                                                                                                                                                                                                                                                                                                                                                                                                                                                                                                                                                                                                                                                                                                                                                                                                                                                                                                               |\n",
            "|Action|Thriller|Crime                    |James Wan      |Arabic|English|Spanish|Thai                  |United States of America               |The Fast and the Furious Collection|Original Film|One Race|Universal Pictures                                   |48       |223      |Vin Diesel|Paul Walker|Jason Statham|Michelle Rodriguez|Jordana Brewster|Tyrese Gibson|Ludacris|Dwayne Johnson|Lucas Black|Kurt Russell|Nathalie Emmanuel|Elsa Pataky|John Brotherton|Luke Evans|Tony Jaa|Djimon Hounsou|Noel Gugliemi|Ali Fazal|Sung Kang|Ronda Rousey|Miller Kimsey|Charlie Kimsey|Eden Estrella|Gentry White|Iggy Azalea|Jon Lee Brody|Levy Tran|Anna Colwell|Viktor Hernandez|Steve Coulter|Robert Pralgo|Antwan Mills|J.J. Gonzalez|Jorge Ferragut|Sara Sohn|Benjamin Blankenship|D.J. Hapa|T-Pain|Brian Mahoney|Brittney Alger|Romeo Santos|Jocelin Donahue|Stephanie Langston|Jorge-Luis Pallo|Nathalie Kelley|Shad Moss|Caleb Walker|Cody Walker                                                                                                                                                                                                                                                                                                                                                                                                                                                                                                                                                                                                                                                                                                                                                                                                                                                                                                                                                                                                                                                                                                                                                                                                                                                                                                                                                                                                                                                                                                                                                                                                                                                                                                                                                                                                                                                                                                                                                                                                                 |\n",
            "|Action|Adventure|Science Fiction         |Joss Whedon    |English                                      |United States of America               |The Avengers Collection            |Marvel Studios                                                              |72       |636      |Robert Downey Jr.|Chris Hemsworth|Mark Ruffalo|Chris Evans|Scarlett Johansson|Jeremy Renner|James Spader|Samuel L. Jackson|Don Cheadle|Aaron Taylor-Johnson|Elizabeth Olsen|Paul Bettany|Cobie Smulders|Anthony Mackie|Hayley Atwell|Idris Elba|Linda Cardellini|Stellan Skarsgård|Claudia Kim|Thomas Kretschmann|Andy Serkis|Julie Delpy|Stan Lee|Henry Goodman|Chris Luca|Brian Schaeffer|Dominique Provost-Chalkley|Isaac Andrews|Gareth Kieran Jones|Chan Woo Lim|Minhee Yeo|Bentley Kalu|Julian Bleach|Christopher Beasley|Vuyo Dabula|Nondumiso Tembe|Kabelo Thai|Lele Ledwaba|Mandla Gaduka|Harriet Manamela|Beulah Hashe|Musca Kumalo|Mathapelo September|Antony Acheampong|Chioma Anyanwu|Ben Sakamoto|Imogen Poynton|Isabella Poynton|Ingvild Deila|Sunny Yeo|Namju Go|Mina Kweon|Earl T. Kim|Arthur Lee|Verity Hewlett|Michael Matovski|Alma Noce|Riccardo Richetta|Constanza Ruff|Monty Mclaren-Clark|Julia Krynke|Tony Christian|Ian Kay|Barry Aird|Aaron Himelstein|Kerry Condon|Jaiden Stafford|Josh Brolin|Robert J. Fraser|Lou Ferrigno|Zakk Pierce|Avinashi Sharma                                                                                                                                                                                                                                                                                                                                                                                                                                                                                                                                                                                                                                                                                                                                                                                                                                                                                                                                                                                                                                                                                                                                                                                                                                                                                                                                                                                                                                                                                                                                                                                                     |\n",
            "|Action|Adventure|Science Fiction         |Ryan Coogler   |English|Korean|Swahili|Xhosa                 |United States of America               |Black Panther Collection           |Marvel Studios                                                              |66       |557      |Chadwick Boseman|Michael B. Jordan|Lupita Nyong'o|Danai Gurira|Martin Freeman|Daniel Kaluuya|Letitia Wright|Winston Duke|Sterling K. Brown|Angela Bassett|Forest Whitaker|Andy Serkis|Florence Kasumba|John Kani|David S. Lee|Nabiyah Be|Isaach de Bankolé|Connie Chiume|Dorothy Steel|Danny Sapani|Sydelle Noel|Marija Abney|Zola Williams|Janeshia Adams-Ginyard|Maria Hippolyte|Marie Mouroum|Jénel Stevens|Sope Aluko|Stan Lee|Atandwa Kani|Ashton Tyler|Denzel Whitaker|Shaunette Renée Wilson|Christine Hollingsworth|Lucy Hockings|Bambadjan Bamba|Roland Kilumbu|Jermaine Holt|Dominique Elijah Smith|Jalil Jay Lynch|Vaughndio Forbes|Sasha Morfaw|Alexis Louder|Francesca Faridany|Mark Ashworth|Seth Carr|Jeremy Sample|Chad Crumley|Alexis Rhee|Danny Chung|Liz Elkins Newcomer|Tony Sears|Alex C. Riley Hughes|Clifford Gay|Shamel Heath|De'Jon Watts|Alex R. Hibbert|Tristan Timmons|Tyler Timmons|Abraham Clinkscales|Thabo Moropane|Zani Mogodi|Zenzi Williams|Trevor Noah|T. Love|Sebastian Stan                                                                                                                                                                                                                                                                                                                                                                                                                                                                                                                                                                                                                                                                                                                                                                                                                                                                                                                                                                                                                                                                                                                                                                                                                                                                                                                                                                                                                                                                                                                                                                                                                                                                        |\n",
            "|Fantasy|Adventure                        |David Yates    |English                                      |United Kingdom|United States of America|Harry Potter Collection            |Warner Bros. Pictures|Heyday Films                                          |104      |154      |Daniel Radcliffe|Emma Watson|Rupert Grint|Ralph Fiennes|Alan Rickman|Michael Gambon|Warwick Davis|Helena Bonham Carter|Ciarán Hinds|Matthew Lewis|John Hurt|Evanna Lynch|Robbie Coltrane|Kelly Macdonald|Tom Felton|Helen McCrory|Jason Isaacs|Maggie Smith|David Thewlis|Gary Oldman|David Bradley|Julie Walters|Gemma Jones|Dave Legeno|Miriam Margolyes|Nick Moran|James Phelps|Oliver Phelps|Clémence Poésy|Natalia Tena|Mark Williams|Bonnie Wright|Domhnall Gleeson|Graham Duff|Anthony Allgood|Rusty Goffe|Jon Key|Ian Peck|Benn Northover|Hebe Beardsall|Devon Murray|Jessie Cave|Afshan Azad|Isabella Laughland|Anna Shaffer|Georgina Leonidas|Freddie Stroma|Alfred Enoch|Katie Leung|William Melling|Sian Grace Phillips|Ralph Ineson|Suzie Toase|Jim Broadbent|Scarlett Hefner|Josh Herdman|Louis Cordice|Amber Evans|Ruby Evans|George Harris|Chris Rankin|Guy Henry|Phil Wright|Gary Sayer|Tony Adkins|Penelope McGhie|Emma Thompson|Ellie Darcey-Alden|Ariella Paradise|Benedict Clarke|Leslie Phillips|Alfie McIlwain|Rohan Gotobed|Geraldine Somerville|Adrian Rawlins|Toby Papworth|Timothy Spall|Peter G. Reed|Judith Sharp|Emil Hostina|Bob Yves Van Hellenberg Hubar|Granville Saxton|Tony Kirwood|Ashley McGuire|Arthur Bowen|Daphne de Beistegui|Will Dunn|Jade Gordon|Bertie Gilbert|Helena Barlow|Ryan Turner|Paul Bailey|Sean Biggerstaff|Vinnie Clarke|David Heyman|Charlie Hobbs|Luke Newberry|Keijo J. Salmela|Spencer Wilding|Harrison Davis|Annabelle Davis|Samantha Davis|Natalie Hallam|Nikki Bond                                                                                                                                                                                                                                                                                                                                                                                                                                                                                                                                                                                                                                                                                                                                                                                                                                                                                                                                                                                                                                                                                                                                                      |\n",
            "|Adventure|Action|Science Fiction         |Rian Johnson   |English                                      |United States of America               |Star Wars Collection               |Lucasfilm Ltd.                                                              |110      |213      |Mark Hamill|Carrie Fisher|Adam Driver|Daisy Ridley|John Boyega|Oscar Isaac|Andy Serkis|Lupita Nyong'o|Domhnall Gleeson|Anthony Daniels|Gwendoline Christie|Kelly Marie Tran|Laura Dern|Benicio del Toro|Frank Oz|Billie Lourd|Joonas Suotamo|Amanda Lawrence|Jimmy Vee|Brian Herring|Dave Chapman|Justin Theroux|Tim Rose|Tom Kane|Adrian Edmondson|Mark Lewis Jones|Hermione Corfield|Veronica Ngo|Noah Segan|Jamie Christopher|Paul Kasey|Michaela Coel|Jonathan Harden|Danny Euston|Priyanga Burford|Navin Chowdhry|Andrew Jack|Crystal Clarke|Aki Omoshaybi|Togo Igawa|Hugh Skinner|Tim Steed|Simon Lowe|Joe Van Moyland|Shauna Macdonald|Darren Morfitt|Gerard Monaco|Kate Dickie|Patrick O'Kane|Paul Bazely|Orion Lee|Amira Ghazalla|Ralph Ineson|Akshay Kumar|Michael Jibson|Luke Neal|Andy Nyman|Temirlan Blaev|Josiah Oniha|Sara Heller|Matthew Sharp|Lily Cole|Warwick Davis|Kiran Shah|Joseph Gordon-Levitt|Mike Quinn|Gareth Edwards|Jack Greenlees|Danny Sapani|Kevin Layne|Ben Morris|Gary Barlow|Edgar Wright|Joe Cornish|Griffin Hamill|Nathan Hamill|Chelsea Hamill|Liang Yang|David M. Santana|Andrew Abbott|Chris Adams|Samantha Alleyne|Martin Bratanov|Glen Carroll|Cavin Cornwall|James Cox|Steve Doyle|Josh Dyer|Karl Farrer|James Filanowski|David R. Grant|Ómar Guðjónsson|Craig Izzard|Christopher Jaciow|Tobias James-Samuels|Dan Lam|Antonio Lujak|Josh Methven|Sandeep Mohan|Ross Moneypenny|Florian Robin|Stephanie Silva|Clem So|Leo Thompson|Andy Wareham|William Willoughby|Oscar Wright|Karanja Yorke|Sarah-Jane De Crespigny|Nikki Bond                                                                                                                                                                                                                                                                                                                                                                                                                                                                                                                                                                                                                                                                                                                                                                                                                                                                                                                                                                                                                                                                                                               |\n",
            "|Family|Animation|Adventure|Comedy|Fantasy|Jennifer Lee   |English                                      |United States of America               |Frozen Collection                  |Walt Disney Pictures|Walt Disney Animation Studios                          |64       |39       |Kristen Bell|Idina Menzel|Josh Gad|Jonathan Groff|Evan Rachel Wood|Sterling K. Brown|Alfred Molina|Rachel Matthews|Jason Ritter|Martha Plimpton|Ciarán Hinds|Jeremy Sisto|Stephen J. Anderson|Chris Williams|Maia Wilson|Paul Briggs|Hadley Gannaway|Mattea Conforti|Aurora Aksnes|Alan Tudyk|Santino Fontana|Livvy Stubenrauch|Eva Bella|Jackson Stein|Delaney Rose Stein|Halima V. Hudson|Isabella Acres|Stephen Apostolina|Kimberly Bailey|David Boat|June Christopher|Antonio Raul Garcia|David Cowgill|Wendy Cutler|Hudson D'Andrea|Grey DeLisle|Jessica DiCicco|Terri Douglas|Robin Atkin Downes|Nick Fisher|Jackie Gonneau|Franck Gourlat|Daniel Kaz|Phil LaMarr|Arnaud Léonard|Mimi Maynard|Scott Menville|Melanie Minichino|Max Mittelman|Matt Nolan|Capri Oliver|Arthur Ortiz|Paul Pape|Michael Ralph|Akai Robinson|Lynwood Robinson|Maddix Robinson|Kaitlyn Robrock|Violet Grace Schaffer|Pepper Sweeney|Fred Tatasciore|Jean-Alain Velardo|Kari Wahlgren|Matthew Wood                                                                                                                                                                                                                                                                                                                                                                                                                                                                                                                                                                                                                                                                                                                                                                                                                                                                                                                                                                                                                                                                                                                                                                                                                                                                                                                                                                                                                                                                                                                                                                                                                                                                                                        |\n",
            "|Action|Adventure|Science Fiction|Thriller|J.A. Bayona    |English|Russian                              |United States of America               |Jurassic Park Collection           |Amblin Entertainment|Universal Pictures                                     |39       |381      |Chris Pratt|Bryce Dallas Howard|Rafe Spall|Justice Smith|Daniella Pineda|James Cromwell|Toby Jones|Ted Levine|Jeff Goldblum|BD Wong|Geraldine Chaplin|Isabella Sermon|Robert Emms|Peter Jason|Kevin Layne|John Schwab|Sam Redford|Charlie Rawes|Patrick Crowley|Alex Dower|Honey Holmes|Neil Bishop|Philippa Thomas|Ronan Summers|Cory Peterson|Jeremy Gilbert|Victor Gardener|Daryl Kwan|Eric Kofi Abrefa|Ben Peel|Mark Griffin|Paul Sockett|Douglas Robson|Gil Kolirin|Nathan Florence|Bryan Phillips|Mitchell L. Johnson|Michael Papajohn|Daniel Stisen                                                                                                                                                                                                                                                                                                                                                                                                                                                                                                                                                                                                                                                                                                                                                                                                                                                                                                                                                                                                                                                                                                                                                                                                                                                                                                                                                                                                                                                                                                                                                                                                                                                                                                                                                                                                                                                                                                                                                                                                                                                                                                                               |\n",
            "|Animation|Family|Adventure|Fantasy       |Chris Buck     |English                                      |United States of America               |Frozen Collection                  |Walt Disney Pictures|Walt Disney Animation Studios                          |60       |284      |Kristen Bell|Idina Menzel|Jonathan Groff|Josh Gad|Livvy Stubenrauch|Santino Fontana|Eva Bella|Alan Tudyk|Maia Wilson|Ciarán Hinds|Annie Lopez|Annaleigh Ashford|Paul Briggs|Stephen J. Anderson|Maurice LaMarche|Jennifer Lee|Chris Williams|Edie McClurg|Robert Pine|Spencer Lacey Ganus|Jesse Corti|Jeffrey Marcus|Tucker Gilmore|Ava Acres|Stephen Apostolina|Kirk Baily|Jenica Bergere|David Boat|Tyree Brown|Woody Buck|June Christopher|Lewis Cleale|Wendy Cutler|Terri Douglas|Eddie Frierson|Jean Gilpin|Jackie Gonneau|Nicholas Guest|Bridget Hoffman|Nick Jameson|Daniel Kaz|John Lavelle|Patricia Lentz|Katie Lowes|Mona Marshall|Dara McGarry|Scott Menville|Adam Overett|Paul Pape|Courtney Peldon|Jennifer Perry|Raymond S. Persi|Jean-Michel Richaud|Lynwood Robinson|Carter Sand|Jadon Sand|Katie Silverman|Pepper Sweeney|Fred Tatasciore|Jack Whitehall                                                                                                                                                                                                                                                                                                                                                                                                                                                                                                                                                                                                                                                                                                                                                                                                                                                                                                                                                                                                                                                                                                                                                                                                                                                                                                                                                                                                                                                                                                                                                                                                                                                                                                                                                                                                                |\n",
            "|Family|Fantasy|Romance                   |Bill Condon    |English|French                               |United States of America               |NULL                               |Walt Disney Pictures|Mandeville Films                                       |137      |155      |Emma Watson|Dan Stevens|Luke Evans|Josh Gad|Kevin Kline|Hattie Morahan|Haydn Gwynne|Gerard Horan|Ray Fearon|Ewan McGregor|Ian McKellen|Emma Thompson|Nathan Mack|Audra McDonald|Stanley Tucci|Gugu Mbatha-Raw|Clive Rowe|Thomas Padden|Rita Davies|D.J. Bailey|Adrian Schiller|Harriet Jones|Adam Mitchell|Tom Turner|Michael Jibson|Zoe Rainey|Daisy Duczmal|Jolyon Coy|Jimmy Johnston|Dean Street|Alexis Loizon|Sophie Reid|Rafaëlle Cohen|Carla Nella|Obioma Ugoala|Lynne Wilmot|Jane Fowler|Alison Harding|Chris Andrew Mellon|Jemma Alexander|Sandy Strallen|Dale Branston|Daniel Ioannou|Peter Challis|Wendy Baldock|Norma Atallah|Leo Andrew|Steven Butler|Sharon Gomez|Jacqui Jameson|Vivien Parry|Simone Sault|Beth Willetts|Mandy Montanez|Tom Oakley|William Bozier|Jak Allen-Anderson|Phil Grannel|Freddie August|Nicola Keen|Ebony Molina|Alison Jenkins|Ellen O'Grady|Dawn Buckland|Rebecca Mckinnis|Jody Hall|Ben Fox|Nathan Vaughan Harris|Tim Stanley|Ben Clare|Marina Abdeen|Danielle Acors|Hayley Ainsley|Rhianne Alleyn|Gabby Antrobus|Sophie Atkins|Koko Basigara|Holly Bluett|Daisy Boyles|Ava Brennan|Sophia Brown|Sophie Carmen-Jones|Cassie Clare|Tanya Cumberland|Natalie Davis|Paige Drury-Lawrence|Stephanie Elstob|Cordelia Farnworth|Cj Field|Lily Frazer|Lucy Alexa Gilbert|Helen Gulstan|Selina Hamilton|Leah Hill|Abigayle Honeywill|Chelsea Inez|Blythe Jandoo|Shireen Jathoonia|Billie Kay-Piper|Hannah Kenna-Thomas|Ella Kora|Jennifer Leung|Emily Loumba|Cassie Macmillian|Fiona McDonald|Samira Mighty|Sonoya Mizuno|Anna Momcilovic|Nicola Mooi|Nicole O'Neill|Abiona Omonua|Jazz Peters|Courtney Pruce|Kayla Radam|Katie Singh|Lucy St. Louis|Ruth Steele|Jasmine Takacs|Naomi Weijand|Leah West|Skye Lucia Degruttola|Timia Julien-Box|Adelaide Morgan|Gemma Fray|Lara Decaro|Max Brophy|Samuel Brown|Daniel Daszek-Green|Freddie Hunter|Joey Brown|Tom Burgering|Nate Leung|Kai Gordon|Oscar Francisco|Harry Marcus|Johanna Smitz|Isobel Hamilton                                                                                                                                                                                                                                                                                                                                                                                                                                                                                                                                                                                                                                                                                              |\n",
            "|Action|Adventure|Animation|Family        |Brad Bird      |English                                      |United States of America               |The Incredibles Collection         |Walt Disney Pictures|Pixar                                                  |48       |259      |Craig T. Nelson|Holly Hunter|Sarah Vowell|Huck Milner|Samuel L. Jackson|Bob Odenkirk|Catherine Keener|Jonathan Banks|Brad Bird|John Ratzenberger|Eli Fucile|Nicholas Bird|Bill Wise|Michael Bird|Sophia Bush|Phil LaMarr|Paul Eiding|Isabella Rossellini|Barry Bostwick|Adam Rodriguez|Jere Burns|Kimberly Adair Clark|Usher|Adam Gates|Michael B. Johnson|A.J. LoCascio|Alyson Stoner|Andrew Kishino|Austin Madison|Brian Dluhy|Cathy Cavadini|Dave Fennoy|David Cowgill|Debi Derryberry|Fred Tatasciore|Teddy Newton|Dennis Singletary|Diamond White|Eddie Frierson|Grace Geller|Greg Dykstra|Jackie Gonneau|Jacqueline Pinol|Jean Gilpin|Matthew Wood|Steve Blum|Wally Wingert|Max Mittelman                                                                                                                                                                                                                                                                                                                                                                                                                                                                                                                                                                                                                                                                                                                                                                                                                                                                                                                                                                                                                                                                                                                                                                                                                                                                                                                                                                                                                                                                                                                                                                                                                                                                                                                                                                                                                                                                                                                                                                                          |\n",
            "+-----------------------------------------+---------------+---------------------------------------------+---------------------------------------+-----------------------------------+----------------------------------------------------------------------------+---------+---------+-----------------------------------------------------------------------------------------------------------------------------------------------------------------------------------------------------------------------------------------------------------------------------------------------------------------------------------------------------------------------------------------------------------------------------------------------------------------------------------------------------------------------------------------------------------------------------------------------------------------------------------------------------------------------------------------------------------------------------------------------------------------------------------------------------------------------------------------------------------------------------------------------------------------------------------------------------------------------------------------------------------------------------------------------------------------------------------------------------------------------------------------------------------------------------------------------------------------------------------------------------------------------------------------------------------------------------------------------------------------------------------------------------------------------------------------------------------------------------------------------------------------------------------------------------------------------------------------------------------------------------------------------------------------------------------------------------------------------------------------------------------------------------------------------------------------------------------------------------------------------------------------------------------------------------------------------------------------------------------------------------------------------------------------------------------------------------------------------------------------------------------------------------------------------------------------------------------------------------------------------------------------------------------------------------------------------------------------------------------------------------------------------------------------------------------------------------------------------------------------------------------------------------------------------------------------------------------------------------------------------------------------------------------------------------------------+\n",
            "\n"
          ]
        }
      ],
      "source": [
        "from pyspark.sql.functions import col, explode, concat_ws, transform, expr, size\n",
        "\n",
        "# extracting data from JSON-like arrays\n",
        "copy = copy.withColumn(\"genres\", expr(\"concat_ws('|', transform(genres, x -> x.name))\"))\\\n",
        "           .withColumn(\"spoken_languages\", expr(\"concat_ws('|', transform(spoken_languages, x-> x.english_name))\")) \\\n",
        "           .withColumn(\"production_countries\", expr(\"concat_ws('|', transform(production_countries, x-> x.name))\"))  \\\n",
        "           .withColumn(\"production_companies\", expr(\"concat_ws('|', transform(production_companies, x-> x.name))\"))  \\\n",
        "           .withColumn(\"cast_size\", size(\"credits.cast\")) \\\n",
        "           .withColumn(\"cast\", expr(\"concat_ws('|', transform(credits.cast, x-> x.name))\")) \\\n",
        "           .withColumn(\"crew_size\", size(\"credits.crew\"))\\\n",
        "           .drop(\"credits\")\n",
        "\n",
        "# Extracting collection name and handling nulls\n",
        "copy = copy.withColumn(\"belongs_to_collection\", col(\"belongs_to_collection.name\"))\n",
        "\n",
        "# Diplaying the updated DataFrame\n",
        "copy.select(\"genres\", \"director\", \"spoken_languages\", \"production_countries\", \"belongs_to_collection\", \"production_companies\",\"cast_size\", \"crew_size\", \"cast\").show(truncate=False)"
      ]
    },
    {
      "cell_type": "markdown",
      "metadata": {
        "id": "UkjMi1lJyrsK"
      },
      "source": [
        "Inspecting some of the extracted JSON-like columns "
      ]
    },
    {
      "cell_type": "code",
      "execution_count": 185,
      "metadata": {
        "colab": {
          "base_uri": "https://localhost:8080/"
        },
        "collapsed": true,
        "id": "mmB3N_Kgy_7S",
        "outputId": "c1a4b740-65ed-4744-e093-b3c3b7c86db0"
      },
      "outputs": [
        {
          "name": "stdout",
          "output_type": "stream",
          "text": [
            "+-----------------------------------------+-----+\n",
            "|genres                                   |count|\n",
            "+-----------------------------------------+-----+\n",
            "|Adventure|Action|Science Fiction         |3    |\n",
            "|Action|Adventure|Science Fiction|Thriller|2    |\n",
            "|Action|Adventure|Science Fiction         |2    |\n",
            "|Action|Thriller|Crime                    |1    |\n",
            "|Adventure|Science Fiction|Action         |1    |\n",
            "|Adventure|Drama|Family|Animation         |1    |\n",
            "|Action|Adventure|Fantasy|Science Fiction |1    |\n",
            "|Drama|Romance                            |1    |\n",
            "|Science Fiction|Action|Adventure         |1    |\n",
            "|Family|Fantasy|Romance                   |1    |\n",
            "|Fantasy|Adventure                        |1    |\n",
            "|Family|Animation|Adventure|Comedy|Fantasy|1    |\n",
            "|Animation|Family|Adventure|Fantasy       |1    |\n",
            "|Action|Adventure|Animation|Family        |1    |\n",
            "+-----------------------------------------+-----+\n",
            "\n",
            "+---------------------------------------------+-----+\n",
            "|spoken_languages                             |count|\n",
            "+---------------------------------------------+-----+\n",
            "|English                                      |9    |\n",
            "|English|Spanish                              |1    |\n",
            "|English|Xhosa                                |1    |\n",
            "|Arabic|English|Spanish|Thai                  |1    |\n",
            "|English|Japanese|Xhosa                       |1    |\n",
            "|English|Hindi|Russian                        |1    |\n",
            "|English|French|German|Swedish|Italian|Russian|1    |\n",
            "|English|Russian                              |1    |\n",
            "|English|French                               |1    |\n",
            "|English|Korean|Swahili|Xhosa                 |1    |\n",
            "+---------------------------------------------+-----+\n",
            "\n",
            "+---------------------------------------+-----+\n",
            "|production_countries                   |count|\n",
            "+---------------------------------------+-----+\n",
            "|United States of America               |16   |\n",
            "|United States of America|United Kingdom|1    |\n",
            "|United Kingdom|United States of America|1    |\n",
            "+---------------------------------------+-----+\n",
            "\n",
            "+----------------------------------------------------------------------------+-----+\n",
            "|production_companies                                                        |count|\n",
            "+----------------------------------------------------------------------------+-----+\n",
            "|Marvel Studios                                                              |5    |\n",
            "|Amblin Entertainment|Universal Pictures                                     |2    |\n",
            "|Walt Disney Pictures|Walt Disney Animation Studios                          |2    |\n",
            "|Walt Disney Pictures|Fairview Entertainment                                 |1    |\n",
            "|Dune Entertainment|Lightstorm Entertainment|20th Century Fox|Ingenious Media|1    |\n",
            "|Original Film|One Race|Universal Pictures                                   |1    |\n",
            "|Lucasfilm Ltd.|Bad Robot                                                    |1    |\n",
            "|Paramount Pictures|20th Century Fox|Lightstorm Entertainment                |1    |\n",
            "|Lucasfilm Ltd.                                                              |1    |\n",
            "|Walt Disney Pictures|Mandeville Films                                       |1    |\n",
            "|Warner Bros. Pictures|Heyday Films                                          |1    |\n",
            "|Walt Disney Pictures|Pixar                                                  |1    |\n",
            "+----------------------------------------------------------------------------+-----+\n",
            "\n",
            "+-----------------------------------+-----+\n",
            "|belongs_to_collection              |count|\n",
            "+-----------------------------------+-----+\n",
            "|The Avengers Collection            |4    |\n",
            "|NULL                               |2    |\n",
            "|Jurassic Park Collection           |2    |\n",
            "|Star Wars Collection               |2    |\n",
            "|Frozen Collection                  |2    |\n",
            "|The Fast and the Furious Collection|1    |\n",
            "|Avatar Collection                  |1    |\n",
            "|The Lion King (Reboot) Collection  |1    |\n",
            "|Harry Potter Collection            |1    |\n",
            "|Black Panther Collection           |1    |\n",
            "|The Incredibles Collection         |1    |\n",
            "+-----------------------------------+-----+\n",
            "\n"
          ]
        }
      ],
      "source": [
        "for column in [\"genres\", \"spoken_languages\", \"production_countries\", \"production_companies\", \"belongs_to_collection\"]:\n",
        "    copy.select(column).groupBy(column).count().orderBy(desc(\"count\")).show(truncate=False)"
      ]
    },
    {
      "cell_type": "markdown",
      "metadata": {
        "id": "opmBjD03zpxP"
      },
      "source": [
        "\n",
        "\n",
        "---\n",
        "\n"
      ]
    },
    {
      "cell_type": "markdown",
      "metadata": {
        "id": "0LApjp3AzqpY"
      },
      "source": [
        "# Handling Missing and Incorrect Data"
      ]
    },
    {
      "cell_type": "markdown",
      "metadata": {
        "id": "MbqzGcn4R9wu"
      },
      "source": [
        "Converting 'budget' and 'revenue' values to million USD"
      ]
    },
    {
      "cell_type": "code",
      "execution_count": 186,
      "metadata": {
        "colab": {
          "base_uri": "https://localhost:8080/"
        },
        "id": "bYyGVjO4r5jg",
        "outputId": "fef71148-be26-4c73-c84d-1df5b53fab19"
      },
      "outputs": [
        {
          "name": "stdout",
          "output_type": "stream",
          "text": [
            "+------------+-----------+\n",
            "|revenue_musd|budget_musd|\n",
            "+------------+-----------+\n",
            "|2799.4391   |356.0      |\n",
            "|2923.706026 |237.0      |\n",
            "|2068.223624 |245.0      |\n",
            "|2052.415039 |300.0      |\n",
            "|2264.162353 |200.0      |\n",
            "|1671.537444 |150.0      |\n",
            "|1662.020819 |260.0      |\n",
            "|1518.815515 |220.0      |\n",
            "|1515.4      |190.0      |\n",
            "|1405.403694 |365.0      |\n",
            "|1349.926083 |200.0      |\n",
            "|1341.511219 |125.0      |\n",
            "|1332.69883  |200.0      |\n",
            "|1453.683476 |150.0      |\n",
            "|1310.466296 |170.0      |\n",
            "|1274.219009 |150.0      |\n",
            "|1266.115964 |160.0      |\n",
            "|1242.805359 |200.0      |\n",
            "+------------+-----------+\n",
            "\n"
          ]
        }
      ],
      "source": [
        "copy = copy.withColumn(\"budget_musd\", col(\"budget\") / 1000000)\n",
        "copy = copy.withColumn(\"revenue_musd\", col(\"revenue\") / 1000000)\n",
        "copy = copy.drop(\"budget\", \"revenue\")\n",
        "copy.select(\"revenue_musd\", \"budget_musd\", ).show(truncate=False)"
      ]
    },
    {
      "cell_type": "code",
      "execution_count": 187,
      "metadata": {
        "id": "68yhzjPCtFa2"
      },
      "outputs": [],
      "source": [
        "# Extracting the first version of the preprocessed dataset\n",
        "copy.coalesce(1).write.mode(\"overwrite\").csv(\"preprocessed_data_1\")"
      ]
    },
    {
      "cell_type": "markdown",
      "metadata": {
        "id": "MfCvvIFCsPIv"
      },
      "source": [
        "Replacing unrealistic values in budget, revenue, and Runtime columns"
      ]
    },
    {
      "cell_type": "code",
      "execution_count": 188,
      "metadata": {
        "colab": {
          "base_uri": "https://localhost:8080/"
        },
        "id": "ZBNHG8zrsX2z",
        "outputId": "e8e9f989-5018-4dc3-fa9a-b62e3c9ab1bf"
      },
      "outputs": [
        {
          "name": "stdout",
          "output_type": "stream",
          "text": [
            "+--------------------+---------------------+--------------------+------+-----------------+--------------------+----------+--------------------+--------------------+--------------------+------------+-------+--------------------+--------+--------------------+--------------------+------------+----------+---------------+---------+--------------------+---------+-----------+------------+\n",
            "|       backdrop_path|belongs_to_collection|              genres|    id|original_language|            overview|popularity|         poster_path|production_companies|production_countries|release_date|runtime|    spoken_languages|  status|             tagline|               title|vote_average|vote_count|       director|cast_size|                cast|crew_size|budget_musd|revenue_musd|\n",
            "+--------------------+---------------------+--------------------+------+-----------------+--------------------+----------+--------------------+--------------------+--------------------+------------+-------+--------------------+--------+--------------------+--------------------+------------+----------+---------------+---------+--------------------+---------+-----------+------------+\n",
            "|/7RyHsO4yDXtBv1zU...| The Avengers Coll...|Adventure|Science...|299534|               en|After the devasta...|   63.2407|/ulzhLuWrPK07P1Yk...|      Marvel Studios|United States of ...|  2019-04-24|    181|English|Japanese|...|Released|  Avenge the fallen.|   Avengers: Endgame|       8.237|     26258|      Joe Russo|      105|Robert Downey Jr....|      593|      356.0|   2799.4391|\n",
            "|/vL5LR6WdxWPjLPFR...|    Avatar Collection|Action|Adventure|...| 19995|               en|In the 22nd centu...|   27.7054|/kyeqWdyUXW608qlY...|Dune Entertainmen...|United States of ...|  2009-12-15|    162|     English|Spanish|Released|Enter the world o...|              Avatar|       7.588|     32166|  James Cameron|       65|Sam Worthington|Z...|      986|      237.0| 2923.706026|\n",
            "|/k6EOrckWFuz7I4z4...| Star Wars Collection|Adventure|Action|...|140607|               en|Thirty years afte...|   16.3522|/wqnLdwVXoBjKibFR...|Lucasfilm Ltd.|Ba...|United States of ...|  2015-12-15|    136|             English|Released|Every generation ...|Star Wars: The Fo...|       7.261|     19699|    J.J. Abrams|      182|Harrison Ford|Mar...|      257|      245.0| 2068.223624|\n",
            "|/mDfJG3LC3Dqb67AZ...| The Avengers Coll...|Adventure|Action|...|299536|               en|As the Avengers a...|  110.6769|/7WsyChQLEftFiDOV...|      Marvel Studios|United States of ...|  2018-04-25|    149|       English|Xhosa|Released|Destiny arrives a...|Avengers: Infinit...|       8.235|     30442|      Joe Russo|       69|Robert Downey Jr....|      724|      300.0| 2052.415039|\n",
            "|/sCzcYW9h55WcesOq...|                 NULL|       Drama|Romance|   597|               en|101-year-old Rose...|   44.4478|/9xjZS2rlVxm8SFx8...|Paramount Picture...|United States of ...|  1997-11-18|    194|English|French|Ge...|Released|Nothing on Earth ...|             Titanic|       7.905|     25923|  James Cameron|      116|Leonardo DiCaprio...|      260|      200.0| 2264.162353|\n",
            "|/aIGIYJTyOkEVUmEd...| Jurassic Park Col...|Action|Adventure|...|135397|               en|Twenty-two years ...|     17.34|/rhr4y79GpxQF9Isf...|Amblin Entertainm...|United States of ...|  2015-06-06|    124|             English|Released|   The park is open.|      Jurassic World|       6.693|     20652|Colin Trevorrow|       52|Chris Pratt|Bryce...|      423|      150.0| 1671.537444|\n",
            "|/1TUg5pO1VZ4B0Q1a...| The Lion King (Re...|Adventure|Drama|F...|420818|               en|Simba idolizes hi...|   79.3952|/dzBtMocZuJbjLOXv...|Walt Disney Pictu...|United States of ...|  2019-07-12|    118|             English|Released|The king has retu...|       The Lion King|        7.11|     10325|    Jon Favreau|       20|Chiwetel Ejiofor|...|       45|      260.0| 1662.020819|\n",
            "|/9BBTo63ANSmhC4e6...| The Avengers Coll...|Science Fiction|A...| 24428|               en|When an unexpecte...|   36.0158|/RYMX2wcKCBAr24Uy...|      Marvel Studios|United States of ...|  2012-04-25|    143|English|Hindi|Rus...|Released|Some assembly req...|        The Avengers|       7.741|     31639|    Joss Whedon|      112|Robert Downey Jr....|      631|      220.0| 1518.815515|\n",
            "|/cHkhb5A4gQRK6zs6...| The Fast and the ...|Action|Thriller|C...|168259|               en|Deckard Shaw seek...|   15.1569|/wurKlC3VKUgcfsn0...|Original Film|One...|United States of ...|  2015-04-01|    137|Arabic|English|Sp...|Released|Vengeance hits home.|           Furious 7|       7.226|     10779|      James Wan|       48|Vin Diesel|Paul W...|      223|      190.0|      1515.4|\n",
            "|/6YwkGolwdOMNpbTO...| The Avengers Coll...|Action|Adventure|...| 99861|               en|When Tony Stark t...|   24.9273|/4ssDuvEDkSArWEdy...|      Marvel Studios|United States of ...|  2015-04-22|    141|             English|Released| A new age has come.|Avengers: Age of ...|       7.271|     23374|    Joss Whedon|       72|Robert Downey Jr....|      636|      365.0| 1405.403694|\n",
            "|/b6ZJZHUdMEFECvGi...| Black Panther Col...|Action|Adventure|...|284054|               en|King T'Challa ret...|   72.9206|/uxzzxijgPIY7slzF...|      Marvel Studios|United States of ...|  2018-02-13|    135|English|Korean|Sw...|Released| Long live the king.|       Black Panther|       7.373|     22516|   Ryan Coogler|       66|Chadwick Boseman|...|      557|      200.0| 1349.926083|\n",
            "|/n5A7brJCjejceZmH...| Harry Potter Coll...|   Fantasy|Adventure| 12445|               en|Harry, Ron and He...|   19.8878|/c54HpQmuwXjHq2C9...|Warner Bros. Pict...|United Kingdom|Un...|  2011-07-12|    130|             English|Released|        It all ends.|Harry Potter and ...|       8.087|     20978|    David Yates|      104|Daniel Radcliffe|...|      154|      125.0| 1341.511219|\n",
            "|/5Iw7zQTHVRBOYpA0...| Star Wars Collection|Adventure|Action|...|181808|               en|Rey develops her ...|   74.7713|/kOVEVeg59E0wsnXm...|      Lucasfilm Ltd.|United States of ...|  2017-12-13|    152|             English|Released|Darkness rises......|Star Wars: The La...|       6.778|     15559|   Rian Johnson|      110|Mark Hamill|Carri...|      213|      200.0|  1332.69883|\n",
            "|/AoSZyb37ljMAxw0R...|    Frozen Collection|Family|Animation|...|330457|               en|Elsa, Anna, Krist...|   13.7765|/mINJaa34MtknCYl5...|Walt Disney Pictu...|United States of ...|  2019-11-20|    103|             English|Released|The past is not w...|           Frozen II|       7.249|      9884|   Jennifer Lee|       64|Kristen Bell|Idin...|       39|      150.0| 1453.683476|\n",
            "|/6WA9stUMbIkEPxn3...| Jurassic Park Col...|Action|Adventure|...|351286|               en|Three years after...|    57.162|/270MrJNqJovumHXG...|Amblin Entertainm...|United States of ...|  2018-06-06|    129|     English|Russian|Released|   The park is gone.|Jurassic World: F...|       6.538|     12023|    J.A. Bayona|       39|Chris Pratt|Bryce...|      381|      170.0| 1310.466296|\n",
            "|/u2bZhH3nTf0So0UI...|    Frozen Collection|Animation|Family|...|109445|               en|Young princess An...|   20.8509|/m4uhSpErBKprhscl...|Walt Disney Pictu...|United States of ...|  2013-11-20|    102|             English|Released|Only the act of t...|              Frozen|       7.247|     16819|     Chris Buck|       60|Kristen Bell|Idin...|      284|      150.0| 1274.219009|\n",
            "|/uU1Mt4JWhDvl4vKb...|                 NULL|Family|Fantasy|Ro...|321612|               en|A live-action ada...|   77.8782|/hKegSKIDep2ewJWP...|Walt Disney Pictu...|United States of ...|  2017-03-16|    129|      English|French|Released|       Be our guest.|Beauty and the Beast|       6.971|     15596|    Bill Condon|      137|Emma Watson|Dan S...|      155|      160.0| 1266.115964|\n",
            "|/mabuNsGJgRuCTuGq...| The Incredibles C...|Action|Adventure|...|260513|               en|Elastigirl spring...|   10.4127|/9lFKBtaVIhP7E2Pk...|Walt Disney Pictu...|United States of ...|  2018-06-14|    118|             English|Released|It's been too lon...|       Incredibles 2|       7.455|     13039|      Brad Bird|       48|Craig T. Nelson|H...|      259|      200.0| 1242.805359|\n",
            "+--------------------+---------------------+--------------------+------+-----------------+--------------------+----------+--------------------+--------------------+--------------------+------------+-------+--------------------+--------+--------------------+--------------------+------------+----------+---------------+---------+--------------------+---------+-----------+------------+\n",
            "\n"
          ]
        }
      ],
      "source": [
        "copy = copy.withColumn(\"budget_musd\", when(col(\"budget_musd\") == 0, None).otherwise(col(\"budget_musd\")))\n",
        "copy = copy.withColumn(\"revenue_musd\", when(col(\"revenue_musd\") == 0, None).otherwise(col(\"revenue_musd\")))\n",
        "copy = copy.withColumn(\"runtime\", when(col(\"runtime\") == 0, None).otherwise(col(\"runtime\")))\n",
        "copy.show()"
      ]
    },
    {
      "cell_type": "markdown",
      "metadata": {
        "id": "4jb__Px4tSVv"
      },
      "source": [
        "Handling movies with 0 vote_count "
      ]
    },
    {
      "cell_type": "code",
      "execution_count": 189,
      "metadata": {
        "colab": {
          "base_uri": "https://localhost:8080/"
        },
        "id": "o1LjMynxtaGS",
        "outputId": "8af76a32-c906-421f-eb4b-22812edc9c74"
      },
      "outputs": [
        {
          "name": "stdout",
          "output_type": "stream",
          "text": [
            "+--------------------+---------------------+--------------------+------+-----------------+--------------------+----------+--------------------+--------------------+--------------------+------------+-------+--------------------+--------+--------------------+--------------------+------------+----------+---------------+---------+--------------------+---------+-----------+------------+\n",
            "|       backdrop_path|belongs_to_collection|              genres|    id|original_language|            overview|popularity|         poster_path|production_companies|production_countries|release_date|runtime|    spoken_languages|  status|             tagline|               title|vote_average|vote_count|       director|cast_size|                cast|crew_size|budget_musd|revenue_musd|\n",
            "+--------------------+---------------------+--------------------+------+-----------------+--------------------+----------+--------------------+--------------------+--------------------+------------+-------+--------------------+--------+--------------------+--------------------+------------+----------+---------------+---------+--------------------+---------+-----------+------------+\n",
            "|/7RyHsO4yDXtBv1zU...| The Avengers Coll...|Adventure|Science...|299534|               en|After the devasta...|   63.2407|/ulzhLuWrPK07P1Yk...|      Marvel Studios|United States of ...|  2019-04-24|    181|English|Japanese|...|Released|  Avenge the fallen.|   Avengers: Endgame|       8.237|     26258|      Joe Russo|      105|Robert Downey Jr....|      593|      356.0|   2799.4391|\n",
            "|/vL5LR6WdxWPjLPFR...|    Avatar Collection|Action|Adventure|...| 19995|               en|In the 22nd centu...|   27.7054|/kyeqWdyUXW608qlY...|Dune Entertainmen...|United States of ...|  2009-12-15|    162|     English|Spanish|Released|Enter the world o...|              Avatar|       7.588|     32166|  James Cameron|       65|Sam Worthington|Z...|      986|      237.0| 2923.706026|\n",
            "|/k6EOrckWFuz7I4z4...| Star Wars Collection|Adventure|Action|...|140607|               en|Thirty years afte...|   16.3522|/wqnLdwVXoBjKibFR...|Lucasfilm Ltd.|Ba...|United States of ...|  2015-12-15|    136|             English|Released|Every generation ...|Star Wars: The Fo...|       7.261|     19699|    J.J. Abrams|      182|Harrison Ford|Mar...|      257|      245.0| 2068.223624|\n",
            "|/mDfJG3LC3Dqb67AZ...| The Avengers Coll...|Adventure|Action|...|299536|               en|As the Avengers a...|  110.6769|/7WsyChQLEftFiDOV...|      Marvel Studios|United States of ...|  2018-04-25|    149|       English|Xhosa|Released|Destiny arrives a...|Avengers: Infinit...|       8.235|     30442|      Joe Russo|       69|Robert Downey Jr....|      724|      300.0| 2052.415039|\n",
            "|/sCzcYW9h55WcesOq...|                 NULL|       Drama|Romance|   597|               en|101-year-old Rose...|   44.4478|/9xjZS2rlVxm8SFx8...|Paramount Picture...|United States of ...|  1997-11-18|    194|English|French|Ge...|Released|Nothing on Earth ...|             Titanic|       7.905|     25923|  James Cameron|      116|Leonardo DiCaprio...|      260|      200.0| 2264.162353|\n",
            "|/aIGIYJTyOkEVUmEd...| Jurassic Park Col...|Action|Adventure|...|135397|               en|Twenty-two years ...|     17.34|/rhr4y79GpxQF9Isf...|Amblin Entertainm...|United States of ...|  2015-06-06|    124|             English|Released|   The park is open.|      Jurassic World|       6.693|     20652|Colin Trevorrow|       52|Chris Pratt|Bryce...|      423|      150.0| 1671.537444|\n",
            "|/1TUg5pO1VZ4B0Q1a...| The Lion King (Re...|Adventure|Drama|F...|420818|               en|Simba idolizes hi...|   79.3952|/dzBtMocZuJbjLOXv...|Walt Disney Pictu...|United States of ...|  2019-07-12|    118|             English|Released|The king has retu...|       The Lion King|        7.11|     10325|    Jon Favreau|       20|Chiwetel Ejiofor|...|       45|      260.0| 1662.020819|\n",
            "|/9BBTo63ANSmhC4e6...| The Avengers Coll...|Science Fiction|A...| 24428|               en|When an unexpecte...|   36.0158|/RYMX2wcKCBAr24Uy...|      Marvel Studios|United States of ...|  2012-04-25|    143|English|Hindi|Rus...|Released|Some assembly req...|        The Avengers|       7.741|     31639|    Joss Whedon|      112|Robert Downey Jr....|      631|      220.0| 1518.815515|\n",
            "|/cHkhb5A4gQRK6zs6...| The Fast and the ...|Action|Thriller|C...|168259|               en|Deckard Shaw seek...|   15.1569|/wurKlC3VKUgcfsn0...|Original Film|One...|United States of ...|  2015-04-01|    137|Arabic|English|Sp...|Released|Vengeance hits home.|           Furious 7|       7.226|     10779|      James Wan|       48|Vin Diesel|Paul W...|      223|      190.0|      1515.4|\n",
            "|/6YwkGolwdOMNpbTO...| The Avengers Coll...|Action|Adventure|...| 99861|               en|When Tony Stark t...|   24.9273|/4ssDuvEDkSArWEdy...|      Marvel Studios|United States of ...|  2015-04-22|    141|             English|Released| A new age has come.|Avengers: Age of ...|       7.271|     23374|    Joss Whedon|       72|Robert Downey Jr....|      636|      365.0| 1405.403694|\n",
            "|/b6ZJZHUdMEFECvGi...| Black Panther Col...|Action|Adventure|...|284054|               en|King T'Challa ret...|   72.9206|/uxzzxijgPIY7slzF...|      Marvel Studios|United States of ...|  2018-02-13|    135|English|Korean|Sw...|Released| Long live the king.|       Black Panther|       7.373|     22516|   Ryan Coogler|       66|Chadwick Boseman|...|      557|      200.0| 1349.926083|\n",
            "|/n5A7brJCjejceZmH...| Harry Potter Coll...|   Fantasy|Adventure| 12445|               en|Harry, Ron and He...|   19.8878|/c54HpQmuwXjHq2C9...|Warner Bros. Pict...|United Kingdom|Un...|  2011-07-12|    130|             English|Released|        It all ends.|Harry Potter and ...|       8.087|     20978|    David Yates|      104|Daniel Radcliffe|...|      154|      125.0| 1341.511219|\n",
            "|/5Iw7zQTHVRBOYpA0...| Star Wars Collection|Adventure|Action|...|181808|               en|Rey develops her ...|   74.7713|/kOVEVeg59E0wsnXm...|      Lucasfilm Ltd.|United States of ...|  2017-12-13|    152|             English|Released|Darkness rises......|Star Wars: The La...|       6.778|     15559|   Rian Johnson|      110|Mark Hamill|Carri...|      213|      200.0|  1332.69883|\n",
            "|/AoSZyb37ljMAxw0R...|    Frozen Collection|Family|Animation|...|330457|               en|Elsa, Anna, Krist...|   13.7765|/mINJaa34MtknCYl5...|Walt Disney Pictu...|United States of ...|  2019-11-20|    103|             English|Released|The past is not w...|           Frozen II|       7.249|      9884|   Jennifer Lee|       64|Kristen Bell|Idin...|       39|      150.0| 1453.683476|\n",
            "|/6WA9stUMbIkEPxn3...| Jurassic Park Col...|Action|Adventure|...|351286|               en|Three years after...|    57.162|/270MrJNqJovumHXG...|Amblin Entertainm...|United States of ...|  2018-06-06|    129|     English|Russian|Released|   The park is gone.|Jurassic World: F...|       6.538|     12023|    J.A. Bayona|       39|Chris Pratt|Bryce...|      381|      170.0| 1310.466296|\n",
            "|/u2bZhH3nTf0So0UI...|    Frozen Collection|Animation|Family|...|109445|               en|Young princess An...|   20.8509|/m4uhSpErBKprhscl...|Walt Disney Pictu...|United States of ...|  2013-11-20|    102|             English|Released|Only the act of t...|              Frozen|       7.247|     16819|     Chris Buck|       60|Kristen Bell|Idin...|      284|      150.0| 1274.219009|\n",
            "|/uU1Mt4JWhDvl4vKb...|                 NULL|Family|Fantasy|Ro...|321612|               en|A live-action ada...|   77.8782|/hKegSKIDep2ewJWP...|Walt Disney Pictu...|United States of ...|  2017-03-16|    129|      English|French|Released|       Be our guest.|Beauty and the Beast|       6.971|     15596|    Bill Condon|      137|Emma Watson|Dan S...|      155|      160.0| 1266.115964|\n",
            "|/mabuNsGJgRuCTuGq...| The Incredibles C...|Action|Adventure|...|260513|               en|Elastigirl spring...|   10.4127|/9lFKBtaVIhP7E2Pk...|Walt Disney Pictu...|United States of ...|  2018-06-14|    118|             English|Released|It's been too lon...|       Incredibles 2|       7.455|     13039|      Brad Bird|       48|Craig T. Nelson|H...|      259|      200.0| 1242.805359|\n",
            "+--------------------+---------------------+--------------------+------+-----------------+--------------------+----------+--------------------+--------------------+--------------------+------------+-------+--------------------+--------+--------------------+--------------------+------------+----------+---------------+---------+--------------------+---------+-----------+------------+\n",
            "\n"
          ]
        }
      ],
      "source": [
        "average_vote = copy.filter(col(\"vote_count\") > 0).select(avg(\"vote_average\")).collect()[0][0]\n",
        "copy = copy.withColumn(\"vote_average\", when(col(\"vote_count\") == 0, average_vote).otherwise(col(\"vote_average\")))\n",
        "copy.show()"
      ]
    },
    {
      "cell_type": "markdown",
      "metadata": {
        "id": "1mNUu2T9uoEJ"
      },
      "source": [
        "Handling overview and tagline by replacing known placeholders with NaN values"
      ]
    },
    {
      "cell_type": "code",
      "execution_count": 190,
      "metadata": {
        "colab": {
          "base_uri": "https://localhost:8080/"
        },
        "id": "MysKsZDjuvfE",
        "outputId": "cabf6d02-d6d2-431d-a6ac-1ac07c9666e8"
      },
      "outputs": [
        {
          "name": "stdout",
          "output_type": "stream",
          "text": [
            "+--------------------+---------------------+--------------------+------+-----------------+--------------------+----------+--------------------+--------------------+--------------------+------------+-------+--------------------+--------+--------------------+--------------------+------------+----------+---------------+---------+--------------------+---------+-----------+------------+\n",
            "|       backdrop_path|belongs_to_collection|              genres|    id|original_language|            overview|popularity|         poster_path|production_companies|production_countries|release_date|runtime|    spoken_languages|  status|             tagline|               title|vote_average|vote_count|       director|cast_size|                cast|crew_size|budget_musd|revenue_musd|\n",
            "+--------------------+---------------------+--------------------+------+-----------------+--------------------+----------+--------------------+--------------------+--------------------+------------+-------+--------------------+--------+--------------------+--------------------+------------+----------+---------------+---------+--------------------+---------+-----------+------------+\n",
            "|/7RyHsO4yDXtBv1zU...| The Avengers Coll...|Adventure|Science...|299534|               en|After the devasta...|   63.2407|/ulzhLuWrPK07P1Yk...|      Marvel Studios|United States of ...|  2019-04-24|    181|English|Japanese|...|Released|  Avenge the fallen.|   Avengers: Endgame|       8.237|     26258|      Joe Russo|      105|Robert Downey Jr....|      593|      356.0|   2799.4391|\n",
            "|/vL5LR6WdxWPjLPFR...|    Avatar Collection|Action|Adventure|...| 19995|               en|In the 22nd centu...|   27.7054|/kyeqWdyUXW608qlY...|Dune Entertainmen...|United States of ...|  2009-12-15|    162|     English|Spanish|Released|Enter the world o...|              Avatar|       7.588|     32166|  James Cameron|       65|Sam Worthington|Z...|      986|      237.0| 2923.706026|\n",
            "|/k6EOrckWFuz7I4z4...| Star Wars Collection|Adventure|Action|...|140607|               en|Thirty years afte...|   16.3522|/wqnLdwVXoBjKibFR...|Lucasfilm Ltd.|Ba...|United States of ...|  2015-12-15|    136|             English|Released|Every generation ...|Star Wars: The Fo...|       7.261|     19699|    J.J. Abrams|      182|Harrison Ford|Mar...|      257|      245.0| 2068.223624|\n",
            "|/mDfJG3LC3Dqb67AZ...| The Avengers Coll...|Adventure|Action|...|299536|               en|As the Avengers a...|  110.6769|/7WsyChQLEftFiDOV...|      Marvel Studios|United States of ...|  2018-04-25|    149|       English|Xhosa|Released|Destiny arrives a...|Avengers: Infinit...|       8.235|     30442|      Joe Russo|       69|Robert Downey Jr....|      724|      300.0| 2052.415039|\n",
            "|/sCzcYW9h55WcesOq...|                 NULL|       Drama|Romance|   597|               en|101-year-old Rose...|   44.4478|/9xjZS2rlVxm8SFx8...|Paramount Picture...|United States of ...|  1997-11-18|    194|English|French|Ge...|Released|Nothing on Earth ...|             Titanic|       7.905|     25923|  James Cameron|      116|Leonardo DiCaprio...|      260|      200.0| 2264.162353|\n",
            "|/aIGIYJTyOkEVUmEd...| Jurassic Park Col...|Action|Adventure|...|135397|               en|Twenty-two years ...|     17.34|/rhr4y79GpxQF9Isf...|Amblin Entertainm...|United States of ...|  2015-06-06|    124|             English|Released|   The park is open.|      Jurassic World|       6.693|     20652|Colin Trevorrow|       52|Chris Pratt|Bryce...|      423|      150.0| 1671.537444|\n",
            "|/1TUg5pO1VZ4B0Q1a...| The Lion King (Re...|Adventure|Drama|F...|420818|               en|Simba idolizes hi...|   79.3952|/dzBtMocZuJbjLOXv...|Walt Disney Pictu...|United States of ...|  2019-07-12|    118|             English|Released|The king has retu...|       The Lion King|        7.11|     10325|    Jon Favreau|       20|Chiwetel Ejiofor|...|       45|      260.0| 1662.020819|\n",
            "|/9BBTo63ANSmhC4e6...| The Avengers Coll...|Science Fiction|A...| 24428|               en|When an unexpecte...|   36.0158|/RYMX2wcKCBAr24Uy...|      Marvel Studios|United States of ...|  2012-04-25|    143|English|Hindi|Rus...|Released|Some assembly req...|        The Avengers|       7.741|     31639|    Joss Whedon|      112|Robert Downey Jr....|      631|      220.0| 1518.815515|\n",
            "|/cHkhb5A4gQRK6zs6...| The Fast and the ...|Action|Thriller|C...|168259|               en|Deckard Shaw seek...|   15.1569|/wurKlC3VKUgcfsn0...|Original Film|One...|United States of ...|  2015-04-01|    137|Arabic|English|Sp...|Released|Vengeance hits home.|           Furious 7|       7.226|     10779|      James Wan|       48|Vin Diesel|Paul W...|      223|      190.0|      1515.4|\n",
            "|/6YwkGolwdOMNpbTO...| The Avengers Coll...|Action|Adventure|...| 99861|               en|When Tony Stark t...|   24.9273|/4ssDuvEDkSArWEdy...|      Marvel Studios|United States of ...|  2015-04-22|    141|             English|Released| A new age has come.|Avengers: Age of ...|       7.271|     23374|    Joss Whedon|       72|Robert Downey Jr....|      636|      365.0| 1405.403694|\n",
            "|/b6ZJZHUdMEFECvGi...| Black Panther Col...|Action|Adventure|...|284054|               en|King T'Challa ret...|   72.9206|/uxzzxijgPIY7slzF...|      Marvel Studios|United States of ...|  2018-02-13|    135|English|Korean|Sw...|Released| Long live the king.|       Black Panther|       7.373|     22516|   Ryan Coogler|       66|Chadwick Boseman|...|      557|      200.0| 1349.926083|\n",
            "|/n5A7brJCjejceZmH...| Harry Potter Coll...|   Fantasy|Adventure| 12445|               en|Harry, Ron and He...|   19.8878|/c54HpQmuwXjHq2C9...|Warner Bros. Pict...|United Kingdom|Un...|  2011-07-12|    130|             English|Released|        It all ends.|Harry Potter and ...|       8.087|     20978|    David Yates|      104|Daniel Radcliffe|...|      154|      125.0| 1341.511219|\n",
            "|/5Iw7zQTHVRBOYpA0...| Star Wars Collection|Adventure|Action|...|181808|               en|Rey develops her ...|   74.7713|/kOVEVeg59E0wsnXm...|      Lucasfilm Ltd.|United States of ...|  2017-12-13|    152|             English|Released|Darkness rises......|Star Wars: The La...|       6.778|     15559|   Rian Johnson|      110|Mark Hamill|Carri...|      213|      200.0|  1332.69883|\n",
            "|/AoSZyb37ljMAxw0R...|    Frozen Collection|Family|Animation|...|330457|               en|Elsa, Anna, Krist...|   13.7765|/mINJaa34MtknCYl5...|Walt Disney Pictu...|United States of ...|  2019-11-20|    103|             English|Released|The past is not w...|           Frozen II|       7.249|      9884|   Jennifer Lee|       64|Kristen Bell|Idin...|       39|      150.0| 1453.683476|\n",
            "|/6WA9stUMbIkEPxn3...| Jurassic Park Col...|Action|Adventure|...|351286|               en|Three years after...|    57.162|/270MrJNqJovumHXG...|Amblin Entertainm...|United States of ...|  2018-06-06|    129|     English|Russian|Released|   The park is gone.|Jurassic World: F...|       6.538|     12023|    J.A. Bayona|       39|Chris Pratt|Bryce...|      381|      170.0| 1310.466296|\n",
            "|/u2bZhH3nTf0So0UI...|    Frozen Collection|Animation|Family|...|109445|               en|Young princess An...|   20.8509|/m4uhSpErBKprhscl...|Walt Disney Pictu...|United States of ...|  2013-11-20|    102|             English|Released|Only the act of t...|              Frozen|       7.247|     16819|     Chris Buck|       60|Kristen Bell|Idin...|      284|      150.0| 1274.219009|\n",
            "|/uU1Mt4JWhDvl4vKb...|                 NULL|Family|Fantasy|Ro...|321612|               en|A live-action ada...|   77.8782|/hKegSKIDep2ewJWP...|Walt Disney Pictu...|United States of ...|  2017-03-16|    129|      English|French|Released|       Be our guest.|Beauty and the Beast|       6.971|     15596|    Bill Condon|      137|Emma Watson|Dan S...|      155|      160.0| 1266.115964|\n",
            "|/mabuNsGJgRuCTuGq...| The Incredibles C...|Action|Adventure|...|260513|               en|Elastigirl spring...|   10.4127|/9lFKBtaVIhP7E2Pk...|Walt Disney Pictu...|United States of ...|  2018-06-14|    118|             English|Released|It's been too lon...|       Incredibles 2|       7.455|     13039|      Brad Bird|       48|Craig T. Nelson|H...|      259|      200.0| 1242.805359|\n",
            "+--------------------+---------------------+--------------------+------+-----------------+--------------------+----------+--------------------+--------------------+--------------------+------------+-------+--------------------+--------+--------------------+--------------------+------------+----------+---------------+---------+--------------------+---------+-----------+------------+\n",
            "\n"
          ]
        }
      ],
      "source": [
        "copy = copy.withColumn(\"overview\", when(col(\"overview\").isin([\"No Data\", \"\"]), None).otherwise(col(\"overview\")))\n",
        "copy = copy.withColumn(\"tagline\", when(col(\"tagline\").isin([\"No Data\", \"\"]), None).otherwise(col(\"tagline\"))\n",
        "copy.show()"
      ]
    },
    {
      "cell_type": "markdown",
      "metadata": {
        "id": "PTs82Jmzah1B"
      },
      "source": [
        "Removing duplicates and dropping rows with unknown 'id' or 'title' columns"
      ]
    },
    {
      "cell_type": "code",
      "execution_count": 191,
      "metadata": {
        "colab": {
          "base_uri": "https://localhost:8080/"
        },
        "id": "YjdEuz9mapg3",
        "outputId": "d88bc55a-7bc0-4a3f-caa2-d0d5a409b3d4"
      },
      "outputs": [
        {
          "name": "stdout",
          "output_type": "stream",
          "text": [
            "+--------------------+---------------------+--------------------+------+-----------------+--------------------+----------+--------------------+--------------------+--------------------+------------+-------+--------------------+--------+--------------------+--------------------+------------+----------+---------------+---------+--------------------+---------+-----------+------------+\n",
            "|       backdrop_path|belongs_to_collection|              genres|    id|original_language|            overview|popularity|         poster_path|production_companies|production_countries|release_date|runtime|    spoken_languages|  status|             tagline|               title|vote_average|vote_count|       director|cast_size|                cast|crew_size|budget_musd|revenue_musd|\n",
            "+--------------------+---------------------+--------------------+------+-----------------+--------------------+----------+--------------------+--------------------+--------------------+------------+-------+--------------------+--------+--------------------+--------------------+------------+----------+---------------+---------+--------------------+---------+-----------+------------+\n",
            "|/cHkhb5A4gQRK6zs6...| The Fast and the ...|Action|Thriller|C...|168259|               en|Deckard Shaw seek...|   15.1569|/wurKlC3VKUgcfsn0...|Original Film|One...|United States of ...|  2015-04-01|    137|Arabic|English|Sp...|Released|Vengeance hits home.|           Furious 7|       7.226|     10779|      James Wan|       48|Vin Diesel|Paul W...|      223|      190.0|      1515.4|\n",
            "|/mDfJG3LC3Dqb67AZ...| The Avengers Coll...|Adventure|Action|...|299536|               en|As the Avengers a...|  110.6769|/7WsyChQLEftFiDOV...|      Marvel Studios|United States of ...|  2018-04-25|    149|       English|Xhosa|Released|Destiny arrives a...|Avengers: Infinit...|       8.235|     30442|      Joe Russo|       69|Robert Downey Jr....|      724|      300.0| 2052.415039|\n",
            "|/vL5LR6WdxWPjLPFR...|    Avatar Collection|Action|Adventure|...| 19995|               en|In the 22nd centu...|   27.7054|/kyeqWdyUXW608qlY...|Dune Entertainmen...|United States of ...|  2009-12-15|    162|     English|Spanish|Released|Enter the world o...|              Avatar|       7.588|     32166|  James Cameron|       65|Sam Worthington|Z...|      986|      237.0| 2923.706026|\n",
            "|/k6EOrckWFuz7I4z4...| Star Wars Collection|Adventure|Action|...|140607|               en|Thirty years afte...|   16.3522|/wqnLdwVXoBjKibFR...|Lucasfilm Ltd.|Ba...|United States of ...|  2015-12-15|    136|             English|Released|Every generation ...|Star Wars: The Fo...|       7.261|     19699|    J.J. Abrams|      182|Harrison Ford|Mar...|      257|      245.0| 2068.223624|\n",
            "|/aIGIYJTyOkEVUmEd...| Jurassic Park Col...|Action|Adventure|...|135397|               en|Twenty-two years ...|     17.34|/rhr4y79GpxQF9Isf...|Amblin Entertainm...|United States of ...|  2015-06-06|    124|             English|Released|   The park is open.|      Jurassic World|       6.693|     20652|Colin Trevorrow|       52|Chris Pratt|Bryce...|      423|      150.0| 1671.537444|\n",
            "|/9BBTo63ANSmhC4e6...| The Avengers Coll...|Science Fiction|A...| 24428|               en|When an unexpecte...|   36.0158|/RYMX2wcKCBAr24Uy...|      Marvel Studios|United States of ...|  2012-04-25|    143|English|Hindi|Rus...|Released|Some assembly req...|        The Avengers|       7.741|     31639|    Joss Whedon|      112|Robert Downey Jr....|      631|      220.0| 1518.815515|\n",
            "|/1TUg5pO1VZ4B0Q1a...| The Lion King (Re...|Adventure|Drama|F...|420818|               en|Simba idolizes hi...|   79.3952|/dzBtMocZuJbjLOXv...|Walt Disney Pictu...|United States of ...|  2019-07-12|    118|             English|Released|The king has retu...|       The Lion King|        7.11|     10325|    Jon Favreau|       20|Chiwetel Ejiofor|...|       45|      260.0| 1662.020819|\n",
            "|/7RyHsO4yDXtBv1zU...| The Avengers Coll...|Adventure|Science...|299534|               en|After the devasta...|   63.2407|/ulzhLuWrPK07P1Yk...|      Marvel Studios|United States of ...|  2019-04-24|    181|English|Japanese|...|Released|  Avenge the fallen.|   Avengers: Endgame|       8.237|     26258|      Joe Russo|      105|Robert Downey Jr....|      593|      356.0|   2799.4391|\n",
            "|/6YwkGolwdOMNpbTO...| The Avengers Coll...|Action|Adventure|...| 99861|               en|When Tony Stark t...|   24.9273|/4ssDuvEDkSArWEdy...|      Marvel Studios|United States of ...|  2015-04-22|    141|             English|Released| A new age has come.|Avengers: Age of ...|       7.271|     23374|    Joss Whedon|       72|Robert Downey Jr....|      636|      365.0| 1405.403694|\n",
            "|/6WA9stUMbIkEPxn3...| Jurassic Park Col...|Action|Adventure|...|351286|               en|Three years after...|    57.162|/270MrJNqJovumHXG...|Amblin Entertainm...|United States of ...|  2018-06-06|    129|     English|Russian|Released|   The park is gone.|Jurassic World: F...|       6.538|     12023|    J.A. Bayona|       39|Chris Pratt|Bryce...|      381|      170.0| 1310.466296|\n",
            "|/b6ZJZHUdMEFECvGi...| Black Panther Col...|Action|Adventure|...|284054|               en|King T'Challa ret...|   72.9206|/uxzzxijgPIY7slzF...|      Marvel Studios|United States of ...|  2018-02-13|    135|English|Korean|Sw...|Released| Long live the king.|       Black Panther|       7.373|     22516|   Ryan Coogler|       66|Chadwick Boseman|...|      557|      200.0| 1349.926083|\n",
            "|/mabuNsGJgRuCTuGq...| The Incredibles C...|Action|Adventure|...|260513|               en|Elastigirl spring...|   10.4127|/9lFKBtaVIhP7E2Pk...|Walt Disney Pictu...|United States of ...|  2018-06-14|    118|             English|Released|It's been too lon...|       Incredibles 2|       7.455|     13039|      Brad Bird|       48|Craig T. Nelson|H...|      259|      200.0| 1242.805359|\n",
            "|/u2bZhH3nTf0So0UI...|    Frozen Collection|Animation|Family|...|109445|               en|Young princess An...|   20.8509|/m4uhSpErBKprhscl...|Walt Disney Pictu...|United States of ...|  2013-11-20|    102|             English|Released|Only the act of t...|              Frozen|       7.247|     16819|     Chris Buck|       60|Kristen Bell|Idin...|      284|      150.0| 1274.219009|\n",
            "|/AoSZyb37ljMAxw0R...|    Frozen Collection|Family|Animation|...|330457|               en|Elsa, Anna, Krist...|   13.7765|/mINJaa34MtknCYl5...|Walt Disney Pictu...|United States of ...|  2019-11-20|    103|             English|Released|The past is not w...|           Frozen II|       7.249|      9884|   Jennifer Lee|       64|Kristen Bell|Idin...|       39|      150.0| 1453.683476|\n",
            "|/n5A7brJCjejceZmH...| Harry Potter Coll...|   Fantasy|Adventure| 12445|               en|Harry, Ron and He...|   19.8878|/c54HpQmuwXjHq2C9...|Warner Bros. Pict...|United Kingdom|Un...|  2011-07-12|    130|             English|Released|        It all ends.|Harry Potter and ...|       8.087|     20978|    David Yates|      104|Daniel Radcliffe|...|      154|      125.0| 1341.511219|\n",
            "|/5Iw7zQTHVRBOYpA0...| Star Wars Collection|Adventure|Action|...|181808|               en|Rey develops her ...|   74.7713|/kOVEVeg59E0wsnXm...|      Lucasfilm Ltd.|United States of ...|  2017-12-13|    152|             English|Released|Darkness rises......|Star Wars: The La...|       6.778|     15559|   Rian Johnson|      110|Mark Hamill|Carri...|      213|      200.0|  1332.69883|\n",
            "|/sCzcYW9h55WcesOq...|                 NULL|       Drama|Romance|   597|               en|101-year-old Rose...|   44.4478|/9xjZS2rlVxm8SFx8...|Paramount Picture...|United States of ...|  1997-11-18|    194|English|French|Ge...|Released|Nothing on Earth ...|             Titanic|       7.905|     25923|  James Cameron|      116|Leonardo DiCaprio...|      260|      200.0| 2264.162353|\n",
            "|/uU1Mt4JWhDvl4vKb...|                 NULL|Family|Fantasy|Ro...|321612|               en|A live-action ada...|   77.8782|/hKegSKIDep2ewJWP...|Walt Disney Pictu...|United States of ...|  2017-03-16|    129|      English|French|Released|       Be our guest.|Beauty and the Beast|       6.971|     15596|    Bill Condon|      137|Emma Watson|Dan S...|      155|      160.0| 1266.115964|\n",
            "+--------------------+---------------------+--------------------+------+-----------------+--------------------+----------+--------------------+--------------------+--------------------+------------+-------+--------------------+--------+--------------------+--------------------+------------+----------+---------------+---------+--------------------+---------+-----------+------------+\n",
            "\n"
          ]
        }
      ],
      "source": [
        "copy = copy.dropDuplicates()\n",
        "copy = copy.dropna(subset=[\"id\", \"title\"])\n",
        "copy.show()"
      ]
    },
    {
      "cell_type": "markdown",
      "metadata": {},
      "source": [
        "Keeping only rows where at least 10 columns have non-NaN values by using only bolean operations (&) "
      ]
    },
    {
      "cell_type": "code",
      "execution_count": 192,
      "metadata": {
        "colab": {
          "base_uri": "https://localhost:8080/"
        },
        "id": "OE9YY4Srvt4Y",
        "outputId": "dbd312ad-1a53-4672-b31f-f7a6a3759640"
      },
      "outputs": [
        {
          "name": "stdout",
          "output_type": "stream",
          "text": [
            "+--------------------+---------------------+--------------------+------+-----------------+--------------------+----------+--------------------+--------------------+--------------------+------------+-------+--------------------+--------+--------------------+--------------------+------------+----------+---------------+---------+--------------------+---------+-----------+------------+\n",
            "|       backdrop_path|belongs_to_collection|              genres|    id|original_language|            overview|popularity|         poster_path|production_companies|production_countries|release_date|runtime|    spoken_languages|  status|             tagline|               title|vote_average|vote_count|       director|cast_size|                cast|crew_size|budget_musd|revenue_musd|\n",
            "+--------------------+---------------------+--------------------+------+-----------------+--------------------+----------+--------------------+--------------------+--------------------+------------+-------+--------------------+--------+--------------------+--------------------+------------+----------+---------------+---------+--------------------+---------+-----------+------------+\n",
            "|/cHkhb5A4gQRK6zs6...| The Fast and the ...|Action|Thriller|C...|168259|               en|Deckard Shaw seek...|   15.1569|/wurKlC3VKUgcfsn0...|Original Film|One...|United States of ...|  2015-04-01|    137|Arabic|English|Sp...|Released|Vengeance hits home.|           Furious 7|       7.226|     10779|      James Wan|       48|Vin Diesel|Paul W...|      223|      190.0|      1515.4|\n",
            "|/mDfJG3LC3Dqb67AZ...| The Avengers Coll...|Adventure|Action|...|299536|               en|As the Avengers a...|  110.6769|/7WsyChQLEftFiDOV...|      Marvel Studios|United States of ...|  2018-04-25|    149|       English|Xhosa|Released|Destiny arrives a...|Avengers: Infinit...|       8.235|     30442|      Joe Russo|       69|Robert Downey Jr....|      724|      300.0| 2052.415039|\n",
            "|/vL5LR6WdxWPjLPFR...|    Avatar Collection|Action|Adventure|...| 19995|               en|In the 22nd centu...|   27.7054|/kyeqWdyUXW608qlY...|Dune Entertainmen...|United States of ...|  2009-12-15|    162|     English|Spanish|Released|Enter the world o...|              Avatar|       7.588|     32166|  James Cameron|       65|Sam Worthington|Z...|      986|      237.0| 2923.706026|\n",
            "|/k6EOrckWFuz7I4z4...| Star Wars Collection|Adventure|Action|...|140607|               en|Thirty years afte...|   16.3522|/wqnLdwVXoBjKibFR...|Lucasfilm Ltd.|Ba...|United States of ...|  2015-12-15|    136|             English|Released|Every generation ...|Star Wars: The Fo...|       7.261|     19699|    J.J. Abrams|      182|Harrison Ford|Mar...|      257|      245.0| 2068.223624|\n",
            "|/aIGIYJTyOkEVUmEd...| Jurassic Park Col...|Action|Adventure|...|135397|               en|Twenty-two years ...|     17.34|/rhr4y79GpxQF9Isf...|Amblin Entertainm...|United States of ...|  2015-06-06|    124|             English|Released|   The park is open.|      Jurassic World|       6.693|     20652|Colin Trevorrow|       52|Chris Pratt|Bryce...|      423|      150.0| 1671.537444|\n",
            "|/9BBTo63ANSmhC4e6...| The Avengers Coll...|Science Fiction|A...| 24428|               en|When an unexpecte...|   36.0158|/RYMX2wcKCBAr24Uy...|      Marvel Studios|United States of ...|  2012-04-25|    143|English|Hindi|Rus...|Released|Some assembly req...|        The Avengers|       7.741|     31639|    Joss Whedon|      112|Robert Downey Jr....|      631|      220.0| 1518.815515|\n",
            "|/1TUg5pO1VZ4B0Q1a...| The Lion King (Re...|Adventure|Drama|F...|420818|               en|Simba idolizes hi...|   79.3952|/dzBtMocZuJbjLOXv...|Walt Disney Pictu...|United States of ...|  2019-07-12|    118|             English|Released|The king has retu...|       The Lion King|        7.11|     10325|    Jon Favreau|       20|Chiwetel Ejiofor|...|       45|      260.0| 1662.020819|\n",
            "|/7RyHsO4yDXtBv1zU...| The Avengers Coll...|Adventure|Science...|299534|               en|After the devasta...|   63.2407|/ulzhLuWrPK07P1Yk...|      Marvel Studios|United States of ...|  2019-04-24|    181|English|Japanese|...|Released|  Avenge the fallen.|   Avengers: Endgame|       8.237|     26258|      Joe Russo|      105|Robert Downey Jr....|      593|      356.0|   2799.4391|\n",
            "|/6YwkGolwdOMNpbTO...| The Avengers Coll...|Action|Adventure|...| 99861|               en|When Tony Stark t...|   24.9273|/4ssDuvEDkSArWEdy...|      Marvel Studios|United States of ...|  2015-04-22|    141|             English|Released| A new age has come.|Avengers: Age of ...|       7.271|     23374|    Joss Whedon|       72|Robert Downey Jr....|      636|      365.0| 1405.403694|\n",
            "|/6WA9stUMbIkEPxn3...| Jurassic Park Col...|Action|Adventure|...|351286|               en|Three years after...|    57.162|/270MrJNqJovumHXG...|Amblin Entertainm...|United States of ...|  2018-06-06|    129|     English|Russian|Released|   The park is gone.|Jurassic World: F...|       6.538|     12023|    J.A. Bayona|       39|Chris Pratt|Bryce...|      381|      170.0| 1310.466296|\n",
            "|/b6ZJZHUdMEFECvGi...| Black Panther Col...|Action|Adventure|...|284054|               en|King T'Challa ret...|   72.9206|/uxzzxijgPIY7slzF...|      Marvel Studios|United States of ...|  2018-02-13|    135|English|Korean|Sw...|Released| Long live the king.|       Black Panther|       7.373|     22516|   Ryan Coogler|       66|Chadwick Boseman|...|      557|      200.0| 1349.926083|\n",
            "|/mabuNsGJgRuCTuGq...| The Incredibles C...|Action|Adventure|...|260513|               en|Elastigirl spring...|   10.4127|/9lFKBtaVIhP7E2Pk...|Walt Disney Pictu...|United States of ...|  2018-06-14|    118|             English|Released|It's been too lon...|       Incredibles 2|       7.455|     13039|      Brad Bird|       48|Craig T. Nelson|H...|      259|      200.0| 1242.805359|\n",
            "|/u2bZhH3nTf0So0UI...|    Frozen Collection|Animation|Family|...|109445|               en|Young princess An...|   20.8509|/m4uhSpErBKprhscl...|Walt Disney Pictu...|United States of ...|  2013-11-20|    102|             English|Released|Only the act of t...|              Frozen|       7.247|     16819|     Chris Buck|       60|Kristen Bell|Idin...|      284|      150.0| 1274.219009|\n",
            "|/AoSZyb37ljMAxw0R...|    Frozen Collection|Family|Animation|...|330457|               en|Elsa, Anna, Krist...|   13.7765|/mINJaa34MtknCYl5...|Walt Disney Pictu...|United States of ...|  2019-11-20|    103|             English|Released|The past is not w...|           Frozen II|       7.249|      9884|   Jennifer Lee|       64|Kristen Bell|Idin...|       39|      150.0| 1453.683476|\n",
            "|/n5A7brJCjejceZmH...| Harry Potter Coll...|   Fantasy|Adventure| 12445|               en|Harry, Ron and He...|   19.8878|/c54HpQmuwXjHq2C9...|Warner Bros. Pict...|United Kingdom|Un...|  2011-07-12|    130|             English|Released|        It all ends.|Harry Potter and ...|       8.087|     20978|    David Yates|      104|Daniel Radcliffe|...|      154|      125.0| 1341.511219|\n",
            "|/5Iw7zQTHVRBOYpA0...| Star Wars Collection|Adventure|Action|...|181808|               en|Rey develops her ...|   74.7713|/kOVEVeg59E0wsnXm...|      Lucasfilm Ltd.|United States of ...|  2017-12-13|    152|             English|Released|Darkness rises......|Star Wars: The La...|       6.778|     15559|   Rian Johnson|      110|Mark Hamill|Carri...|      213|      200.0|  1332.69883|\n",
            "+--------------------+---------------------+--------------------+------+-----------------+--------------------+----------+--------------------+--------------------+--------------------+------------+-------+--------------------+--------+--------------------+--------------------+------------+----------+---------------+---------+--------------------+---------+-----------+------------+\n",
            "\n"
          ]
        }
      ],
      "source": [
        "copy = copy.filter(\n",
        "    (col(\"budget_musd\").isNotNull()) &\n",
        "    (col(\"revenue_musd\").isNotNull()) &\n",
        "    (col(\"runtime\").isNotNull()) &\n",
        "    (col(\"overview\").isNotNull()) &\n",
        "    (col(\"tagline\").isNotNull()) &\n",
        "    (col(\"belongs_to_collection\").isNotNull()) &\n",
        "    (col(\"genres\").isNotNull()) &\n",
        "    (col(\"spoken_languages\").isNotNull()) &\n",
        "    (col(\"production_countries\").isNotNull()) &\n",
        "    (col(\"production_companies\").isNotNull()) &\n",
        "    (col(\"popularity\").isNotNull()) &\n",
        "    (col(\"vote_average\").isNotNull()) &\n",
        "    (col(\"vote_count\").isNotNull()) &\n",
        "    (col(\"release_date\").isNotNull()) &\n",
        "    (col(\"poster_path\").isNotNull()) &\n",
        "    (col(\"cast\").isNotNull())\n",
        ")\n",
        "copy.show()"
      ]
    },
    {
      "cell_type": "markdown",
      "metadata": {},
      "source": [
        "Filtering the dataframe to include only 'Released' movies, then dropping 'status' "
      ]
    },
    {
      "cell_type": "code",
      "execution_count": 193,
      "metadata": {
        "colab": {
          "base_uri": "https://localhost:8080/"
        },
        "id": "7e6y_NGma7tm",
        "outputId": "c1935081-34e7-4863-c8a9-a80996a888a6"
      },
      "outputs": [
        {
          "name": "stdout",
          "output_type": "stream",
          "text": [
            "+--------------------+---------------------+--------------------+------+-----------------+--------------------+----------+--------------------+--------------------+--------------------+------------+-------+--------------------+--------------------+--------------------+------------+----------+---------------+---------+--------------------+---------+-----------+------------+\n",
            "|       backdrop_path|belongs_to_collection|              genres|    id|original_language|            overview|popularity|         poster_path|production_companies|production_countries|release_date|runtime|    spoken_languages|             tagline|               title|vote_average|vote_count|       director|cast_size|                cast|crew_size|budget_musd|revenue_musd|\n",
            "+--------------------+---------------------+--------------------+------+-----------------+--------------------+----------+--------------------+--------------------+--------------------+------------+-------+--------------------+--------------------+--------------------+------------+----------+---------------+---------+--------------------+---------+-----------+------------+\n",
            "|/cHkhb5A4gQRK6zs6...| The Fast and the ...|Action|Thriller|C...|168259|               en|Deckard Shaw seek...|   15.1569|/wurKlC3VKUgcfsn0...|Original Film|One...|United States of ...|  2015-04-01|    137|Arabic|English|Sp...|Vengeance hits home.|           Furious 7|       7.226|     10779|      James Wan|       48|Vin Diesel|Paul W...|      223|      190.0|      1515.4|\n",
            "|/mDfJG3LC3Dqb67AZ...| The Avengers Coll...|Adventure|Action|...|299536|               en|As the Avengers a...|  110.6769|/7WsyChQLEftFiDOV...|      Marvel Studios|United States of ...|  2018-04-25|    149|       English|Xhosa|Destiny arrives a...|Avengers: Infinit...|       8.235|     30442|      Joe Russo|       69|Robert Downey Jr....|      724|      300.0| 2052.415039|\n",
            "|/vL5LR6WdxWPjLPFR...|    Avatar Collection|Action|Adventure|...| 19995|               en|In the 22nd centu...|   27.7054|/kyeqWdyUXW608qlY...|Dune Entertainmen...|United States of ...|  2009-12-15|    162|     English|Spanish|Enter the world o...|              Avatar|       7.588|     32166|  James Cameron|       65|Sam Worthington|Z...|      986|      237.0| 2923.706026|\n",
            "|/k6EOrckWFuz7I4z4...| Star Wars Collection|Adventure|Action|...|140607|               en|Thirty years afte...|   16.3522|/wqnLdwVXoBjKibFR...|Lucasfilm Ltd.|Ba...|United States of ...|  2015-12-15|    136|             English|Every generation ...|Star Wars: The Fo...|       7.261|     19699|    J.J. Abrams|      182|Harrison Ford|Mar...|      257|      245.0| 2068.223624|\n",
            "|/aIGIYJTyOkEVUmEd...| Jurassic Park Col...|Action|Adventure|...|135397|               en|Twenty-two years ...|     17.34|/rhr4y79GpxQF9Isf...|Amblin Entertainm...|United States of ...|  2015-06-06|    124|             English|   The park is open.|      Jurassic World|       6.693|     20652|Colin Trevorrow|       52|Chris Pratt|Bryce...|      423|      150.0| 1671.537444|\n",
            "|/9BBTo63ANSmhC4e6...| The Avengers Coll...|Science Fiction|A...| 24428|               en|When an unexpecte...|   36.0158|/RYMX2wcKCBAr24Uy...|      Marvel Studios|United States of ...|  2012-04-25|    143|English|Hindi|Rus...|Some assembly req...|        The Avengers|       7.741|     31639|    Joss Whedon|      112|Robert Downey Jr....|      631|      220.0| 1518.815515|\n",
            "|/1TUg5pO1VZ4B0Q1a...| The Lion King (Re...|Adventure|Drama|F...|420818|               en|Simba idolizes hi...|   79.3952|/dzBtMocZuJbjLOXv...|Walt Disney Pictu...|United States of ...|  2019-07-12|    118|             English|The king has retu...|       The Lion King|        7.11|     10325|    Jon Favreau|       20|Chiwetel Ejiofor|...|       45|      260.0| 1662.020819|\n",
            "|/7RyHsO4yDXtBv1zU...| The Avengers Coll...|Adventure|Science...|299534|               en|After the devasta...|   63.2407|/ulzhLuWrPK07P1Yk...|      Marvel Studios|United States of ...|  2019-04-24|    181|English|Japanese|...|  Avenge the fallen.|   Avengers: Endgame|       8.237|     26258|      Joe Russo|      105|Robert Downey Jr....|      593|      356.0|   2799.4391|\n",
            "|/6YwkGolwdOMNpbTO...| The Avengers Coll...|Action|Adventure|...| 99861|               en|When Tony Stark t...|   24.9273|/4ssDuvEDkSArWEdy...|      Marvel Studios|United States of ...|  2015-04-22|    141|             English| A new age has come.|Avengers: Age of ...|       7.271|     23374|    Joss Whedon|       72|Robert Downey Jr....|      636|      365.0| 1405.403694|\n",
            "|/6WA9stUMbIkEPxn3...| Jurassic Park Col...|Action|Adventure|...|351286|               en|Three years after...|    57.162|/270MrJNqJovumHXG...|Amblin Entertainm...|United States of ...|  2018-06-06|    129|     English|Russian|   The park is gone.|Jurassic World: F...|       6.538|     12023|    J.A. Bayona|       39|Chris Pratt|Bryce...|      381|      170.0| 1310.466296|\n",
            "|/b6ZJZHUdMEFECvGi...| Black Panther Col...|Action|Adventure|...|284054|               en|King T'Challa ret...|   72.9206|/uxzzxijgPIY7slzF...|      Marvel Studios|United States of ...|  2018-02-13|    135|English|Korean|Sw...| Long live the king.|       Black Panther|       7.373|     22516|   Ryan Coogler|       66|Chadwick Boseman|...|      557|      200.0| 1349.926083|\n",
            "|/mabuNsGJgRuCTuGq...| The Incredibles C...|Action|Adventure|...|260513|               en|Elastigirl spring...|   10.4127|/9lFKBtaVIhP7E2Pk...|Walt Disney Pictu...|United States of ...|  2018-06-14|    118|             English|It's been too lon...|       Incredibles 2|       7.455|     13039|      Brad Bird|       48|Craig T. Nelson|H...|      259|      200.0| 1242.805359|\n",
            "|/u2bZhH3nTf0So0UI...|    Frozen Collection|Animation|Family|...|109445|               en|Young princess An...|   20.8509|/m4uhSpErBKprhscl...|Walt Disney Pictu...|United States of ...|  2013-11-20|    102|             English|Only the act of t...|              Frozen|       7.247|     16819|     Chris Buck|       60|Kristen Bell|Idin...|      284|      150.0| 1274.219009|\n",
            "|/AoSZyb37ljMAxw0R...|    Frozen Collection|Family|Animation|...|330457|               en|Elsa, Anna, Krist...|   13.7765|/mINJaa34MtknCYl5...|Walt Disney Pictu...|United States of ...|  2019-11-20|    103|             English|The past is not w...|           Frozen II|       7.249|      9884|   Jennifer Lee|       64|Kristen Bell|Idin...|       39|      150.0| 1453.683476|\n",
            "|/n5A7brJCjejceZmH...| Harry Potter Coll...|   Fantasy|Adventure| 12445|               en|Harry, Ron and He...|   19.8878|/c54HpQmuwXjHq2C9...|Warner Bros. Pict...|United Kingdom|Un...|  2011-07-12|    130|             English|        It all ends.|Harry Potter and ...|       8.087|     20978|    David Yates|      104|Daniel Radcliffe|...|      154|      125.0| 1341.511219|\n",
            "|/5Iw7zQTHVRBOYpA0...| Star Wars Collection|Adventure|Action|...|181808|               en|Rey develops her ...|   74.7713|/kOVEVeg59E0wsnXm...|      Lucasfilm Ltd.|United States of ...|  2017-12-13|    152|             English|Darkness rises......|Star Wars: The La...|       6.778|     15559|   Rian Johnson|      110|Mark Hamill|Carri...|      213|      200.0|  1332.69883|\n",
            "+--------------------+---------------------+--------------------+------+-----------------+--------------------+----------+--------------------+--------------------+--------------------+------------+-------+--------------------+--------------------+--------------------+------------+----------+---------------+---------+--------------------+---------+-----------+------------+\n",
            "\n"
          ]
        }
      ],
      "source": [
        "copy = copy.filter(col(\"status\") == \"Released\").drop(\"status\")\n",
        "copy.show()"
      ]
    },
    {
      "cell_type": "markdown",
      "metadata": {
        "id": "68KaHjSia8QH"
      },
      "source": [
        "Reordering columns, and finalizing dataframe by resetting the columns' indexes."
      ]
    },
    {
      "cell_type": "code",
      "execution_count": 194,
      "metadata": {
        "colab": {
          "base_uri": "https://localhost:8080/"
        },
        "id": "zpj6pYOVIe2s",
        "outputId": "90c0c6f8-00fc-4fb9-9323-0cbb04de13bb"
      },
      "outputs": [
        {
          "name": "stdout",
          "output_type": "stream",
          "text": [
            "+------+--------------------+--------------------+------------+--------------------+---------------------+-----------------+-----------+------------+--------------------+--------------------+----------+------------+----------+-------+--------------------+--------------------+--------------------+--------------------+---------+---------------+---------+\n",
            "|    id|               title|             tagline|release_date|              genres|belongs_to_collection|original_language|budget_musd|revenue_musd|production_companies|production_countries|vote_count|vote_average|popularity|runtime|            overview|    spoken_languages|         poster_path|                cast|cast_size|       director|crew_size|\n",
            "+------+--------------------+--------------------+------------+--------------------+---------------------+-----------------+-----------+------------+--------------------+--------------------+----------+------------+----------+-------+--------------------+--------------------+--------------------+--------------------+---------+---------------+---------+\n",
            "|168259|           Furious 7|Vengeance hits home.|  2015-04-01|Action|Thriller|C...| The Fast and the ...|               en|      190.0|      1515.4|Original Film|One...|United States of ...|     10779|       7.226|   15.1569|    137|Deckard Shaw seek...|Arabic|English|Sp...|/wurKlC3VKUgcfsn0...|Vin Diesel|Paul W...|       48|      James Wan|      223|\n",
            "|299536|Avengers: Infinit...|Destiny arrives a...|  2018-04-25|Adventure|Action|...| The Avengers Coll...|               en|      300.0| 2052.415039|      Marvel Studios|United States of ...|     30442|       8.235|  110.6769|    149|As the Avengers a...|       English|Xhosa|/7WsyChQLEftFiDOV...|Robert Downey Jr....|       69|      Joe Russo|      724|\n",
            "| 19995|              Avatar|Enter the world o...|  2009-12-15|Action|Adventure|...|    Avatar Collection|               en|      237.0| 2923.706026|Dune Entertainmen...|United States of ...|     32166|       7.588|   27.7054|    162|In the 22nd centu...|     English|Spanish|/kyeqWdyUXW608qlY...|Sam Worthington|Z...|       65|  James Cameron|      986|\n",
            "|140607|Star Wars: The Fo...|Every generation ...|  2015-12-15|Adventure|Action|...| Star Wars Collection|               en|      245.0| 2068.223624|Lucasfilm Ltd.|Ba...|United States of ...|     19699|       7.261|   16.3522|    136|Thirty years afte...|             English|/wqnLdwVXoBjKibFR...|Harrison Ford|Mar...|      182|    J.J. Abrams|      257|\n",
            "|135397|      Jurassic World|   The park is open.|  2015-06-06|Action|Adventure|...| Jurassic Park Col...|               en|      150.0| 1671.537444|Amblin Entertainm...|United States of ...|     20652|       6.693|     17.34|    124|Twenty-two years ...|             English|/rhr4y79GpxQF9Isf...|Chris Pratt|Bryce...|       52|Colin Trevorrow|      423|\n",
            "| 24428|        The Avengers|Some assembly req...|  2012-04-25|Science Fiction|A...| The Avengers Coll...|               en|      220.0| 1518.815515|      Marvel Studios|United States of ...|     31639|       7.741|   36.0158|    143|When an unexpecte...|English|Hindi|Rus...|/RYMX2wcKCBAr24Uy...|Robert Downey Jr....|      112|    Joss Whedon|      631|\n",
            "|420818|       The Lion King|The king has retu...|  2019-07-12|Adventure|Drama|F...| The Lion King (Re...|               en|      260.0| 1662.020819|Walt Disney Pictu...|United States of ...|     10325|        7.11|   79.3952|    118|Simba idolizes hi...|             English|/dzBtMocZuJbjLOXv...|Chiwetel Ejiofor|...|       20|    Jon Favreau|       45|\n",
            "|299534|   Avengers: Endgame|  Avenge the fallen.|  2019-04-24|Adventure|Science...| The Avengers Coll...|               en|      356.0|   2799.4391|      Marvel Studios|United States of ...|     26258|       8.237|   63.2407|    181|After the devasta...|English|Japanese|...|/ulzhLuWrPK07P1Yk...|Robert Downey Jr....|      105|      Joe Russo|      593|\n",
            "| 99861|Avengers: Age of ...| A new age has come.|  2015-04-22|Action|Adventure|...| The Avengers Coll...|               en|      365.0| 1405.403694|      Marvel Studios|United States of ...|     23374|       7.271|   24.9273|    141|When Tony Stark t...|             English|/4ssDuvEDkSArWEdy...|Robert Downey Jr....|       72|    Joss Whedon|      636|\n",
            "|351286|Jurassic World: F...|   The park is gone.|  2018-06-06|Action|Adventure|...| Jurassic Park Col...|               en|      170.0| 1310.466296|Amblin Entertainm...|United States of ...|     12023|       6.538|    57.162|    129|Three years after...|     English|Russian|/270MrJNqJovumHXG...|Chris Pratt|Bryce...|       39|    J.A. Bayona|      381|\n",
            "|284054|       Black Panther| Long live the king.|  2018-02-13|Action|Adventure|...| Black Panther Col...|               en|      200.0| 1349.926083|      Marvel Studios|United States of ...|     22516|       7.373|   72.9206|    135|King T'Challa ret...|English|Korean|Sw...|/uxzzxijgPIY7slzF...|Chadwick Boseman|...|       66|   Ryan Coogler|      557|\n",
            "|260513|       Incredibles 2|It's been too lon...|  2018-06-14|Action|Adventure|...| The Incredibles C...|               en|      200.0| 1242.805359|Walt Disney Pictu...|United States of ...|     13039|       7.455|   10.4127|    118|Elastigirl spring...|             English|/9lFKBtaVIhP7E2Pk...|Craig T. Nelson|H...|       48|      Brad Bird|      259|\n",
            "|109445|              Frozen|Only the act of t...|  2013-11-20|Animation|Family|...|    Frozen Collection|               en|      150.0| 1274.219009|Walt Disney Pictu...|United States of ...|     16819|       7.247|   20.8509|    102|Young princess An...|             English|/m4uhSpErBKprhscl...|Kristen Bell|Idin...|       60|     Chris Buck|      284|\n",
            "|330457|           Frozen II|The past is not w...|  2019-11-20|Family|Animation|...|    Frozen Collection|               en|      150.0| 1453.683476|Walt Disney Pictu...|United States of ...|      9884|       7.249|   13.7765|    103|Elsa, Anna, Krist...|             English|/mINJaa34MtknCYl5...|Kristen Bell|Idin...|       64|   Jennifer Lee|       39|\n",
            "| 12445|Harry Potter and ...|        It all ends.|  2011-07-12|   Fantasy|Adventure| Harry Potter Coll...|               en|      125.0| 1341.511219|Warner Bros. Pict...|United Kingdom|Un...|     20978|       8.087|   19.8878|    130|Harry, Ron and He...|             English|/c54HpQmuwXjHq2C9...|Daniel Radcliffe|...|      104|    David Yates|      154|\n",
            "|181808|Star Wars: The La...|Darkness rises......|  2017-12-13|Adventure|Action|...| Star Wars Collection|               en|      200.0|  1332.69883|      Lucasfilm Ltd.|United States of ...|     15559|       6.778|   74.7713|    152|Rey develops her ...|             English|/kOVEVeg59E0wsnXm...|Mark Hamill|Carri...|      110|   Rian Johnson|      213|\n",
            "+------+--------------------+--------------------+------------+--------------------+---------------------+-----------------+-----------+------------+--------------------+--------------------+----------+------------+----------+-------+--------------------+--------------------+--------------------+--------------------+---------+---------------+---------+\n",
            "\n"
          ]
        }
      ],
      "source": [
        "reordered_columns = ['id', 'title', 'tagline', 'release_date', 'genres', 'belongs_to_collection',\n",
        "                     'original_language', 'budget_musd', 'revenue_musd', 'production_companies',\n",
        "                     'production_countries', 'vote_count', 'vote_average', 'popularity', 'runtime',\n",
        "                     'overview', 'spoken_languages', 'poster_path', 'cast', 'cast_size', 'director', 'crew_size']\n",
        "copy = copy.select(reordered_columns)\n",
        "copy.show()"
      ]
    },
    {
      "cell_type": "markdown",
      "metadata": {
        "id": "Sh-cVpCGbGTE"
      },
      "source": [
        "Exporting the final preprocessed dataframe to a downloadable CSV format."
      ]
    },
    {
      "cell_type": "code",
      "execution_count": 195,
      "metadata": {
        "id": "6ksScaDjbKfa"
      },
      "outputs": [],
      "source": [
        "copy.coalesce(1).write.mode(\"overwrite\").csv(\"final_data\")"
      ]
    }
  ],
  "metadata": {
    "colab": {
      "provenance": []
    },
    "kernelspec": {
      "display_name": "Python 3",
      "name": "python3"
    },
    "language_info": {
      "name": "python"
    }
  },
  "nbformat": 4,
  "nbformat_minor": 0
}
